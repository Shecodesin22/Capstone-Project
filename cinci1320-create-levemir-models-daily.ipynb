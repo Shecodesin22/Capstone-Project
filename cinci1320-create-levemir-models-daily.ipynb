{
 "cells": [
  {
   "cell_type": "code",
   "execution_count": 1,
   "metadata": {},
   "outputs": [],
   "source": [
    "import pandas as pd\n",
    "import numpy as np\n",
    "import seaborn as sns\n",
    "import matplotlib.pyplot as plt"
   ]
  },
  {
   "cell_type": "code",
   "execution_count": 2,
   "metadata": {},
   "outputs": [
    {
     "name": "stderr",
     "output_type": "stream",
     "text": [
      "C:\\Users\\sarah\\anaconda3\\lib\\site-packages\\IPython\\core\\interactiveshell.py:3444: DtypeWarning: Columns (17,18,19,47,48,49,50,51,52,55,56,57,58,59,60,61,62,63,64,65,66,67,68,69,70,71,72,73,74,75,76,77,78,79) have mixed types.Specify dtype option on import or set low_memory=False.\n",
      "  exec(code_obj, self.user_global_ns, self.user_ns)\n"
     ]
    }
   ],
   "source": [
    "cinci_1320 = pd.read_csv('./data/cinci1320.csv', index_col='Date_of_Payment', parse_dates=True).sort_index()"
   ]
  },
  {
   "cell_type": "code",
   "execution_count": 3,
   "metadata": {},
   "outputs": [
    {
     "data": {
      "text/html": [
       "<div>\n",
       "<style scoped>\n",
       "    .dataframe tbody tr th:only-of-type {\n",
       "        vertical-align: middle;\n",
       "    }\n",
       "\n",
       "    .dataframe tbody tr th {\n",
       "        vertical-align: top;\n",
       "    }\n",
       "\n",
       "    .dataframe thead th {\n",
       "        text-align: right;\n",
       "    }\n",
       "</style>\n",
       "<table border=\"1\" class=\"dataframe\">\n",
       "  <thead>\n",
       "    <tr style=\"text-align: right;\">\n",
       "      <th></th>\n",
       "      <th>Change_Type</th>\n",
       "      <th>Covered_Recipient_Type</th>\n",
       "      <th>Physician_Profile_ID</th>\n",
       "      <th>Physician_First_Name</th>\n",
       "      <th>Physician_Middle_Name</th>\n",
       "      <th>Physician_Last_Name</th>\n",
       "      <th>Physician_Name_Suffix</th>\n",
       "      <th>Recipient_Primary_Business_Street_Address_Line1</th>\n",
       "      <th>Recipient_Primary_Business_Street_Address_Line2</th>\n",
       "      <th>Recipient_City</th>\n",
       "      <th>...</th>\n",
       "      <th>xarelto</th>\n",
       "      <th>victoza</th>\n",
       "      <th>humira</th>\n",
       "      <th>levemir</th>\n",
       "      <th>invokana</th>\n",
       "      <th>farxiga</th>\n",
       "      <th>entresto</th>\n",
       "      <th>chantix</th>\n",
       "      <th>myrbetriq</th>\n",
       "      <th>toujeo</th>\n",
       "    </tr>\n",
       "    <tr>\n",
       "      <th>Date_of_Payment</th>\n",
       "      <th></th>\n",
       "      <th></th>\n",
       "      <th></th>\n",
       "      <th></th>\n",
       "      <th></th>\n",
       "      <th></th>\n",
       "      <th></th>\n",
       "      <th></th>\n",
       "      <th></th>\n",
       "      <th></th>\n",
       "      <th></th>\n",
       "      <th></th>\n",
       "      <th></th>\n",
       "      <th></th>\n",
       "      <th></th>\n",
       "      <th></th>\n",
       "      <th></th>\n",
       "      <th></th>\n",
       "      <th></th>\n",
       "      <th></th>\n",
       "      <th></th>\n",
       "    </tr>\n",
       "  </thead>\n",
       "  <tbody>\n",
       "    <tr>\n",
       "      <th>2013-08-01</th>\n",
       "      <td>UNCHANGED</td>\n",
       "      <td>Covered Recipient Physician</td>\n",
       "      <td>148974</td>\n",
       "      <td>RODNEY</td>\n",
       "      <td>NaN</td>\n",
       "      <td>VIVIAN</td>\n",
       "      <td>NaN</td>\n",
       "      <td>8000 5 MILE RD</td>\n",
       "      <td>240</td>\n",
       "      <td>CINCINNATI</td>\n",
       "      <td>...</td>\n",
       "      <td>0</td>\n",
       "      <td>0</td>\n",
       "      <td>0</td>\n",
       "      <td>0</td>\n",
       "      <td>0</td>\n",
       "      <td>0</td>\n",
       "      <td>0</td>\n",
       "      <td>0</td>\n",
       "      <td>0</td>\n",
       "      <td>0</td>\n",
       "    </tr>\n",
       "    <tr>\n",
       "      <th>2013-08-01</th>\n",
       "      <td>UNCHANGED</td>\n",
       "      <td>Covered Recipient Physician</td>\n",
       "      <td>58931</td>\n",
       "      <td>PAUL</td>\n",
       "      <td>JOSEPH</td>\n",
       "      <td>FAVORITO</td>\n",
       "      <td>NaN</td>\n",
       "      <td>7575 5 MILE RD</td>\n",
       "      <td>NaN</td>\n",
       "      <td>CINCINNATI</td>\n",
       "      <td>...</td>\n",
       "      <td>0</td>\n",
       "      <td>0</td>\n",
       "      <td>0</td>\n",
       "      <td>0</td>\n",
       "      <td>0</td>\n",
       "      <td>0</td>\n",
       "      <td>0</td>\n",
       "      <td>0</td>\n",
       "      <td>0</td>\n",
       "      <td>0</td>\n",
       "    </tr>\n",
       "    <tr>\n",
       "      <th>2013-08-01</th>\n",
       "      <td>UNCHANGED</td>\n",
       "      <td>Covered Recipient Physician</td>\n",
       "      <td>812462</td>\n",
       "      <td>ALFRED</td>\n",
       "      <td>JAMES</td>\n",
       "      <td>SUGAWARA</td>\n",
       "      <td>NaN</td>\n",
       "      <td>8477 FOXCROFT DR</td>\n",
       "      <td>NaN</td>\n",
       "      <td>CINCINNATI</td>\n",
       "      <td>...</td>\n",
       "      <td>0</td>\n",
       "      <td>0</td>\n",
       "      <td>0</td>\n",
       "      <td>0</td>\n",
       "      <td>0</td>\n",
       "      <td>0</td>\n",
       "      <td>0</td>\n",
       "      <td>0</td>\n",
       "      <td>0</td>\n",
       "      <td>0</td>\n",
       "    </tr>\n",
       "    <tr>\n",
       "      <th>2013-08-01</th>\n",
       "      <td>UNCHANGED</td>\n",
       "      <td>Covered Recipient Physician</td>\n",
       "      <td>108863</td>\n",
       "      <td>MARK</td>\n",
       "      <td>A</td>\n",
       "      <td>MANEGOLD</td>\n",
       "      <td>NaN</td>\n",
       "      <td>2450 KIPLING AVE</td>\n",
       "      <td>SUITE 104</td>\n",
       "      <td>CINCINNATI</td>\n",
       "      <td>...</td>\n",
       "      <td>0</td>\n",
       "      <td>0</td>\n",
       "      <td>0</td>\n",
       "      <td>0</td>\n",
       "      <td>0</td>\n",
       "      <td>0</td>\n",
       "      <td>0</td>\n",
       "      <td>0</td>\n",
       "      <td>0</td>\n",
       "      <td>0</td>\n",
       "    </tr>\n",
       "    <tr>\n",
       "      <th>2013-08-01</th>\n",
       "      <td>UNCHANGED</td>\n",
       "      <td>Covered Recipient Physician</td>\n",
       "      <td>195441</td>\n",
       "      <td>MANOJKUMAR</td>\n",
       "      <td>S</td>\n",
       "      <td>SINGH</td>\n",
       "      <td>NaN</td>\n",
       "      <td>10600 MONTGOMERY RD</td>\n",
       "      <td>SUITE 200</td>\n",
       "      <td>CINCINNATI</td>\n",
       "      <td>...</td>\n",
       "      <td>0</td>\n",
       "      <td>0</td>\n",
       "      <td>0</td>\n",
       "      <td>0</td>\n",
       "      <td>0</td>\n",
       "      <td>0</td>\n",
       "      <td>0</td>\n",
       "      <td>0</td>\n",
       "      <td>0</td>\n",
       "      <td>0</td>\n",
       "    </tr>\n",
       "  </tbody>\n",
       "</table>\n",
       "<p>5 rows × 89 columns</p>\n",
       "</div>"
      ],
      "text/plain": [
       "                Change_Type       Covered_Recipient_Type  \\\n",
       "Date_of_Payment                                            \n",
       "2013-08-01        UNCHANGED  Covered Recipient Physician   \n",
       "2013-08-01        UNCHANGED  Covered Recipient Physician   \n",
       "2013-08-01        UNCHANGED  Covered Recipient Physician   \n",
       "2013-08-01        UNCHANGED  Covered Recipient Physician   \n",
       "2013-08-01        UNCHANGED  Covered Recipient Physician   \n",
       "\n",
       "                 Physician_Profile_ID Physician_First_Name  \\\n",
       "Date_of_Payment                                              \n",
       "2013-08-01                     148974               RODNEY   \n",
       "2013-08-01                      58931                 PAUL   \n",
       "2013-08-01                     812462               ALFRED   \n",
       "2013-08-01                     108863                 MARK   \n",
       "2013-08-01                     195441           MANOJKUMAR   \n",
       "\n",
       "                Physician_Middle_Name Physician_Last_Name  \\\n",
       "Date_of_Payment                                             \n",
       "2013-08-01                        NaN              VIVIAN   \n",
       "2013-08-01                     JOSEPH            FAVORITO   \n",
       "2013-08-01                      JAMES            SUGAWARA   \n",
       "2013-08-01                          A            MANEGOLD   \n",
       "2013-08-01                          S               SINGH   \n",
       "\n",
       "                Physician_Name_Suffix  \\\n",
       "Date_of_Payment                         \n",
       "2013-08-01                        NaN   \n",
       "2013-08-01                        NaN   \n",
       "2013-08-01                        NaN   \n",
       "2013-08-01                        NaN   \n",
       "2013-08-01                        NaN   \n",
       "\n",
       "                Recipient_Primary_Business_Street_Address_Line1  \\\n",
       "Date_of_Payment                                                   \n",
       "2013-08-01                                       8000 5 MILE RD   \n",
       "2013-08-01                                       7575 5 MILE RD   \n",
       "2013-08-01                                     8477 FOXCROFT DR   \n",
       "2013-08-01                                     2450 KIPLING AVE   \n",
       "2013-08-01                                  10600 MONTGOMERY RD   \n",
       "\n",
       "                Recipient_Primary_Business_Street_Address_Line2  \\\n",
       "Date_of_Payment                                                   \n",
       "2013-08-01                                                  240   \n",
       "2013-08-01                                                  NaN   \n",
       "2013-08-01                                                  NaN   \n",
       "2013-08-01                                            SUITE 104   \n",
       "2013-08-01                                            SUITE 200   \n",
       "\n",
       "                Recipient_City  ... xarelto victoza humira levemir invokana  \\\n",
       "Date_of_Payment                 ...                                           \n",
       "2013-08-01          CINCINNATI  ...       0       0      0       0        0   \n",
       "2013-08-01          CINCINNATI  ...       0       0      0       0        0   \n",
       "2013-08-01          CINCINNATI  ...       0       0      0       0        0   \n",
       "2013-08-01          CINCINNATI  ...       0       0      0       0        0   \n",
       "2013-08-01          CINCINNATI  ...       0       0      0       0        0   \n",
       "\n",
       "                farxiga entresto chantix myrbetriq toujeo  \n",
       "Date_of_Payment                                            \n",
       "2013-08-01            0        0       0         0      0  \n",
       "2013-08-01            0        0       0         0      0  \n",
       "2013-08-01            0        0       0         0      0  \n",
       "2013-08-01            0        0       0         0      0  \n",
       "2013-08-01            0        0       0         0      0  \n",
       "\n",
       "[5 rows x 89 columns]"
      ]
     },
     "execution_count": 3,
     "metadata": {},
     "output_type": "execute_result"
    }
   ],
   "source": [
    "cinci_1320.head()"
   ]
  },
  {
   "cell_type": "code",
   "execution_count": 4,
   "metadata": {},
   "outputs": [
    {
     "data": {
      "text/plain": [
       "UNCHANGED    364686\n",
       "CHANGED         726\n",
       "ADD               1\n",
       "Name: Change_Type, dtype: int64"
      ]
     },
     "execution_count": 4,
     "metadata": {},
     "output_type": "execute_result"
    }
   ],
   "source": [
    "cinci_1320['Change_Type'].value_counts()"
   ]
  },
  {
   "cell_type": "code",
   "execution_count": 5,
   "metadata": {},
   "outputs": [
    {
     "data": {
      "text/plain": [
       "0    359867\n",
       "1      5546\n",
       "Name: levemir, dtype: int64"
      ]
     },
     "execution_count": 5,
     "metadata": {},
     "output_type": "execute_result"
    }
   ],
   "source": [
    "cinci_1320['levemir'].value_counts()"
   ]
  },
  {
   "cell_type": "code",
   "execution_count": 6,
   "metadata": {},
   "outputs": [],
   "source": [
    "levemir = cinci_1320[(cinci_1320['levemir']==1) & (cinci_1320['Number_of_Payments_Included_in_Total_Amount']==1)].copy()"
   ]
  },
  {
   "cell_type": "code",
   "execution_count": 7,
   "metadata": {},
   "outputs": [
    {
     "data": {
      "text/html": [
       "<div>\n",
       "<style scoped>\n",
       "    .dataframe tbody tr th:only-of-type {\n",
       "        vertical-align: middle;\n",
       "    }\n",
       "\n",
       "    .dataframe tbody tr th {\n",
       "        vertical-align: top;\n",
       "    }\n",
       "\n",
       "    .dataframe thead th {\n",
       "        text-align: right;\n",
       "    }\n",
       "</style>\n",
       "<table border=\"1\" class=\"dataframe\">\n",
       "  <thead>\n",
       "    <tr style=\"text-align: right;\">\n",
       "      <th></th>\n",
       "      <th>Change_Type</th>\n",
       "      <th>Covered_Recipient_Type</th>\n",
       "      <th>Physician_Profile_ID</th>\n",
       "      <th>Physician_First_Name</th>\n",
       "      <th>Physician_Middle_Name</th>\n",
       "      <th>Physician_Last_Name</th>\n",
       "      <th>Physician_Name_Suffix</th>\n",
       "      <th>Recipient_Primary_Business_Street_Address_Line1</th>\n",
       "      <th>Recipient_Primary_Business_Street_Address_Line2</th>\n",
       "      <th>Recipient_City</th>\n",
       "      <th>...</th>\n",
       "      <th>xarelto</th>\n",
       "      <th>victoza</th>\n",
       "      <th>humira</th>\n",
       "      <th>levemir</th>\n",
       "      <th>invokana</th>\n",
       "      <th>farxiga</th>\n",
       "      <th>entresto</th>\n",
       "      <th>chantix</th>\n",
       "      <th>myrbetriq</th>\n",
       "      <th>toujeo</th>\n",
       "    </tr>\n",
       "    <tr>\n",
       "      <th>Date_of_Payment</th>\n",
       "      <th></th>\n",
       "      <th></th>\n",
       "      <th></th>\n",
       "      <th></th>\n",
       "      <th></th>\n",
       "      <th></th>\n",
       "      <th></th>\n",
       "      <th></th>\n",
       "      <th></th>\n",
       "      <th></th>\n",
       "      <th></th>\n",
       "      <th></th>\n",
       "      <th></th>\n",
       "      <th></th>\n",
       "      <th></th>\n",
       "      <th></th>\n",
       "      <th></th>\n",
       "      <th></th>\n",
       "      <th></th>\n",
       "      <th></th>\n",
       "      <th></th>\n",
       "    </tr>\n",
       "  </thead>\n",
       "  <tbody>\n",
       "    <tr>\n",
       "      <th>2013-08-01</th>\n",
       "      <td>UNCHANGED</td>\n",
       "      <td>Covered Recipient Physician</td>\n",
       "      <td>238632</td>\n",
       "      <td>DANIEL</td>\n",
       "      <td>B</td>\n",
       "      <td>BARNES</td>\n",
       "      <td>NaN</td>\n",
       "      <td>375 DIXMYTH AVE</td>\n",
       "      <td>NaN</td>\n",
       "      <td>CINCINNATI</td>\n",
       "      <td>...</td>\n",
       "      <td>0</td>\n",
       "      <td>0</td>\n",
       "      <td>0</td>\n",
       "      <td>1</td>\n",
       "      <td>0</td>\n",
       "      <td>0</td>\n",
       "      <td>0</td>\n",
       "      <td>0</td>\n",
       "      <td>0</td>\n",
       "      <td>0</td>\n",
       "    </tr>\n",
       "    <tr>\n",
       "      <th>2013-08-01</th>\n",
       "      <td>UNCHANGED</td>\n",
       "      <td>Covered Recipient Physician</td>\n",
       "      <td>238632</td>\n",
       "      <td>DANIEL</td>\n",
       "      <td>B</td>\n",
       "      <td>BARNES</td>\n",
       "      <td>NaN</td>\n",
       "      <td>375 DIXMYTH AVE</td>\n",
       "      <td>NaN</td>\n",
       "      <td>CINCINNATI</td>\n",
       "      <td>...</td>\n",
       "      <td>0</td>\n",
       "      <td>0</td>\n",
       "      <td>0</td>\n",
       "      <td>1</td>\n",
       "      <td>0</td>\n",
       "      <td>0</td>\n",
       "      <td>0</td>\n",
       "      <td>0</td>\n",
       "      <td>0</td>\n",
       "      <td>0</td>\n",
       "    </tr>\n",
       "    <tr>\n",
       "      <th>2013-08-01</th>\n",
       "      <td>UNCHANGED</td>\n",
       "      <td>Covered Recipient Physician</td>\n",
       "      <td>204210</td>\n",
       "      <td>ROSA</td>\n",
       "      <td>M</td>\n",
       "      <td>ROBLES</td>\n",
       "      <td>NaN</td>\n",
       "      <td>10495 MONTGOMERY RD</td>\n",
       "      <td>STE 17</td>\n",
       "      <td>CINCINNATI</td>\n",
       "      <td>...</td>\n",
       "      <td>0</td>\n",
       "      <td>0</td>\n",
       "      <td>0</td>\n",
       "      <td>1</td>\n",
       "      <td>0</td>\n",
       "      <td>0</td>\n",
       "      <td>0</td>\n",
       "      <td>0</td>\n",
       "      <td>0</td>\n",
       "      <td>0</td>\n",
       "    </tr>\n",
       "    <tr>\n",
       "      <th>2013-08-02</th>\n",
       "      <td>UNCHANGED</td>\n",
       "      <td>Covered Recipient Physician</td>\n",
       "      <td>633374</td>\n",
       "      <td>JAMES</td>\n",
       "      <td>NaN</td>\n",
       "      <td>FRECKA</td>\n",
       "      <td>NaN</td>\n",
       "      <td>9496 SOUTHGATE DR</td>\n",
       "      <td>NaN</td>\n",
       "      <td>CINCINNATI</td>\n",
       "      <td>...</td>\n",
       "      <td>0</td>\n",
       "      <td>0</td>\n",
       "      <td>0</td>\n",
       "      <td>1</td>\n",
       "      <td>0</td>\n",
       "      <td>0</td>\n",
       "      <td>0</td>\n",
       "      <td>0</td>\n",
       "      <td>0</td>\n",
       "      <td>0</td>\n",
       "    </tr>\n",
       "    <tr>\n",
       "      <th>2013-08-02</th>\n",
       "      <td>UNCHANGED</td>\n",
       "      <td>Covered Recipient Physician</td>\n",
       "      <td>242819</td>\n",
       "      <td>LISA</td>\n",
       "      <td>MARIE</td>\n",
       "      <td>JOLIAT</td>\n",
       "      <td>NaN</td>\n",
       "      <td>175 W GALBRAITH RD</td>\n",
       "      <td>NaN</td>\n",
       "      <td>CINCINNATI</td>\n",
       "      <td>...</td>\n",
       "      <td>0</td>\n",
       "      <td>0</td>\n",
       "      <td>0</td>\n",
       "      <td>1</td>\n",
       "      <td>0</td>\n",
       "      <td>0</td>\n",
       "      <td>0</td>\n",
       "      <td>0</td>\n",
       "      <td>0</td>\n",
       "      <td>0</td>\n",
       "    </tr>\n",
       "  </tbody>\n",
       "</table>\n",
       "<p>5 rows × 89 columns</p>\n",
       "</div>"
      ],
      "text/plain": [
       "                Change_Type       Covered_Recipient_Type  \\\n",
       "Date_of_Payment                                            \n",
       "2013-08-01        UNCHANGED  Covered Recipient Physician   \n",
       "2013-08-01        UNCHANGED  Covered Recipient Physician   \n",
       "2013-08-01        UNCHANGED  Covered Recipient Physician   \n",
       "2013-08-02        UNCHANGED  Covered Recipient Physician   \n",
       "2013-08-02        UNCHANGED  Covered Recipient Physician   \n",
       "\n",
       "                 Physician_Profile_ID Physician_First_Name  \\\n",
       "Date_of_Payment                                              \n",
       "2013-08-01                     238632               DANIEL   \n",
       "2013-08-01                     238632               DANIEL   \n",
       "2013-08-01                     204210                 ROSA   \n",
       "2013-08-02                     633374                JAMES   \n",
       "2013-08-02                     242819                 LISA   \n",
       "\n",
       "                Physician_Middle_Name Physician_Last_Name  \\\n",
       "Date_of_Payment                                             \n",
       "2013-08-01                          B              BARNES   \n",
       "2013-08-01                          B              BARNES   \n",
       "2013-08-01                          M              ROBLES   \n",
       "2013-08-02                        NaN              FRECKA   \n",
       "2013-08-02                      MARIE              JOLIAT   \n",
       "\n",
       "                Physician_Name_Suffix  \\\n",
       "Date_of_Payment                         \n",
       "2013-08-01                        NaN   \n",
       "2013-08-01                        NaN   \n",
       "2013-08-01                        NaN   \n",
       "2013-08-02                        NaN   \n",
       "2013-08-02                        NaN   \n",
       "\n",
       "                Recipient_Primary_Business_Street_Address_Line1  \\\n",
       "Date_of_Payment                                                   \n",
       "2013-08-01                                      375 DIXMYTH AVE   \n",
       "2013-08-01                                      375 DIXMYTH AVE   \n",
       "2013-08-01                                  10495 MONTGOMERY RD   \n",
       "2013-08-02                                    9496 SOUTHGATE DR   \n",
       "2013-08-02                                   175 W GALBRAITH RD   \n",
       "\n",
       "                Recipient_Primary_Business_Street_Address_Line2  \\\n",
       "Date_of_Payment                                                   \n",
       "2013-08-01                                                  NaN   \n",
       "2013-08-01                                                  NaN   \n",
       "2013-08-01                                               STE 17   \n",
       "2013-08-02                                                  NaN   \n",
       "2013-08-02                                                  NaN   \n",
       "\n",
       "                Recipient_City  ... xarelto victoza humira levemir invokana  \\\n",
       "Date_of_Payment                 ...                                           \n",
       "2013-08-01          CINCINNATI  ...       0       0      0       1        0   \n",
       "2013-08-01          CINCINNATI  ...       0       0      0       1        0   \n",
       "2013-08-01          CINCINNATI  ...       0       0      0       1        0   \n",
       "2013-08-02          CINCINNATI  ...       0       0      0       1        0   \n",
       "2013-08-02          CINCINNATI  ...       0       0      0       1        0   \n",
       "\n",
       "                farxiga entresto chantix myrbetriq toujeo  \n",
       "Date_of_Payment                                            \n",
       "2013-08-01            0        0       0         0      0  \n",
       "2013-08-01            0        0       0         0      0  \n",
       "2013-08-01            0        0       0         0      0  \n",
       "2013-08-02            0        0       0         0      0  \n",
       "2013-08-02            0        0       0         0      0  \n",
       "\n",
       "[5 rows x 89 columns]"
      ]
     },
     "execution_count": 7,
     "metadata": {},
     "output_type": "execute_result"
    }
   ],
   "source": [
    "levemir.head()"
   ]
  },
  {
   "cell_type": "code",
   "execution_count": 8,
   "metadata": {},
   "outputs": [
    {
     "data": {
      "text/plain": [
       "1    5546\n",
       "Name: levemir, dtype: int64"
      ]
     },
     "execution_count": 8,
     "metadata": {},
     "output_type": "execute_result"
    }
   ],
   "source": [
    "levemir['levemir'].value_counts()"
   ]
  },
  {
   "cell_type": "code",
   "execution_count": 9,
   "metadata": {},
   "outputs": [
    {
     "data": {
      "text/plain": [
       "UNCHANGED    5546\n",
       "Name: Change_Type, dtype: int64"
      ]
     },
     "execution_count": 9,
     "metadata": {},
     "output_type": "execute_result"
    }
   ],
   "source": [
    "levemir['Change_Type'].value_counts()"
   ]
  },
  {
   "cell_type": "code",
   "execution_count": 10,
   "metadata": {},
   "outputs": [],
   "source": [
    "levemir['leve_dollars'] = [k if ((i ==1) & (j ==1)) else 0 for i, j, k in zip(levemir['levemir'], levemir['Number_of_Payments_Included_in_Total_Amount'], levemir['Total_Amount_of_Payment_USDollars'])]\n",
    "\n",
    "#Ben Peck helped me with this during office hours.  I was oh-so-close but not quite there!"
   ]
  },
  {
   "cell_type": "code",
   "execution_count": 11,
   "metadata": {},
   "outputs": [
    {
     "data": {
      "text/plain": [
       "89209.36"
      ]
     },
     "execution_count": 11,
     "metadata": {},
     "output_type": "execute_result"
    }
   ],
   "source": [
    "levemir['leve_dollars'].sum()"
   ]
  },
  {
   "cell_type": "code",
   "execution_count": 12,
   "metadata": {},
   "outputs": [
    {
     "data": {
      "text/html": [
       "<div>\n",
       "<style scoped>\n",
       "    .dataframe tbody tr th:only-of-type {\n",
       "        vertical-align: middle;\n",
       "    }\n",
       "\n",
       "    .dataframe tbody tr th {\n",
       "        vertical-align: top;\n",
       "    }\n",
       "\n",
       "    .dataframe thead th {\n",
       "        text-align: right;\n",
       "    }\n",
       "</style>\n",
       "<table border=\"1\" class=\"dataframe\">\n",
       "  <thead>\n",
       "    <tr style=\"text-align: right;\">\n",
       "      <th></th>\n",
       "      <th>Change_Type</th>\n",
       "      <th>Covered_Recipient_Type</th>\n",
       "      <th>Physician_Profile_ID</th>\n",
       "      <th>Physician_First_Name</th>\n",
       "      <th>Physician_Middle_Name</th>\n",
       "      <th>Physician_Last_Name</th>\n",
       "      <th>Physician_Name_Suffix</th>\n",
       "      <th>Recipient_Primary_Business_Street_Address_Line1</th>\n",
       "      <th>Recipient_Primary_Business_Street_Address_Line2</th>\n",
       "      <th>Recipient_City</th>\n",
       "      <th>...</th>\n",
       "      <th>victoza</th>\n",
       "      <th>humira</th>\n",
       "      <th>levemir</th>\n",
       "      <th>invokana</th>\n",
       "      <th>farxiga</th>\n",
       "      <th>entresto</th>\n",
       "      <th>chantix</th>\n",
       "      <th>myrbetriq</th>\n",
       "      <th>toujeo</th>\n",
       "      <th>leve_dollars</th>\n",
       "    </tr>\n",
       "    <tr>\n",
       "      <th>Date_of_Payment</th>\n",
       "      <th></th>\n",
       "      <th></th>\n",
       "      <th></th>\n",
       "      <th></th>\n",
       "      <th></th>\n",
       "      <th></th>\n",
       "      <th></th>\n",
       "      <th></th>\n",
       "      <th></th>\n",
       "      <th></th>\n",
       "      <th></th>\n",
       "      <th></th>\n",
       "      <th></th>\n",
       "      <th></th>\n",
       "      <th></th>\n",
       "      <th></th>\n",
       "      <th></th>\n",
       "      <th></th>\n",
       "      <th></th>\n",
       "      <th></th>\n",
       "      <th></th>\n",
       "    </tr>\n",
       "  </thead>\n",
       "  <tbody>\n",
       "    <tr>\n",
       "      <th>2013-08-01</th>\n",
       "      <td>UNCHANGED</td>\n",
       "      <td>Covered Recipient Physician</td>\n",
       "      <td>238632</td>\n",
       "      <td>DANIEL</td>\n",
       "      <td>B</td>\n",
       "      <td>BARNES</td>\n",
       "      <td>NaN</td>\n",
       "      <td>375 DIXMYTH AVE</td>\n",
       "      <td>NaN</td>\n",
       "      <td>CINCINNATI</td>\n",
       "      <td>...</td>\n",
       "      <td>0</td>\n",
       "      <td>0</td>\n",
       "      <td>1</td>\n",
       "      <td>0</td>\n",
       "      <td>0</td>\n",
       "      <td>0</td>\n",
       "      <td>0</td>\n",
       "      <td>0</td>\n",
       "      <td>0</td>\n",
       "      <td>9.13</td>\n",
       "    </tr>\n",
       "    <tr>\n",
       "      <th>2013-08-01</th>\n",
       "      <td>UNCHANGED</td>\n",
       "      <td>Covered Recipient Physician</td>\n",
       "      <td>238632</td>\n",
       "      <td>DANIEL</td>\n",
       "      <td>B</td>\n",
       "      <td>BARNES</td>\n",
       "      <td>NaN</td>\n",
       "      <td>375 DIXMYTH AVE</td>\n",
       "      <td>NaN</td>\n",
       "      <td>CINCINNATI</td>\n",
       "      <td>...</td>\n",
       "      <td>0</td>\n",
       "      <td>0</td>\n",
       "      <td>1</td>\n",
       "      <td>0</td>\n",
       "      <td>0</td>\n",
       "      <td>0</td>\n",
       "      <td>0</td>\n",
       "      <td>0</td>\n",
       "      <td>0</td>\n",
       "      <td>1.00</td>\n",
       "    </tr>\n",
       "    <tr>\n",
       "      <th>2013-08-01</th>\n",
       "      <td>UNCHANGED</td>\n",
       "      <td>Covered Recipient Physician</td>\n",
       "      <td>204210</td>\n",
       "      <td>ROSA</td>\n",
       "      <td>M</td>\n",
       "      <td>ROBLES</td>\n",
       "      <td>NaN</td>\n",
       "      <td>10495 MONTGOMERY RD</td>\n",
       "      <td>STE 17</td>\n",
       "      <td>CINCINNATI</td>\n",
       "      <td>...</td>\n",
       "      <td>0</td>\n",
       "      <td>0</td>\n",
       "      <td>1</td>\n",
       "      <td>0</td>\n",
       "      <td>0</td>\n",
       "      <td>0</td>\n",
       "      <td>0</td>\n",
       "      <td>0</td>\n",
       "      <td>0</td>\n",
       "      <td>9.42</td>\n",
       "    </tr>\n",
       "    <tr>\n",
       "      <th>2013-08-02</th>\n",
       "      <td>UNCHANGED</td>\n",
       "      <td>Covered Recipient Physician</td>\n",
       "      <td>633374</td>\n",
       "      <td>JAMES</td>\n",
       "      <td>NaN</td>\n",
       "      <td>FRECKA</td>\n",
       "      <td>NaN</td>\n",
       "      <td>9496 SOUTHGATE DR</td>\n",
       "      <td>NaN</td>\n",
       "      <td>CINCINNATI</td>\n",
       "      <td>...</td>\n",
       "      <td>0</td>\n",
       "      <td>0</td>\n",
       "      <td>1</td>\n",
       "      <td>0</td>\n",
       "      <td>0</td>\n",
       "      <td>0</td>\n",
       "      <td>0</td>\n",
       "      <td>0</td>\n",
       "      <td>0</td>\n",
       "      <td>11.48</td>\n",
       "    </tr>\n",
       "    <tr>\n",
       "      <th>2013-08-02</th>\n",
       "      <td>UNCHANGED</td>\n",
       "      <td>Covered Recipient Physician</td>\n",
       "      <td>242819</td>\n",
       "      <td>LISA</td>\n",
       "      <td>MARIE</td>\n",
       "      <td>JOLIAT</td>\n",
       "      <td>NaN</td>\n",
       "      <td>175 W GALBRAITH RD</td>\n",
       "      <td>NaN</td>\n",
       "      <td>CINCINNATI</td>\n",
       "      <td>...</td>\n",
       "      <td>0</td>\n",
       "      <td>0</td>\n",
       "      <td>1</td>\n",
       "      <td>0</td>\n",
       "      <td>0</td>\n",
       "      <td>0</td>\n",
       "      <td>0</td>\n",
       "      <td>0</td>\n",
       "      <td>0</td>\n",
       "      <td>11.48</td>\n",
       "    </tr>\n",
       "  </tbody>\n",
       "</table>\n",
       "<p>5 rows × 90 columns</p>\n",
       "</div>"
      ],
      "text/plain": [
       "                Change_Type       Covered_Recipient_Type  \\\n",
       "Date_of_Payment                                            \n",
       "2013-08-01        UNCHANGED  Covered Recipient Physician   \n",
       "2013-08-01        UNCHANGED  Covered Recipient Physician   \n",
       "2013-08-01        UNCHANGED  Covered Recipient Physician   \n",
       "2013-08-02        UNCHANGED  Covered Recipient Physician   \n",
       "2013-08-02        UNCHANGED  Covered Recipient Physician   \n",
       "\n",
       "                 Physician_Profile_ID Physician_First_Name  \\\n",
       "Date_of_Payment                                              \n",
       "2013-08-01                     238632               DANIEL   \n",
       "2013-08-01                     238632               DANIEL   \n",
       "2013-08-01                     204210                 ROSA   \n",
       "2013-08-02                     633374                JAMES   \n",
       "2013-08-02                     242819                 LISA   \n",
       "\n",
       "                Physician_Middle_Name Physician_Last_Name  \\\n",
       "Date_of_Payment                                             \n",
       "2013-08-01                          B              BARNES   \n",
       "2013-08-01                          B              BARNES   \n",
       "2013-08-01                          M              ROBLES   \n",
       "2013-08-02                        NaN              FRECKA   \n",
       "2013-08-02                      MARIE              JOLIAT   \n",
       "\n",
       "                Physician_Name_Suffix  \\\n",
       "Date_of_Payment                         \n",
       "2013-08-01                        NaN   \n",
       "2013-08-01                        NaN   \n",
       "2013-08-01                        NaN   \n",
       "2013-08-02                        NaN   \n",
       "2013-08-02                        NaN   \n",
       "\n",
       "                Recipient_Primary_Business_Street_Address_Line1  \\\n",
       "Date_of_Payment                                                   \n",
       "2013-08-01                                      375 DIXMYTH AVE   \n",
       "2013-08-01                                      375 DIXMYTH AVE   \n",
       "2013-08-01                                  10495 MONTGOMERY RD   \n",
       "2013-08-02                                    9496 SOUTHGATE DR   \n",
       "2013-08-02                                   175 W GALBRAITH RD   \n",
       "\n",
       "                Recipient_Primary_Business_Street_Address_Line2  \\\n",
       "Date_of_Payment                                                   \n",
       "2013-08-01                                                  NaN   \n",
       "2013-08-01                                                  NaN   \n",
       "2013-08-01                                               STE 17   \n",
       "2013-08-02                                                  NaN   \n",
       "2013-08-02                                                  NaN   \n",
       "\n",
       "                Recipient_City  ... victoza humira levemir invokana farxiga  \\\n",
       "Date_of_Payment                 ...                                           \n",
       "2013-08-01          CINCINNATI  ...       0      0       1        0       0   \n",
       "2013-08-01          CINCINNATI  ...       0      0       1        0       0   \n",
       "2013-08-01          CINCINNATI  ...       0      0       1        0       0   \n",
       "2013-08-02          CINCINNATI  ...       0      0       1        0       0   \n",
       "2013-08-02          CINCINNATI  ...       0      0       1        0       0   \n",
       "\n",
       "                entresto chantix myrbetriq toujeo leve_dollars  \n",
       "Date_of_Payment                                                 \n",
       "2013-08-01             0       0         0      0         9.13  \n",
       "2013-08-01             0       0         0      0         1.00  \n",
       "2013-08-01             0       0         0      0         9.42  \n",
       "2013-08-02             0       0         0      0        11.48  \n",
       "2013-08-02             0       0         0      0        11.48  \n",
       "\n",
       "[5 rows x 90 columns]"
      ]
     },
     "execution_count": 12,
     "metadata": {},
     "output_type": "execute_result"
    }
   ],
   "source": [
    "levemir.head()"
   ]
  },
  {
   "cell_type": "code",
   "execution_count": 13,
   "metadata": {},
   "outputs": [
    {
     "data": {
      "text/plain": [
       "554128    91\n",
       "238632    80\n",
       "168       80\n",
       "271262    80\n",
       "162829    70\n",
       "          ..\n",
       "656408     1\n",
       "332076     1\n",
       "439023     1\n",
       "168017     1\n",
       "775955     1\n",
       "Name: Physician_Profile_ID, Length: 461, dtype: int64"
      ]
     },
     "execution_count": 13,
     "metadata": {},
     "output_type": "execute_result"
    }
   ],
   "source": [
    "levemir['Physician_Profile_ID'].value_counts()"
   ]
  },
  {
   "cell_type": "markdown",
   "metadata": {},
   "source": [
    "Appy Benford's Law to data of physician with most reimbursements for levemir"
   ]
  },
  {
   "cell_type": "code",
   "execution_count": 14,
   "metadata": {},
   "outputs": [],
   "source": [
    "benny_leve = levemir[levemir['Physician_Profile_ID']== 435991].copy()\n"
   ]
  },
  {
   "cell_type": "code",
   "execution_count": 15,
   "metadata": {},
   "outputs": [
    {
     "data": {
      "text/html": [
       "<div>\n",
       "<style scoped>\n",
       "    .dataframe tbody tr th:only-of-type {\n",
       "        vertical-align: middle;\n",
       "    }\n",
       "\n",
       "    .dataframe tbody tr th {\n",
       "        vertical-align: top;\n",
       "    }\n",
       "\n",
       "    .dataframe thead th {\n",
       "        text-align: right;\n",
       "    }\n",
       "</style>\n",
       "<table border=\"1\" class=\"dataframe\">\n",
       "  <thead>\n",
       "    <tr style=\"text-align: right;\">\n",
       "      <th></th>\n",
       "      <th>Change_Type</th>\n",
       "      <th>Covered_Recipient_Type</th>\n",
       "      <th>Physician_Profile_ID</th>\n",
       "      <th>Physician_First_Name</th>\n",
       "      <th>Physician_Middle_Name</th>\n",
       "      <th>Physician_Last_Name</th>\n",
       "      <th>Physician_Name_Suffix</th>\n",
       "      <th>Recipient_Primary_Business_Street_Address_Line1</th>\n",
       "      <th>Recipient_Primary_Business_Street_Address_Line2</th>\n",
       "      <th>Recipient_City</th>\n",
       "      <th>...</th>\n",
       "      <th>victoza</th>\n",
       "      <th>humira</th>\n",
       "      <th>levemir</th>\n",
       "      <th>invokana</th>\n",
       "      <th>farxiga</th>\n",
       "      <th>entresto</th>\n",
       "      <th>chantix</th>\n",
       "      <th>myrbetriq</th>\n",
       "      <th>toujeo</th>\n",
       "      <th>leve_dollars</th>\n",
       "    </tr>\n",
       "    <tr>\n",
       "      <th>Date_of_Payment</th>\n",
       "      <th></th>\n",
       "      <th></th>\n",
       "      <th></th>\n",
       "      <th></th>\n",
       "      <th></th>\n",
       "      <th></th>\n",
       "      <th></th>\n",
       "      <th></th>\n",
       "      <th></th>\n",
       "      <th></th>\n",
       "      <th></th>\n",
       "      <th></th>\n",
       "      <th></th>\n",
       "      <th></th>\n",
       "      <th></th>\n",
       "      <th></th>\n",
       "      <th></th>\n",
       "      <th></th>\n",
       "      <th></th>\n",
       "      <th></th>\n",
       "      <th></th>\n",
       "    </tr>\n",
       "  </thead>\n",
       "  <tbody>\n",
       "    <tr>\n",
       "      <th>2014-02-21</th>\n",
       "      <td>UNCHANGED</td>\n",
       "      <td>Covered Recipient Physician</td>\n",
       "      <td>435991</td>\n",
       "      <td>CYRIL</td>\n",
       "      <td>KEITH</td>\n",
       "      <td>MELVIN</td>\n",
       "      <td>NaN</td>\n",
       "      <td>2135 DANA AVE</td>\n",
       "      <td>STE 400</td>\n",
       "      <td>CINCINNATI</td>\n",
       "      <td>...</td>\n",
       "      <td>0</td>\n",
       "      <td>0</td>\n",
       "      <td>1</td>\n",
       "      <td>0</td>\n",
       "      <td>0</td>\n",
       "      <td>0</td>\n",
       "      <td>0</td>\n",
       "      <td>0</td>\n",
       "      <td>0</td>\n",
       "      <td>14.85</td>\n",
       "    </tr>\n",
       "    <tr>\n",
       "      <th>2014-03-04</th>\n",
       "      <td>UNCHANGED</td>\n",
       "      <td>Covered Recipient Physician</td>\n",
       "      <td>435991</td>\n",
       "      <td>CYRIL</td>\n",
       "      <td>KEITH</td>\n",
       "      <td>MELVIN</td>\n",
       "      <td>NaN</td>\n",
       "      <td>2135 DANA AVE</td>\n",
       "      <td>STE 400</td>\n",
       "      <td>CINCINNATI</td>\n",
       "      <td>...</td>\n",
       "      <td>0</td>\n",
       "      <td>0</td>\n",
       "      <td>1</td>\n",
       "      <td>0</td>\n",
       "      <td>0</td>\n",
       "      <td>0</td>\n",
       "      <td>0</td>\n",
       "      <td>0</td>\n",
       "      <td>0</td>\n",
       "      <td>1.67</td>\n",
       "    </tr>\n",
       "    <tr>\n",
       "      <th>2014-05-13</th>\n",
       "      <td>UNCHANGED</td>\n",
       "      <td>Covered Recipient Physician</td>\n",
       "      <td>435991</td>\n",
       "      <td>CYRIL</td>\n",
       "      <td>KEITH</td>\n",
       "      <td>MELVIN</td>\n",
       "      <td>NaN</td>\n",
       "      <td>2135 DANA AVE</td>\n",
       "      <td>STE 400</td>\n",
       "      <td>CINCINNATI</td>\n",
       "      <td>...</td>\n",
       "      <td>0</td>\n",
       "      <td>0</td>\n",
       "      <td>1</td>\n",
       "      <td>0</td>\n",
       "      <td>0</td>\n",
       "      <td>0</td>\n",
       "      <td>0</td>\n",
       "      <td>0</td>\n",
       "      <td>0</td>\n",
       "      <td>3.05</td>\n",
       "    </tr>\n",
       "    <tr>\n",
       "      <th>2014-06-30</th>\n",
       "      <td>UNCHANGED</td>\n",
       "      <td>Covered Recipient Physician</td>\n",
       "      <td>435991</td>\n",
       "      <td>CYRIL</td>\n",
       "      <td>KEITH</td>\n",
       "      <td>MELVIN</td>\n",
       "      <td>NaN</td>\n",
       "      <td>2135 DANA AVE</td>\n",
       "      <td>STE 400</td>\n",
       "      <td>CINCINNATI</td>\n",
       "      <td>...</td>\n",
       "      <td>0</td>\n",
       "      <td>0</td>\n",
       "      <td>1</td>\n",
       "      <td>0</td>\n",
       "      <td>0</td>\n",
       "      <td>0</td>\n",
       "      <td>0</td>\n",
       "      <td>0</td>\n",
       "      <td>0</td>\n",
       "      <td>3.83</td>\n",
       "    </tr>\n",
       "    <tr>\n",
       "      <th>2014-07-14</th>\n",
       "      <td>UNCHANGED</td>\n",
       "      <td>Covered Recipient Physician</td>\n",
       "      <td>435991</td>\n",
       "      <td>CYRIL</td>\n",
       "      <td>KEITH</td>\n",
       "      <td>MELVIN</td>\n",
       "      <td>NaN</td>\n",
       "      <td>2135 DANA AVE</td>\n",
       "      <td>STE 400</td>\n",
       "      <td>CINCINNATI</td>\n",
       "      <td>...</td>\n",
       "      <td>0</td>\n",
       "      <td>0</td>\n",
       "      <td>1</td>\n",
       "      <td>0</td>\n",
       "      <td>0</td>\n",
       "      <td>0</td>\n",
       "      <td>0</td>\n",
       "      <td>0</td>\n",
       "      <td>0</td>\n",
       "      <td>13.65</td>\n",
       "    </tr>\n",
       "  </tbody>\n",
       "</table>\n",
       "<p>5 rows × 90 columns</p>\n",
       "</div>"
      ],
      "text/plain": [
       "                Change_Type       Covered_Recipient_Type  \\\n",
       "Date_of_Payment                                            \n",
       "2014-02-21        UNCHANGED  Covered Recipient Physician   \n",
       "2014-03-04        UNCHANGED  Covered Recipient Physician   \n",
       "2014-05-13        UNCHANGED  Covered Recipient Physician   \n",
       "2014-06-30        UNCHANGED  Covered Recipient Physician   \n",
       "2014-07-14        UNCHANGED  Covered Recipient Physician   \n",
       "\n",
       "                 Physician_Profile_ID Physician_First_Name  \\\n",
       "Date_of_Payment                                              \n",
       "2014-02-21                     435991                CYRIL   \n",
       "2014-03-04                     435991                CYRIL   \n",
       "2014-05-13                     435991                CYRIL   \n",
       "2014-06-30                     435991                CYRIL   \n",
       "2014-07-14                     435991                CYRIL   \n",
       "\n",
       "                Physician_Middle_Name Physician_Last_Name  \\\n",
       "Date_of_Payment                                             \n",
       "2014-02-21                      KEITH              MELVIN   \n",
       "2014-03-04                      KEITH              MELVIN   \n",
       "2014-05-13                      KEITH              MELVIN   \n",
       "2014-06-30                      KEITH              MELVIN   \n",
       "2014-07-14                      KEITH              MELVIN   \n",
       "\n",
       "                Physician_Name_Suffix  \\\n",
       "Date_of_Payment                         \n",
       "2014-02-21                        NaN   \n",
       "2014-03-04                        NaN   \n",
       "2014-05-13                        NaN   \n",
       "2014-06-30                        NaN   \n",
       "2014-07-14                        NaN   \n",
       "\n",
       "                Recipient_Primary_Business_Street_Address_Line1  \\\n",
       "Date_of_Payment                                                   \n",
       "2014-02-21                                        2135 DANA AVE   \n",
       "2014-03-04                                        2135 DANA AVE   \n",
       "2014-05-13                                        2135 DANA AVE   \n",
       "2014-06-30                                        2135 DANA AVE   \n",
       "2014-07-14                                        2135 DANA AVE   \n",
       "\n",
       "                Recipient_Primary_Business_Street_Address_Line2  \\\n",
       "Date_of_Payment                                                   \n",
       "2014-02-21                                              STE 400   \n",
       "2014-03-04                                              STE 400   \n",
       "2014-05-13                                              STE 400   \n",
       "2014-06-30                                              STE 400   \n",
       "2014-07-14                                              STE 400   \n",
       "\n",
       "                Recipient_City  ... victoza humira levemir invokana farxiga  \\\n",
       "Date_of_Payment                 ...                                           \n",
       "2014-02-21          CINCINNATI  ...       0      0       1        0       0   \n",
       "2014-03-04          CINCINNATI  ...       0      0       1        0       0   \n",
       "2014-05-13          CINCINNATI  ...       0      0       1        0       0   \n",
       "2014-06-30          CINCINNATI  ...       0      0       1        0       0   \n",
       "2014-07-14          CINCINNATI  ...       0      0       1        0       0   \n",
       "\n",
       "                entresto chantix myrbetriq toujeo leve_dollars  \n",
       "Date_of_Payment                                                 \n",
       "2014-02-21             0       0         0      0        14.85  \n",
       "2014-03-04             0       0         0      0         1.67  \n",
       "2014-05-13             0       0         0      0         3.05  \n",
       "2014-06-30             0       0         0      0         3.83  \n",
       "2014-07-14             0       0         0      0        13.65  \n",
       "\n",
       "[5 rows x 90 columns]"
      ]
     },
     "execution_count": 15,
     "metadata": {},
     "output_type": "execute_result"
    }
   ],
   "source": [
    "benny_leve.head()"
   ]
  },
  {
   "cell_type": "markdown",
   "metadata": {},
   "source": [
    "Set up columns for Benford's Law Graph"
   ]
  },
  {
   "cell_type": "markdown",
   "metadata": {},
   "source": [
    "Learned about this in Noah's lesson during week 12 and code is based on what he shared."
   ]
  },
  {
   "cell_type": "code",
   "execution_count": 16,
   "metadata": {},
   "outputs": [
    {
     "data": {
      "text/plain": [
       "[0.3010299956639812,\n",
       " 0.17609125905568124,\n",
       " 0.12493873660829993,\n",
       " 0.09691001300805642,\n",
       " 0.07918124604762482,\n",
       " 0.06694678963061322,\n",
       " 0.05799194697768673,\n",
       " 0.05115252244738129,\n",
       " 0.04575749056067514]"
      ]
     },
     "execution_count": 16,
     "metadata": {},
     "output_type": "execute_result"
    }
   ],
   "source": [
    "digits = list(range(1,10))\n",
    "benford = [np.log10(1 + (1/d)) for d in digits]\n",
    "benford"
   ]
  },
  {
   "cell_type": "code",
   "execution_count": 17,
   "metadata": {},
   "outputs": [],
   "source": [
    "benny_leve['prep_dollars'] = [amt if amt > 1 else amt*10 for amt in benny_leve['leve_dollars']]"
   ]
  },
  {
   "cell_type": "code",
   "execution_count": 18,
   "metadata": {},
   "outputs": [],
   "source": [
    "benny_leve['FIRST_DIGIT'] = [int(str(amt)[0]) for amt in benny_leve['prep_dollars']]"
   ]
  },
  {
   "cell_type": "code",
   "execution_count": 19,
   "metadata": {},
   "outputs": [
    {
     "data": {
      "text/html": [
       "<div>\n",
       "<style scoped>\n",
       "    .dataframe tbody tr th:only-of-type {\n",
       "        vertical-align: middle;\n",
       "    }\n",
       "\n",
       "    .dataframe tbody tr th {\n",
       "        vertical-align: top;\n",
       "    }\n",
       "\n",
       "    .dataframe thead th {\n",
       "        text-align: right;\n",
       "    }\n",
       "</style>\n",
       "<table border=\"1\" class=\"dataframe\">\n",
       "  <thead>\n",
       "    <tr style=\"text-align: right;\">\n",
       "      <th></th>\n",
       "      <th>Change_Type</th>\n",
       "      <th>Covered_Recipient_Type</th>\n",
       "      <th>Physician_Profile_ID</th>\n",
       "      <th>Physician_First_Name</th>\n",
       "      <th>Physician_Middle_Name</th>\n",
       "      <th>Physician_Last_Name</th>\n",
       "      <th>Physician_Name_Suffix</th>\n",
       "      <th>Recipient_Primary_Business_Street_Address_Line1</th>\n",
       "      <th>Recipient_Primary_Business_Street_Address_Line2</th>\n",
       "      <th>Recipient_City</th>\n",
       "      <th>...</th>\n",
       "      <th>levemir</th>\n",
       "      <th>invokana</th>\n",
       "      <th>farxiga</th>\n",
       "      <th>entresto</th>\n",
       "      <th>chantix</th>\n",
       "      <th>myrbetriq</th>\n",
       "      <th>toujeo</th>\n",
       "      <th>leve_dollars</th>\n",
       "      <th>prep_dollars</th>\n",
       "      <th>FIRST_DIGIT</th>\n",
       "    </tr>\n",
       "    <tr>\n",
       "      <th>Date_of_Payment</th>\n",
       "      <th></th>\n",
       "      <th></th>\n",
       "      <th></th>\n",
       "      <th></th>\n",
       "      <th></th>\n",
       "      <th></th>\n",
       "      <th></th>\n",
       "      <th></th>\n",
       "      <th></th>\n",
       "      <th></th>\n",
       "      <th></th>\n",
       "      <th></th>\n",
       "      <th></th>\n",
       "      <th></th>\n",
       "      <th></th>\n",
       "      <th></th>\n",
       "      <th></th>\n",
       "      <th></th>\n",
       "      <th></th>\n",
       "      <th></th>\n",
       "      <th></th>\n",
       "    </tr>\n",
       "  </thead>\n",
       "  <tbody>\n",
       "    <tr>\n",
       "      <th>2014-02-21</th>\n",
       "      <td>UNCHANGED</td>\n",
       "      <td>Covered Recipient Physician</td>\n",
       "      <td>435991</td>\n",
       "      <td>CYRIL</td>\n",
       "      <td>KEITH</td>\n",
       "      <td>MELVIN</td>\n",
       "      <td>NaN</td>\n",
       "      <td>2135 DANA AVE</td>\n",
       "      <td>STE 400</td>\n",
       "      <td>CINCINNATI</td>\n",
       "      <td>...</td>\n",
       "      <td>1</td>\n",
       "      <td>0</td>\n",
       "      <td>0</td>\n",
       "      <td>0</td>\n",
       "      <td>0</td>\n",
       "      <td>0</td>\n",
       "      <td>0</td>\n",
       "      <td>14.85</td>\n",
       "      <td>14.85</td>\n",
       "      <td>1</td>\n",
       "    </tr>\n",
       "    <tr>\n",
       "      <th>2014-03-04</th>\n",
       "      <td>UNCHANGED</td>\n",
       "      <td>Covered Recipient Physician</td>\n",
       "      <td>435991</td>\n",
       "      <td>CYRIL</td>\n",
       "      <td>KEITH</td>\n",
       "      <td>MELVIN</td>\n",
       "      <td>NaN</td>\n",
       "      <td>2135 DANA AVE</td>\n",
       "      <td>STE 400</td>\n",
       "      <td>CINCINNATI</td>\n",
       "      <td>...</td>\n",
       "      <td>1</td>\n",
       "      <td>0</td>\n",
       "      <td>0</td>\n",
       "      <td>0</td>\n",
       "      <td>0</td>\n",
       "      <td>0</td>\n",
       "      <td>0</td>\n",
       "      <td>1.67</td>\n",
       "      <td>1.67</td>\n",
       "      <td>1</td>\n",
       "    </tr>\n",
       "    <tr>\n",
       "      <th>2014-05-13</th>\n",
       "      <td>UNCHANGED</td>\n",
       "      <td>Covered Recipient Physician</td>\n",
       "      <td>435991</td>\n",
       "      <td>CYRIL</td>\n",
       "      <td>KEITH</td>\n",
       "      <td>MELVIN</td>\n",
       "      <td>NaN</td>\n",
       "      <td>2135 DANA AVE</td>\n",
       "      <td>STE 400</td>\n",
       "      <td>CINCINNATI</td>\n",
       "      <td>...</td>\n",
       "      <td>1</td>\n",
       "      <td>0</td>\n",
       "      <td>0</td>\n",
       "      <td>0</td>\n",
       "      <td>0</td>\n",
       "      <td>0</td>\n",
       "      <td>0</td>\n",
       "      <td>3.05</td>\n",
       "      <td>3.05</td>\n",
       "      <td>3</td>\n",
       "    </tr>\n",
       "    <tr>\n",
       "      <th>2014-06-30</th>\n",
       "      <td>UNCHANGED</td>\n",
       "      <td>Covered Recipient Physician</td>\n",
       "      <td>435991</td>\n",
       "      <td>CYRIL</td>\n",
       "      <td>KEITH</td>\n",
       "      <td>MELVIN</td>\n",
       "      <td>NaN</td>\n",
       "      <td>2135 DANA AVE</td>\n",
       "      <td>STE 400</td>\n",
       "      <td>CINCINNATI</td>\n",
       "      <td>...</td>\n",
       "      <td>1</td>\n",
       "      <td>0</td>\n",
       "      <td>0</td>\n",
       "      <td>0</td>\n",
       "      <td>0</td>\n",
       "      <td>0</td>\n",
       "      <td>0</td>\n",
       "      <td>3.83</td>\n",
       "      <td>3.83</td>\n",
       "      <td>3</td>\n",
       "    </tr>\n",
       "    <tr>\n",
       "      <th>2014-07-14</th>\n",
       "      <td>UNCHANGED</td>\n",
       "      <td>Covered Recipient Physician</td>\n",
       "      <td>435991</td>\n",
       "      <td>CYRIL</td>\n",
       "      <td>KEITH</td>\n",
       "      <td>MELVIN</td>\n",
       "      <td>NaN</td>\n",
       "      <td>2135 DANA AVE</td>\n",
       "      <td>STE 400</td>\n",
       "      <td>CINCINNATI</td>\n",
       "      <td>...</td>\n",
       "      <td>1</td>\n",
       "      <td>0</td>\n",
       "      <td>0</td>\n",
       "      <td>0</td>\n",
       "      <td>0</td>\n",
       "      <td>0</td>\n",
       "      <td>0</td>\n",
       "      <td>13.65</td>\n",
       "      <td>13.65</td>\n",
       "      <td>1</td>\n",
       "    </tr>\n",
       "  </tbody>\n",
       "</table>\n",
       "<p>5 rows × 92 columns</p>\n",
       "</div>"
      ],
      "text/plain": [
       "                Change_Type       Covered_Recipient_Type  \\\n",
       "Date_of_Payment                                            \n",
       "2014-02-21        UNCHANGED  Covered Recipient Physician   \n",
       "2014-03-04        UNCHANGED  Covered Recipient Physician   \n",
       "2014-05-13        UNCHANGED  Covered Recipient Physician   \n",
       "2014-06-30        UNCHANGED  Covered Recipient Physician   \n",
       "2014-07-14        UNCHANGED  Covered Recipient Physician   \n",
       "\n",
       "                 Physician_Profile_ID Physician_First_Name  \\\n",
       "Date_of_Payment                                              \n",
       "2014-02-21                     435991                CYRIL   \n",
       "2014-03-04                     435991                CYRIL   \n",
       "2014-05-13                     435991                CYRIL   \n",
       "2014-06-30                     435991                CYRIL   \n",
       "2014-07-14                     435991                CYRIL   \n",
       "\n",
       "                Physician_Middle_Name Physician_Last_Name  \\\n",
       "Date_of_Payment                                             \n",
       "2014-02-21                      KEITH              MELVIN   \n",
       "2014-03-04                      KEITH              MELVIN   \n",
       "2014-05-13                      KEITH              MELVIN   \n",
       "2014-06-30                      KEITH              MELVIN   \n",
       "2014-07-14                      KEITH              MELVIN   \n",
       "\n",
       "                Physician_Name_Suffix  \\\n",
       "Date_of_Payment                         \n",
       "2014-02-21                        NaN   \n",
       "2014-03-04                        NaN   \n",
       "2014-05-13                        NaN   \n",
       "2014-06-30                        NaN   \n",
       "2014-07-14                        NaN   \n",
       "\n",
       "                Recipient_Primary_Business_Street_Address_Line1  \\\n",
       "Date_of_Payment                                                   \n",
       "2014-02-21                                        2135 DANA AVE   \n",
       "2014-03-04                                        2135 DANA AVE   \n",
       "2014-05-13                                        2135 DANA AVE   \n",
       "2014-06-30                                        2135 DANA AVE   \n",
       "2014-07-14                                        2135 DANA AVE   \n",
       "\n",
       "                Recipient_Primary_Business_Street_Address_Line2  \\\n",
       "Date_of_Payment                                                   \n",
       "2014-02-21                                              STE 400   \n",
       "2014-03-04                                              STE 400   \n",
       "2014-05-13                                              STE 400   \n",
       "2014-06-30                                              STE 400   \n",
       "2014-07-14                                              STE 400   \n",
       "\n",
       "                Recipient_City  ... levemir invokana farxiga entresto chantix  \\\n",
       "Date_of_Payment                 ...                                             \n",
       "2014-02-21          CINCINNATI  ...       1        0       0        0       0   \n",
       "2014-03-04          CINCINNATI  ...       1        0       0        0       0   \n",
       "2014-05-13          CINCINNATI  ...       1        0       0        0       0   \n",
       "2014-06-30          CINCINNATI  ...       1        0       0        0       0   \n",
       "2014-07-14          CINCINNATI  ...       1        0       0        0       0   \n",
       "\n",
       "                myrbetriq toujeo leve_dollars prep_dollars FIRST_DIGIT  \n",
       "Date_of_Payment                                                         \n",
       "2014-02-21              0      0        14.85        14.85           1  \n",
       "2014-03-04              0      0         1.67         1.67           1  \n",
       "2014-05-13              0      0         3.05         3.05           3  \n",
       "2014-06-30              0      0         3.83         3.83           3  \n",
       "2014-07-14              0      0        13.65        13.65           1  \n",
       "\n",
       "[5 rows x 92 columns]"
      ]
     },
     "execution_count": 19,
     "metadata": {},
     "output_type": "execute_result"
    }
   ],
   "source": [
    "benny_leve.head()"
   ]
  },
  {
   "cell_type": "code",
   "execution_count": 20,
   "metadata": {},
   "outputs": [],
   "source": [
    "percentages = benny_leve['FIRST_DIGIT'].value_counts(normalize = True).sort_index()"
   ]
  },
  {
   "cell_type": "code",
   "execution_count": 21,
   "metadata": {},
   "outputs": [
    {
     "data": {
      "image/png": "[encoded data removed]",
      "text/plain": [
       "<Figure size 432x288 with 1 Axes>"
      ]
     },
     "metadata": {
      "needs_background": "light"
     },
     "output_type": "display_data"
    }
   ],
   "source": [
    "plt.bar(digits, benford)\n",
    "\n",
    "plt.plot(percentages, color = 'orange', marker = 'o')\n",
    "plt.xticks(digits);"
   ]
  },
  {
   "cell_type": "code",
   "execution_count": 22,
   "metadata": {},
   "outputs": [],
   "source": [
    "drop_cols = ['Change_Type','Covered_Recipient_Type',\n",
    "'Physician_First_Name',\n",
    "'Physician_Middle_Name',\n",
    "'Physician_Last_Name',\n",
    "'Physician_Name_Suffix',\n",
    "'Recipient_Primary_Business_Street_Address_Line1',\n",
    "'Recipient_Primary_Business_Street_Address_Line2',\n",
    "'Recipient_City',\n",
    "'Recipient_State',\n",
    "'Recipient_Zip_Code',\n",
    "'Recipient_Country',\n",
    "'Physician_Primary_Type',\n",
    "'Physician_Specialty',\n",
    "'Physician_License_State_code1',\n",
    "'Physician_License_State_code2',\n",
    "'Physician_License_State_code3',\n",
    "'Physician_License_State_code4',\n",
    "'Physician_License_State_code5',\n",
    "'Submitting_Applicable_Manufacturer_or_Applicable_GPO_Name',\n",
    "'Applicable_Manufacturer_or_Applicable_GPO_Making_Payment_Name',\n",
    "'Applicable_Manufacturer_or_Applicable_GPO_Making_Payment_State',\n",
    "'Applicable_Manufacturer_or_Applicable_GPO_Making_Payment_Country',\n",
    "'Form_of_Payment_or_Transfer_of_Value',\n",
    "'City_of_Travel',\n",
    "'State_of_Travel',\n",
    "'Country_of_Travel',\n",
    "'Physician_Ownership_Indicator',\n",
    "'Third_Party_Payment_Recipient_Indicator',\n",
    "'Name_of_Third_Party_Entity_Receiving_Payment_or_Transfer_of_Value',\n",
    "'Charity_Indicator',\n",
    "'Third_Party_Equals_Covered_Recipient_Indicator',\n",
    "'Contextual_Information',\n",
    "'Delay_in_Publication_Indicator',\n",
    "'Dispute_Status_for_Publication',\n",
    "'Related_Product_Indicator',\n",
    "'Covered_or_Noncovered_Indicator_1',\n",
    "'Indicate_Drug_or_Biological_or_Device_or_Medical_Supply_1',\n",
    "'Product_Category_or_Therapeutic_Area_1',\n",
    "'Name_of_Drug_or_Biological_or_Device_or_Medical_Supply_1',\n",
    "'Associated_Drug_or_Biological_NDC_1',\n",
    "'Covered_or_Noncovered_Indicator_2',\n",
    "'Indicate_Drug_or_Biological_or_Device_or_Medical_Supply_2',\n",
    "'Product_Category_or_Therapeutic_Area_2',\n",
    "'Name_of_Drug_or_Biological_or_Device_or_Medical_Supply_2',\n",
    "'Associated_Drug_or_Biological_NDC_2',\n",
    "'Covered_or_Noncovered_Indicator_3',\n",
    "'Indicate_Drug_or_Biological_or_Device_or_Medical_Supply_3',\n",
    "'Product_Category_or_Therapeutic_Area_3',\n",
    "'Name_of_Drug_or_Biological_or_Device_or_Medical_Supply_3',\n",
    "'Associated_Drug_or_Biological_NDC_3',\n",
    "'Covered_or_Noncovered_Indicator_4',\n",
    "'Indicate_Drug_or_Biological_or_Device_or_Medical_Supply_4',\n",
    "'Product_Category_or_Therapeutic_Area_4',\n",
    "'Name_of_Drug_or_Biological_or_Device_or_Medical_Supply_4',\n",
    "'Associated_Drug_or_Biological_NDC_4',\n",
    "'Covered_or_Noncovered_Indicator_5',\n",
    "'Indicate_Drug_or_Biological_or_Device_or_Medical_Supply_5',\n",
    "'Product_Category_or_Therapeutic_Area_5',\n",
    "'Name_of_Drug_or_Biological_or_Device_or_Medical_Supply_5',\n",
    "'Associated_Drug_or_Biological_NDC_5', \n",
    "'Physician_Profile_ID', 'Applicable_Manufacturer_or_Applicable_GPO_Making_Payment_ID',\n",
    "'Total_Amount_of_Payment_USDollars','Number_of_Payments_Included_in_Total_Amount', \n",
    "'Nature_of_Payment_or_Transfer_of_Value', 'Record_ID', \n",
    "'Payment_Publication_Date', 'Program_Year',\n",
    "'NDC_of_Associated_Covered_Drug_or_Biological1',\n",
    "'NDC_of_Associated_Covered_Drug_or_Biological2',\n",
    "'NDC_of_Associated_Covered_Drug_or_Biological3',\n",
    "'NDC_of_Associated_Covered_Drug_or_Biological4',\n",
    "'NDC_of_Associated_Covered_Drug_or_Biological5',\n",
    "'Name_of_Associated_Covered_Device_or_Medical_Supply1',\n",
    "'Name_of_Associated_Covered_Device_or_Medical_Supply2',\n",
    "'Name_of_Associated_Covered_Device_or_Medical_Supply3',\n",
    "'Name_of_Associated_Covered_Device_or_Medical_Supply4',\n",
    "'Name_of_Associated_Covered_Device_or_Medical_Supply5',\n",
    "'xarelto', 'farxiga', 'victoza', 'humira', 'invokana',\n",
    "'entresto', 'chantix', 'myrbetriq', 'toujeo']"
   ]
  },
  {
   "cell_type": "code",
   "execution_count": 23,
   "metadata": {},
   "outputs": [],
   "source": [
    "levemir.drop(columns = drop_cols, inplace = True)"
   ]
  },
  {
   "cell_type": "code",
   "execution_count": 24,
   "metadata": {},
   "outputs": [
    {
     "data": {
      "text/html": [
       "<div>\n",
       "<style scoped>\n",
       "    .dataframe tbody tr th:only-of-type {\n",
       "        vertical-align: middle;\n",
       "    }\n",
       "\n",
       "    .dataframe tbody tr th {\n",
       "        vertical-align: top;\n",
       "    }\n",
       "\n",
       "    .dataframe thead th {\n",
       "        text-align: right;\n",
       "    }\n",
       "</style>\n",
       "<table border=\"1\" class=\"dataframe\">\n",
       "  <thead>\n",
       "    <tr style=\"text-align: right;\">\n",
       "      <th></th>\n",
       "      <th>levemir</th>\n",
       "      <th>leve_dollars</th>\n",
       "    </tr>\n",
       "    <tr>\n",
       "      <th>Date_of_Payment</th>\n",
       "      <th></th>\n",
       "      <th></th>\n",
       "    </tr>\n",
       "  </thead>\n",
       "  <tbody>\n",
       "    <tr>\n",
       "      <th>2013-08-01</th>\n",
       "      <td>1</td>\n",
       "      <td>9.13</td>\n",
       "    </tr>\n",
       "    <tr>\n",
       "      <th>2013-08-01</th>\n",
       "      <td>1</td>\n",
       "      <td>1.00</td>\n",
       "    </tr>\n",
       "    <tr>\n",
       "      <th>2013-08-01</th>\n",
       "      <td>1</td>\n",
       "      <td>9.42</td>\n",
       "    </tr>\n",
       "    <tr>\n",
       "      <th>2013-08-02</th>\n",
       "      <td>1</td>\n",
       "      <td>11.48</td>\n",
       "    </tr>\n",
       "    <tr>\n",
       "      <th>2013-08-02</th>\n",
       "      <td>1</td>\n",
       "      <td>11.48</td>\n",
       "    </tr>\n",
       "  </tbody>\n",
       "</table>\n",
       "</div>"
      ],
      "text/plain": [
       "                 levemir  leve_dollars\n",
       "Date_of_Payment                       \n",
       "2013-08-01             1          9.13\n",
       "2013-08-01             1          1.00\n",
       "2013-08-01             1          9.42\n",
       "2013-08-02             1         11.48\n",
       "2013-08-02             1         11.48"
      ]
     },
     "execution_count": 24,
     "metadata": {},
     "output_type": "execute_result"
    }
   ],
   "source": [
    "levemir.head()"
   ]
  },
  {
   "cell_type": "markdown",
   "metadata": {},
   "source": [
    "Was reminded of the importance of checking data for outliers by this article, and modeled my filtering code below on this article:\n",
    "https://www.analyticsvidhya.com/blog/2021/08/holt-winters-method-for-time-series-analysis/"
   ]
  },
  {
   "cell_type": "code",
   "execution_count": 25,
   "metadata": {},
   "outputs": [
    {
     "data": {
      "image/png": "[encoded data removed]",
      "text/plain": [
       "<Figure size 432x288 with 1 Axes>"
      ]
     },
     "metadata": {
      "needs_background": "light"
     },
     "output_type": "display_data"
    }
   ],
   "source": [
    "sns.boxplot(x = levemir['leve_dollars']);"
   ]
  },
  {
   "cell_type": "code",
   "execution_count": 26,
   "metadata": {},
   "outputs": [],
   "source": [
    "levemir['z_score'] = [ ((i - levemir['leve_dollars'].mean())/levemir['leve_dollars'].std()) for i in levemir['leve_dollars']]"
   ]
  },
  {
   "cell_type": "code",
   "execution_count": 27,
   "metadata": {},
   "outputs": [
    {
     "data": {
      "text/plain": [
       "(5546, 3)"
      ]
     },
     "execution_count": 27,
     "metadata": {},
     "output_type": "execute_result"
    }
   ],
   "source": [
    "levemir.shape"
   ]
  },
  {
   "cell_type": "code",
   "execution_count": 28,
   "metadata": {},
   "outputs": [],
   "source": [
    "levemirb = levemir[(np.abs(levemir['z_score']) < 3)].copy()"
   ]
  },
  {
   "cell_type": "code",
   "execution_count": 29,
   "metadata": {},
   "outputs": [
    {
     "data": {
      "text/plain": [
       "(5532, 3)"
      ]
     },
     "execution_count": 29,
     "metadata": {},
     "output_type": "execute_result"
    }
   ],
   "source": [
    "levemirb.shape"
   ]
  },
  {
   "cell_type": "code",
   "execution_count": 30,
   "metadata": {},
   "outputs": [],
   "source": [
    "levemir_daily = levemirb.resample('d').sum()"
   ]
  },
  {
   "cell_type": "code",
   "execution_count": 31,
   "metadata": {},
   "outputs": [
    {
     "data": {
      "text/html": [
       "<div>\n",
       "<style scoped>\n",
       "    .dataframe tbody tr th:only-of-type {\n",
       "        vertical-align: middle;\n",
       "    }\n",
       "\n",
       "    .dataframe tbody tr th {\n",
       "        vertical-align: top;\n",
       "    }\n",
       "\n",
       "    .dataframe thead th {\n",
       "        text-align: right;\n",
       "    }\n",
       "</style>\n",
       "<table border=\"1\" class=\"dataframe\">\n",
       "  <thead>\n",
       "    <tr style=\"text-align: right;\">\n",
       "      <th></th>\n",
       "      <th>levemir</th>\n",
       "      <th>leve_dollars</th>\n",
       "      <th>z_score</th>\n",
       "    </tr>\n",
       "    <tr>\n",
       "      <th>Date_of_Payment</th>\n",
       "      <th></th>\n",
       "      <th></th>\n",
       "      <th></th>\n",
       "    </tr>\n",
       "  </thead>\n",
       "  <tbody>\n",
       "    <tr>\n",
       "      <th>2013-08-01</th>\n",
       "      <td>3</td>\n",
       "      <td>19.55</td>\n",
       "      <td>-0.179815</td>\n",
       "    </tr>\n",
       "    <tr>\n",
       "      <th>2013-08-02</th>\n",
       "      <td>10</td>\n",
       "      <td>96.92</td>\n",
       "      <td>-0.400481</td>\n",
       "    </tr>\n",
       "    <tr>\n",
       "      <th>2013-08-03</th>\n",
       "      <td>0</td>\n",
       "      <td>0.00</td>\n",
       "      <td>0.000000</td>\n",
       "    </tr>\n",
       "    <tr>\n",
       "      <th>2013-08-04</th>\n",
       "      <td>0</td>\n",
       "      <td>0.00</td>\n",
       "      <td>0.000000</td>\n",
       "    </tr>\n",
       "    <tr>\n",
       "      <th>2013-08-05</th>\n",
       "      <td>2</td>\n",
       "      <td>29.32</td>\n",
       "      <td>-0.017857</td>\n",
       "    </tr>\n",
       "  </tbody>\n",
       "</table>\n",
       "</div>"
      ],
      "text/plain": [
       "                 levemir  leve_dollars   z_score\n",
       "Date_of_Payment                                 \n",
       "2013-08-01             3         19.55 -0.179815\n",
       "2013-08-02            10         96.92 -0.400481\n",
       "2013-08-03             0          0.00  0.000000\n",
       "2013-08-04             0          0.00  0.000000\n",
       "2013-08-05             2         29.32 -0.017857"
      ]
     },
     "execution_count": 31,
     "metadata": {},
     "output_type": "execute_result"
    }
   ],
   "source": [
    "levemir_daily.head()"
   ]
  },
  {
   "cell_type": "code",
   "execution_count": 32,
   "metadata": {},
   "outputs": [
    {
     "data": {
      "text/html": [
       "<div>\n",
       "<style scoped>\n",
       "    .dataframe tbody tr th:only-of-type {\n",
       "        vertical-align: middle;\n",
       "    }\n",
       "\n",
       "    .dataframe tbody tr th {\n",
       "        vertical-align: top;\n",
       "    }\n",
       "\n",
       "    .dataframe thead th {\n",
       "        text-align: right;\n",
       "    }\n",
       "</style>\n",
       "<table border=\"1\" class=\"dataframe\">\n",
       "  <thead>\n",
       "    <tr style=\"text-align: right;\">\n",
       "      <th></th>\n",
       "      <th>levemir</th>\n",
       "      <th>leve_dollars</th>\n",
       "      <th>z_score</th>\n",
       "    </tr>\n",
       "    <tr>\n",
       "      <th>Date_of_Payment</th>\n",
       "      <th></th>\n",
       "      <th></th>\n",
       "      <th></th>\n",
       "    </tr>\n",
       "  </thead>\n",
       "  <tbody>\n",
       "    <tr>\n",
       "      <th>2013-08-01</th>\n",
       "      <td>3</td>\n",
       "      <td>19.55</td>\n",
       "      <td>-0.179815</td>\n",
       "    </tr>\n",
       "    <tr>\n",
       "      <th>2013-08-02</th>\n",
       "      <td>10</td>\n",
       "      <td>96.92</td>\n",
       "      <td>-0.400481</td>\n",
       "    </tr>\n",
       "    <tr>\n",
       "      <th>2013-08-03</th>\n",
       "      <td>0</td>\n",
       "      <td>0.00</td>\n",
       "      <td>0.000000</td>\n",
       "    </tr>\n",
       "    <tr>\n",
       "      <th>2013-08-04</th>\n",
       "      <td>0</td>\n",
       "      <td>0.00</td>\n",
       "      <td>0.000000</td>\n",
       "    </tr>\n",
       "    <tr>\n",
       "      <th>2013-08-05</th>\n",
       "      <td>2</td>\n",
       "      <td>29.32</td>\n",
       "      <td>-0.017857</td>\n",
       "    </tr>\n",
       "    <tr>\n",
       "      <th>...</th>\n",
       "      <td>...</td>\n",
       "      <td>...</td>\n",
       "      <td>...</td>\n",
       "    </tr>\n",
       "    <tr>\n",
       "      <th>2019-09-13</th>\n",
       "      <td>0</td>\n",
       "      <td>0.00</td>\n",
       "      <td>0.000000</td>\n",
       "    </tr>\n",
       "    <tr>\n",
       "      <th>2019-09-14</th>\n",
       "      <td>0</td>\n",
       "      <td>0.00</td>\n",
       "      <td>0.000000</td>\n",
       "    </tr>\n",
       "    <tr>\n",
       "      <th>2019-09-15</th>\n",
       "      <td>0</td>\n",
       "      <td>0.00</td>\n",
       "      <td>0.000000</td>\n",
       "    </tr>\n",
       "    <tr>\n",
       "      <th>2019-09-16</th>\n",
       "      <td>0</td>\n",
       "      <td>0.00</td>\n",
       "      <td>0.000000</td>\n",
       "    </tr>\n",
       "    <tr>\n",
       "      <th>2019-09-17</th>\n",
       "      <td>1</td>\n",
       "      <td>10.63</td>\n",
       "      <td>-0.034172</td>\n",
       "    </tr>\n",
       "  </tbody>\n",
       "</table>\n",
       "<p>2239 rows × 3 columns</p>\n",
       "</div>"
      ],
      "text/plain": [
       "                 levemir  leve_dollars   z_score\n",
       "Date_of_Payment                                 \n",
       "2013-08-01             3         19.55 -0.179815\n",
       "2013-08-02            10         96.92 -0.400481\n",
       "2013-08-03             0          0.00  0.000000\n",
       "2013-08-04             0          0.00  0.000000\n",
       "2013-08-05             2         29.32 -0.017857\n",
       "...                  ...           ...       ...\n",
       "2019-09-13             0          0.00  0.000000\n",
       "2019-09-14             0          0.00  0.000000\n",
       "2019-09-15             0          0.00  0.000000\n",
       "2019-09-16             0          0.00  0.000000\n",
       "2019-09-17             1         10.63 -0.034172\n",
       "\n",
       "[2239 rows x 3 columns]"
      ]
     },
     "execution_count": 32,
     "metadata": {},
     "output_type": "execute_result"
    }
   ],
   "source": [
    "levemir_daily.sort_index()"
   ]
  },
  {
   "cell_type": "markdown",
   "metadata": {},
   "source": [
    "Look at some plots"
   ]
  },
  {
   "cell_type": "code",
   "execution_count": 33,
   "metadata": {},
   "outputs": [],
   "source": [
    "from statsmodels.graphics.tsaplots import plot_acf, plot_pacf\n",
    "from statsmodels.tsa.stattools import acf, pacf"
   ]
  },
  {
   "cell_type": "code",
   "execution_count": 34,
   "metadata": {},
   "outputs": [
    {
     "data": {
      "image/png": "[encoded data removed]",
      "text/plain": [
       "<Figure size 432x288 with 1 Axes>"
      ]
     },
     "metadata": {
      "needs_background": "light"
     },
     "output_type": "display_data"
    }
   ],
   "source": [
    "plot_acf(levemir_daily['leve_dollars'], alpha=None, lags=24);"
   ]
  },
  {
   "cell_type": "code",
   "execution_count": 35,
   "metadata": {},
   "outputs": [
    {
     "name": "stderr",
     "output_type": "stream",
     "text": [
      "C:\\Users\\sarah\\anaconda3\\lib\\site-packages\\statsmodels\\graphics\\tsaplots.py:348: FutureWarning: The default method 'yw' can produce PACF values outside of the [-1,1] interval. After 0.13, the default will change tounadjusted Yule-Walker ('ywm'). You can use this method now by setting method='ywm'.\n",
      "  warnings.warn(\n"
     ]
    },
    {
     "data": {
      "image/png": "[encoded data removed]",
      "text/plain": [
       "<Figure size 432x288 with 1 Axes>"
      ]
     },
     "metadata": {
      "needs_background": "light"
     },
     "output_type": "display_data"
    }
   ],
   "source": [
    "plot_pacf(levemir_daily['leve_dollars'], alpha=None, lags=24);"
   ]
  },
  {
   "cell_type": "markdown",
   "metadata": {},
   "source": [
    "Adding 1 to the weekly sales for each observation so that Holt_winters will work."
   ]
  },
  {
   "cell_type": "code",
   "execution_count": 36,
   "metadata": {},
   "outputs": [],
   "source": [
    "levemir_daily['leve_dollars'] = [i+1 for i in levemir_daily['leve_dollars']]"
   ]
  },
  {
   "cell_type": "markdown",
   "metadata": {},
   "source": [
    "Set up Train and Test Sets using 2013 - 2020 Data"
   ]
  },
  {
   "cell_type": "code",
   "execution_count": 37,
   "metadata": {},
   "outputs": [
    {
     "data": {
      "text/html": [
       "<div>\n",
       "<style scoped>\n",
       "    .dataframe tbody tr th:only-of-type {\n",
       "        vertical-align: middle;\n",
       "    }\n",
       "\n",
       "    .dataframe tbody tr th {\n",
       "        vertical-align: top;\n",
       "    }\n",
       "\n",
       "    .dataframe thead th {\n",
       "        text-align: right;\n",
       "    }\n",
       "</style>\n",
       "<table border=\"1\" class=\"dataframe\">\n",
       "  <thead>\n",
       "    <tr style=\"text-align: right;\">\n",
       "      <th></th>\n",
       "      <th>levemir</th>\n",
       "      <th>leve_dollars</th>\n",
       "      <th>z_score</th>\n",
       "    </tr>\n",
       "    <tr>\n",
       "      <th>Date_of_Payment</th>\n",
       "      <th></th>\n",
       "      <th></th>\n",
       "      <th></th>\n",
       "    </tr>\n",
       "  </thead>\n",
       "  <tbody>\n",
       "    <tr>\n",
       "      <th>2013-08-01</th>\n",
       "      <td>3</td>\n",
       "      <td>20.55</td>\n",
       "      <td>-0.179815</td>\n",
       "    </tr>\n",
       "    <tr>\n",
       "      <th>2013-08-02</th>\n",
       "      <td>10</td>\n",
       "      <td>97.92</td>\n",
       "      <td>-0.400481</td>\n",
       "    </tr>\n",
       "    <tr>\n",
       "      <th>2013-08-03</th>\n",
       "      <td>0</td>\n",
       "      <td>1.00</td>\n",
       "      <td>0.000000</td>\n",
       "    </tr>\n",
       "    <tr>\n",
       "      <th>2013-08-04</th>\n",
       "      <td>0</td>\n",
       "      <td>1.00</td>\n",
       "      <td>0.000000</td>\n",
       "    </tr>\n",
       "    <tr>\n",
       "      <th>2013-08-05</th>\n",
       "      <td>2</td>\n",
       "      <td>30.32</td>\n",
       "      <td>-0.017857</td>\n",
       "    </tr>\n",
       "    <tr>\n",
       "      <th>...</th>\n",
       "      <td>...</td>\n",
       "      <td>...</td>\n",
       "      <td>...</td>\n",
       "    </tr>\n",
       "    <tr>\n",
       "      <th>2019-09-13</th>\n",
       "      <td>0</td>\n",
       "      <td>1.00</td>\n",
       "      <td>0.000000</td>\n",
       "    </tr>\n",
       "    <tr>\n",
       "      <th>2019-09-14</th>\n",
       "      <td>0</td>\n",
       "      <td>1.00</td>\n",
       "      <td>0.000000</td>\n",
       "    </tr>\n",
       "    <tr>\n",
       "      <th>2019-09-15</th>\n",
       "      <td>0</td>\n",
       "      <td>1.00</td>\n",
       "      <td>0.000000</td>\n",
       "    </tr>\n",
       "    <tr>\n",
       "      <th>2019-09-16</th>\n",
       "      <td>0</td>\n",
       "      <td>1.00</td>\n",
       "      <td>0.000000</td>\n",
       "    </tr>\n",
       "    <tr>\n",
       "      <th>2019-09-17</th>\n",
       "      <td>1</td>\n",
       "      <td>11.63</td>\n",
       "      <td>-0.034172</td>\n",
       "    </tr>\n",
       "  </tbody>\n",
       "</table>\n",
       "<p>2239 rows × 3 columns</p>\n",
       "</div>"
      ],
      "text/plain": [
       "                 levemir  leve_dollars   z_score\n",
       "Date_of_Payment                                 \n",
       "2013-08-01             3         20.55 -0.179815\n",
       "2013-08-02            10         97.92 -0.400481\n",
       "2013-08-03             0          1.00  0.000000\n",
       "2013-08-04             0          1.00  0.000000\n",
       "2013-08-05             2         30.32 -0.017857\n",
       "...                  ...           ...       ...\n",
       "2019-09-13             0          1.00  0.000000\n",
       "2019-09-14             0          1.00  0.000000\n",
       "2019-09-15             0          1.00  0.000000\n",
       "2019-09-16             0          1.00  0.000000\n",
       "2019-09-17             1         11.63 -0.034172\n",
       "\n",
       "[2239 rows x 3 columns]"
      ]
     },
     "execution_count": 37,
     "metadata": {},
     "output_type": "execute_result"
    }
   ],
   "source": [
    "train = levemir_daily.loc[:'2019-12-31']\n",
    "train"
   ]
  },
  {
   "cell_type": "code",
   "execution_count": 38,
   "metadata": {},
   "outputs": [
    {
     "data": {
      "text/plain": [
       "1035.52"
      ]
     },
     "execution_count": 38,
     "metadata": {},
     "output_type": "execute_result"
    }
   ],
   "source": [
    "train['leve_dollars'].max()"
   ]
  },
  {
   "cell_type": "code",
   "execution_count": 39,
   "metadata": {},
   "outputs": [
    {
     "data": {
      "text/html": [
       "<div>\n",
       "<style scoped>\n",
       "    .dataframe tbody tr th:only-of-type {\n",
       "        vertical-align: middle;\n",
       "    }\n",
       "\n",
       "    .dataframe tbody tr th {\n",
       "        vertical-align: top;\n",
       "    }\n",
       "\n",
       "    .dataframe thead th {\n",
       "        text-align: right;\n",
       "    }\n",
       "</style>\n",
       "<table border=\"1\" class=\"dataframe\">\n",
       "  <thead>\n",
       "    <tr style=\"text-align: right;\">\n",
       "      <th></th>\n",
       "      <th>levemir</th>\n",
       "      <th>leve_dollars</th>\n",
       "      <th>z_score</th>\n",
       "    </tr>\n",
       "  </thead>\n",
       "  <tbody>\n",
       "    <tr>\n",
       "      <th>count</th>\n",
       "      <td>2239.000000</td>\n",
       "      <td>2239.000000</td>\n",
       "      <td>2239.000000</td>\n",
       "    </tr>\n",
       "    <tr>\n",
       "      <th>mean</th>\n",
       "      <td>2.470746</td>\n",
       "      <td>25.679620</td>\n",
       "      <td>-0.094356</td>\n",
       "    </tr>\n",
       "    <tr>\n",
       "      <th>std</th>\n",
       "      <td>4.774627</td>\n",
       "      <td>59.377392</td>\n",
       "      <td>0.305284</td>\n",
       "    </tr>\n",
       "    <tr>\n",
       "      <th>min</th>\n",
       "      <td>0.000000</td>\n",
       "      <td>1.000000</td>\n",
       "      <td>-1.407887</td>\n",
       "    </tr>\n",
       "    <tr>\n",
       "      <th>25%</th>\n",
       "      <td>0.000000</td>\n",
       "      <td>1.000000</td>\n",
       "      <td>-0.077396</td>\n",
       "    </tr>\n",
       "    <tr>\n",
       "      <th>50%</th>\n",
       "      <td>0.000000</td>\n",
       "      <td>1.000000</td>\n",
       "      <td>0.000000</td>\n",
       "    </tr>\n",
       "    <tr>\n",
       "      <th>75%</th>\n",
       "      <td>3.000000</td>\n",
       "      <td>26.050000</td>\n",
       "      <td>0.000000</td>\n",
       "    </tr>\n",
       "    <tr>\n",
       "      <th>max</th>\n",
       "      <td>30.000000</td>\n",
       "      <td>1035.520000</td>\n",
       "      <td>4.195262</td>\n",
       "    </tr>\n",
       "  </tbody>\n",
       "</table>\n",
       "</div>"
      ],
      "text/plain": [
       "           levemir  leve_dollars      z_score\n",
       "count  2239.000000   2239.000000  2239.000000\n",
       "mean      2.470746     25.679620    -0.094356\n",
       "std       4.774627     59.377392     0.305284\n",
       "min       0.000000      1.000000    -1.407887\n",
       "25%       0.000000      1.000000    -0.077396\n",
       "50%       0.000000      1.000000     0.000000\n",
       "75%       3.000000     26.050000     0.000000\n",
       "max      30.000000   1035.520000     4.195262"
      ]
     },
     "execution_count": 39,
     "metadata": {},
     "output_type": "execute_result"
    }
   ],
   "source": [
    "train.describe()"
   ]
  },
  {
   "cell_type": "code",
   "execution_count": 40,
   "metadata": {},
   "outputs": [],
   "source": [
    "train.index.freq = 'D' "
   ]
  },
  {
   "cell_type": "code",
   "execution_count": 41,
   "metadata": {},
   "outputs": [
    {
     "data": {
      "text/plain": [
       "(2239, 3)"
      ]
     },
     "execution_count": 41,
     "metadata": {},
     "output_type": "execute_result"
    }
   ],
   "source": [
    "train.shape"
   ]
  },
  {
   "cell_type": "code",
   "execution_count": 42,
   "metadata": {},
   "outputs": [
    {
     "name": "stdout",
     "output_type": "stream",
     "text": [
      "<class 'pandas.core.frame.DataFrame'>\n",
      "DatetimeIndex: 2239 entries, 2013-08-01 to 2019-09-17\n",
      "Freq: D\n",
      "Data columns (total 3 columns):\n",
      " #   Column        Non-Null Count  Dtype  \n",
      "---  ------        --------------  -----  \n",
      " 0   levemir       2239 non-null   int64  \n",
      " 1   leve_dollars  2239 non-null   float64\n",
      " 2   z_score       2239 non-null   float64\n",
      "dtypes: float64(2), int64(1)\n",
      "memory usage: 70.0 KB\n"
     ]
    }
   ],
   "source": [
    "train.info()"
   ]
  },
  {
   "cell_type": "code",
   "execution_count": 43,
   "metadata": {},
   "outputs": [
    {
     "data": {
      "text/plain": [
       "DatetimeIndex(['2013-08-01', '2013-08-02', '2013-08-03', '2013-08-04',\n",
       "               '2013-08-05', '2013-08-06', '2013-08-07', '2013-08-08',\n",
       "               '2013-08-09', '2013-08-10',\n",
       "               ...\n",
       "               '2019-09-08', '2019-09-09', '2019-09-10', '2019-09-11',\n",
       "               '2019-09-12', '2019-09-13', '2019-09-14', '2019-09-15',\n",
       "               '2019-09-16', '2019-09-17'],\n",
       "              dtype='datetime64[ns]', name='Date_of_Payment', length=2239, freq='D')"
      ]
     },
     "execution_count": 43,
     "metadata": {},
     "output_type": "execute_result"
    }
   ],
   "source": [
    "train.index"
   ]
  },
  {
   "cell_type": "code",
   "execution_count": 44,
   "metadata": {},
   "outputs": [
    {
     "data": {
      "text/html": [
       "<div>\n",
       "<style scoped>\n",
       "    .dataframe tbody tr th:only-of-type {\n",
       "        vertical-align: middle;\n",
       "    }\n",
       "\n",
       "    .dataframe tbody tr th {\n",
       "        vertical-align: top;\n",
       "    }\n",
       "\n",
       "    .dataframe thead th {\n",
       "        text-align: right;\n",
       "    }\n",
       "</style>\n",
       "<table border=\"1\" class=\"dataframe\">\n",
       "  <thead>\n",
       "    <tr style=\"text-align: right;\">\n",
       "      <th></th>\n",
       "      <th>levemir</th>\n",
       "      <th>leve_dollars</th>\n",
       "      <th>z_score</th>\n",
       "    </tr>\n",
       "    <tr>\n",
       "      <th>Date_of_Payment</th>\n",
       "      <th></th>\n",
       "      <th></th>\n",
       "      <th></th>\n",
       "    </tr>\n",
       "  </thead>\n",
       "  <tbody>\n",
       "  </tbody>\n",
       "</table>\n",
       "</div>"
      ],
      "text/plain": [
       "Empty DataFrame\n",
       "Columns: [levemir, leve_dollars, z_score]\n",
       "Index: []"
      ]
     },
     "execution_count": 44,
     "metadata": {},
     "output_type": "execute_result"
    }
   ],
   "source": [
    "test = levemir_daily.loc['2020-01-01':]\n",
    "test"
   ]
  },
  {
   "cell_type": "code",
   "execution_count": 45,
   "metadata": {},
   "outputs": [
    {
     "data": {
      "text/html": [
       "<div>\n",
       "<style scoped>\n",
       "    .dataframe tbody tr th:only-of-type {\n",
       "        vertical-align: middle;\n",
       "    }\n",
       "\n",
       "    .dataframe tbody tr th {\n",
       "        vertical-align: top;\n",
       "    }\n",
       "\n",
       "    .dataframe thead th {\n",
       "        text-align: right;\n",
       "    }\n",
       "</style>\n",
       "<table border=\"1\" class=\"dataframe\">\n",
       "  <thead>\n",
       "    <tr style=\"text-align: right;\">\n",
       "      <th></th>\n",
       "      <th>levemir</th>\n",
       "      <th>leve_dollars</th>\n",
       "      <th>z_score</th>\n",
       "    </tr>\n",
       "  </thead>\n",
       "  <tbody>\n",
       "    <tr>\n",
       "      <th>count</th>\n",
       "      <td>0.0</td>\n",
       "      <td>0.0</td>\n",
       "      <td>0.0</td>\n",
       "    </tr>\n",
       "    <tr>\n",
       "      <th>mean</th>\n",
       "      <td>NaN</td>\n",
       "      <td>NaN</td>\n",
       "      <td>NaN</td>\n",
       "    </tr>\n",
       "    <tr>\n",
       "      <th>std</th>\n",
       "      <td>NaN</td>\n",
       "      <td>NaN</td>\n",
       "      <td>NaN</td>\n",
       "    </tr>\n",
       "    <tr>\n",
       "      <th>min</th>\n",
       "      <td>NaN</td>\n",
       "      <td>NaN</td>\n",
       "      <td>NaN</td>\n",
       "    </tr>\n",
       "    <tr>\n",
       "      <th>25%</th>\n",
       "      <td>NaN</td>\n",
       "      <td>NaN</td>\n",
       "      <td>NaN</td>\n",
       "    </tr>\n",
       "    <tr>\n",
       "      <th>50%</th>\n",
       "      <td>NaN</td>\n",
       "      <td>NaN</td>\n",
       "      <td>NaN</td>\n",
       "    </tr>\n",
       "    <tr>\n",
       "      <th>75%</th>\n",
       "      <td>NaN</td>\n",
       "      <td>NaN</td>\n",
       "      <td>NaN</td>\n",
       "    </tr>\n",
       "    <tr>\n",
       "      <th>max</th>\n",
       "      <td>NaN</td>\n",
       "      <td>NaN</td>\n",
       "      <td>NaN</td>\n",
       "    </tr>\n",
       "  </tbody>\n",
       "</table>\n",
       "</div>"
      ],
      "text/plain": [
       "       levemir  leve_dollars  z_score\n",
       "count      0.0           0.0      0.0\n",
       "mean       NaN           NaN      NaN\n",
       "std        NaN           NaN      NaN\n",
       "min        NaN           NaN      NaN\n",
       "25%        NaN           NaN      NaN\n",
       "50%        NaN           NaN      NaN\n",
       "75%        NaN           NaN      NaN\n",
       "max        NaN           NaN      NaN"
      ]
     },
     "execution_count": 45,
     "metadata": {},
     "output_type": "execute_result"
    }
   ],
   "source": [
    "test.describe()"
   ]
  },
  {
   "cell_type": "code",
   "execution_count": 46,
   "metadata": {},
   "outputs": [
    {
     "data": {
      "text/plain": [
       "(0, 3)"
      ]
     },
     "execution_count": 46,
     "metadata": {},
     "output_type": "execute_result"
    }
   ],
   "source": [
    "test.shape"
   ]
  },
  {
   "cell_type": "code",
   "execution_count": 47,
   "metadata": {},
   "outputs": [
    {
     "data": {
      "image/png": "[encoded data removed]",
      "text/plain": [
       "<Figure size 864x576 with 1 Axes>"
      ]
     },
     "metadata": {
      "needs_background": "light"
     },
     "output_type": "display_data"
    }
   ],
   "source": [
    "plt.figure(figsize=(12,8))\n",
    "\n",
    "plt.plot(train.index, train['leve_dollars'], label='Train')\n",
    "plt.plot(test.index, test['leve_dollars'], label='Test')\n",
    "\n",
    "plt.legend(loc='best')\n",
    "plt.title(\"Daily Payments for Levemir Drug\");"
   ]
  },
  {
   "cell_type": "markdown",
   "metadata": {},
   "source": [
    "Baseline - Simple Mean (Naive Model)"
   ]
  },
  {
   "cell_type": "code",
   "execution_count": 48,
   "metadata": {},
   "outputs": [
    {
     "data": {
      "text/html": [
       "<div>\n",
       "<style scoped>\n",
       "    .dataframe tbody tr th:only-of-type {\n",
       "        vertical-align: middle;\n",
       "    }\n",
       "\n",
       "    .dataframe tbody tr th {\n",
       "        vertical-align: top;\n",
       "    }\n",
       "\n",
       "    .dataframe thead th {\n",
       "        text-align: right;\n",
       "    }\n",
       "</style>\n",
       "<table border=\"1\" class=\"dataframe\">\n",
       "  <thead>\n",
       "    <tr style=\"text-align: right;\">\n",
       "      <th></th>\n",
       "      <th>levemir</th>\n",
       "      <th>leve_dollars</th>\n",
       "      <th>z_score</th>\n",
       "    </tr>\n",
       "    <tr>\n",
       "      <th>Date_of_Payment</th>\n",
       "      <th></th>\n",
       "      <th></th>\n",
       "      <th></th>\n",
       "    </tr>\n",
       "  </thead>\n",
       "  <tbody>\n",
       "  </tbody>\n",
       "</table>\n",
       "</div>"
      ],
      "text/plain": [
       "Empty DataFrame\n",
       "Columns: [levemir, leve_dollars, z_score]\n",
       "Index: []"
      ]
     },
     "execution_count": 48,
     "metadata": {},
     "output_type": "execute_result"
    }
   ],
   "source": [
    "df_preds = test.copy(deep=True)\n",
    "df_preds"
   ]
  },
  {
   "cell_type": "code",
   "execution_count": 49,
   "metadata": {},
   "outputs": [
    {
     "data": {
      "text/html": [
       "<div>\n",
       "<style scoped>\n",
       "    .dataframe tbody tr th:only-of-type {\n",
       "        vertical-align: middle;\n",
       "    }\n",
       "\n",
       "    .dataframe tbody tr th {\n",
       "        vertical-align: top;\n",
       "    }\n",
       "\n",
       "    .dataframe thead th {\n",
       "        text-align: right;\n",
       "    }\n",
       "</style>\n",
       "<table border=\"1\" class=\"dataframe\">\n",
       "  <thead>\n",
       "    <tr style=\"text-align: right;\">\n",
       "      <th></th>\n",
       "      <th>levemir</th>\n",
       "      <th>leve_dollars</th>\n",
       "      <th>z_score</th>\n",
       "      <th>simple_mean</th>\n",
       "    </tr>\n",
       "    <tr>\n",
       "      <th>Date_of_Payment</th>\n",
       "      <th></th>\n",
       "      <th></th>\n",
       "      <th></th>\n",
       "      <th></th>\n",
       "    </tr>\n",
       "  </thead>\n",
       "  <tbody>\n",
       "  </tbody>\n",
       "</table>\n",
       "</div>"
      ],
      "text/plain": [
       "Empty DataFrame\n",
       "Columns: [levemir, leve_dollars, z_score, simple_mean]\n",
       "Index: []"
      ]
     },
     "execution_count": 49,
     "metadata": {},
     "output_type": "execute_result"
    }
   ],
   "source": [
    "df_preds['simple_mean'] = train['leve_dollars'].mean()\n",
    "df_preds"
   ]
  },
  {
   "cell_type": "code",
   "execution_count": 50,
   "metadata": {},
   "outputs": [
    {
     "data": {
      "image/png": "[encoded data removed]",
      "text/plain": [
       "<Figure size 864x576 with 1 Axes>"
      ]
     },
     "metadata": {
      "needs_background": "light"
     },
     "output_type": "display_data"
    }
   ],
   "source": [
    "plt.figure(figsize=(12,8))\n",
    "\n",
    "plt.plot(train.index, train['leve_dollars'], label='Train')\n",
    "plt.plot(test.index, test['leve_dollars'], label='Test')\n",
    "plt.plot(df_preds.index, df_preds['simple_mean'], label=\"Baseline (Mean)\")\n",
    "\n",
    "plt.legend(loc='best')\n",
    "plt.title(\"Baseline (Mean) Forecast for Daily Levemir Payments\");"
   ]
  },
  {
   "cell_type": "code",
   "execution_count": 51,
   "metadata": {},
   "outputs": [],
   "source": [
    "from sklearn.metrics import mean_absolute_error, mean_squared_error\n"
   ]
  },
  {
   "cell_type": "code",
   "execution_count": 52,
   "metadata": {},
   "outputs": [
    {
     "ename": "ValueError",
     "evalue": "Found array with 0 sample(s) (shape=(0,)) while a minimum of 1 is required.",
     "output_type": "error",
     "traceback": [
      "\u001b[1;31m---------------------------------------------------------------------------\u001b[0m",
      "\u001b[1;31mValueError\u001b[0m                                Traceback (most recent call last)",
      "\u001b[1;32m~\\AppData\\Local\\Temp/ipykernel_6888/898762773.py\u001b[0m in \u001b[0;36m<module>\u001b[1;34m\u001b[0m\n\u001b[1;32m----> 1\u001b[1;33m \u001b[0mprint\u001b[0m\u001b[1;33m(\u001b[0m\u001b[1;34m\"MAE for Simple Mean Baseline Model:\"\u001b[0m\u001b[1;33m,\u001b[0m \u001b[0mmean_absolute_error\u001b[0m\u001b[1;33m(\u001b[0m\u001b[0mdf_preds\u001b[0m\u001b[1;33m[\u001b[0m\u001b[1;34m'leve_dollars'\u001b[0m\u001b[1;33m]\u001b[0m\u001b[1;33m,\u001b[0m \u001b[0mdf_preds\u001b[0m\u001b[1;33m[\u001b[0m\u001b[1;34m'simple_mean'\u001b[0m\u001b[1;33m]\u001b[0m\u001b[1;33m)\u001b[0m\u001b[1;33m)\u001b[0m\u001b[1;33m\u001b[0m\u001b[1;33m\u001b[0m\u001b[0m\n\u001b[0m\u001b[0;32m      2\u001b[0m \u001b[0mprint\u001b[0m\u001b[1;33m(\u001b[0m\u001b[1;34m\"RMSE for Simple Mean Baseline Model:\"\u001b[0m\u001b[1;33m,\u001b[0m \u001b[0mmean_squared_error\u001b[0m\u001b[1;33m(\u001b[0m\u001b[0mdf_preds\u001b[0m\u001b[1;33m[\u001b[0m\u001b[1;34m'leve_dollars'\u001b[0m\u001b[1;33m]\u001b[0m\u001b[1;33m,\u001b[0m \u001b[0mdf_preds\u001b[0m\u001b[1;33m[\u001b[0m\u001b[1;34m'simple_mean'\u001b[0m\u001b[1;33m]\u001b[0m\u001b[1;33m,\u001b[0m \u001b[0msquared\u001b[0m\u001b[1;33m=\u001b[0m\u001b[1;32mFalse\u001b[0m\u001b[1;33m)\u001b[0m\u001b[1;33m)\u001b[0m\u001b[1;33m\u001b[0m\u001b[1;33m\u001b[0m\u001b[0m\n",
      "\u001b[1;32m~\\anaconda3\\lib\\site-packages\\sklearn\\metrics\\_regression.py\u001b[0m in \u001b[0;36mmean_absolute_error\u001b[1;34m(y_true, y_pred, sample_weight, multioutput)\u001b[0m\n\u001b[0;32m    189\u001b[0m     \u001b[1;36m0.85\u001b[0m\u001b[1;33m...\u001b[0m\u001b[1;33m\u001b[0m\u001b[1;33m\u001b[0m\u001b[0m\n\u001b[0;32m    190\u001b[0m     \"\"\"\n\u001b[1;32m--> 191\u001b[1;33m     y_type, y_true, y_pred, multioutput = _check_reg_targets(\n\u001b[0m\u001b[0;32m    192\u001b[0m         \u001b[0my_true\u001b[0m\u001b[1;33m,\u001b[0m \u001b[0my_pred\u001b[0m\u001b[1;33m,\u001b[0m \u001b[0mmultioutput\u001b[0m\u001b[1;33m\u001b[0m\u001b[1;33m\u001b[0m\u001b[0m\n\u001b[0;32m    193\u001b[0m     )\n",
      "\u001b[1;32m~\\anaconda3\\lib\\site-packages\\sklearn\\metrics\\_regression.py\u001b[0m in \u001b[0;36m_check_reg_targets\u001b[1;34m(y_true, y_pred, multioutput, dtype)\u001b[0m\n\u001b[0;32m     93\u001b[0m     \"\"\"\n\u001b[0;32m     94\u001b[0m     \u001b[0mcheck_consistent_length\u001b[0m\u001b[1;33m(\u001b[0m\u001b[0my_true\u001b[0m\u001b[1;33m,\u001b[0m \u001b[0my_pred\u001b[0m\u001b[1;33m)\u001b[0m\u001b[1;33m\u001b[0m\u001b[1;33m\u001b[0m\u001b[0m\n\u001b[1;32m---> 95\u001b[1;33m     \u001b[0my_true\u001b[0m \u001b[1;33m=\u001b[0m \u001b[0mcheck_array\u001b[0m\u001b[1;33m(\u001b[0m\u001b[0my_true\u001b[0m\u001b[1;33m,\u001b[0m \u001b[0mensure_2d\u001b[0m\u001b[1;33m=\u001b[0m\u001b[1;32mFalse\u001b[0m\u001b[1;33m,\u001b[0m \u001b[0mdtype\u001b[0m\u001b[1;33m=\u001b[0m\u001b[0mdtype\u001b[0m\u001b[1;33m)\u001b[0m\u001b[1;33m\u001b[0m\u001b[1;33m\u001b[0m\u001b[0m\n\u001b[0m\u001b[0;32m     96\u001b[0m     \u001b[0my_pred\u001b[0m \u001b[1;33m=\u001b[0m \u001b[0mcheck_array\u001b[0m\u001b[1;33m(\u001b[0m\u001b[0my_pred\u001b[0m\u001b[1;33m,\u001b[0m \u001b[0mensure_2d\u001b[0m\u001b[1;33m=\u001b[0m\u001b[1;32mFalse\u001b[0m\u001b[1;33m,\u001b[0m \u001b[0mdtype\u001b[0m\u001b[1;33m=\u001b[0m\u001b[0mdtype\u001b[0m\u001b[1;33m)\u001b[0m\u001b[1;33m\u001b[0m\u001b[1;33m\u001b[0m\u001b[0m\n\u001b[0;32m     97\u001b[0m \u001b[1;33m\u001b[0m\u001b[0m\n",
      "\u001b[1;32m~\\anaconda3\\lib\\site-packages\\sklearn\\utils\\validation.py\u001b[0m in \u001b[0;36mcheck_array\u001b[1;34m(array, accept_sparse, accept_large_sparse, dtype, order, copy, force_all_finite, ensure_2d, allow_nd, ensure_min_samples, ensure_min_features, estimator)\u001b[0m\n\u001b[0;32m    803\u001b[0m         \u001b[0mn_samples\u001b[0m \u001b[1;33m=\u001b[0m \u001b[0m_num_samples\u001b[0m\u001b[1;33m(\u001b[0m\u001b[0marray\u001b[0m\u001b[1;33m)\u001b[0m\u001b[1;33m\u001b[0m\u001b[1;33m\u001b[0m\u001b[0m\n\u001b[0;32m    804\u001b[0m         \u001b[1;32mif\u001b[0m \u001b[0mn_samples\u001b[0m \u001b[1;33m<\u001b[0m \u001b[0mensure_min_samples\u001b[0m\u001b[1;33m:\u001b[0m\u001b[1;33m\u001b[0m\u001b[1;33m\u001b[0m\u001b[0m\n\u001b[1;32m--> 805\u001b[1;33m             raise ValueError(\n\u001b[0m\u001b[0;32m    806\u001b[0m                 \u001b[1;34m\"Found array with %d sample(s) (shape=%s) while a\"\u001b[0m\u001b[1;33m\u001b[0m\u001b[1;33m\u001b[0m\u001b[0m\n\u001b[0;32m    807\u001b[0m                 \u001b[1;34m\" minimum of %d is required%s.\"\u001b[0m\u001b[1;33m\u001b[0m\u001b[1;33m\u001b[0m\u001b[0m\n",
      "\u001b[1;31mValueError\u001b[0m: Found array with 0 sample(s) (shape=(0,)) while a minimum of 1 is required."
     ]
    }
   ],
   "source": [
    "print(\"MAE for Simple Mean Baseline Model:\", mean_absolute_error(df_preds['leve_dollars'], df_preds['simple_mean']))\n",
    "print(\"RMSE for Simple Mean Baseline Model:\", mean_squared_error(df_preds['leve_dollars'], df_preds['simple_mean'], squared=False))"
   ]
  },
  {
   "cell_type": "markdown",
   "metadata": {},
   "source": [
    "Make a Seasonal Baseline Model with shift of 7"
   ]
  },
  {
   "cell_type": "code",
   "execution_count": null,
   "metadata": {},
   "outputs": [],
   "source": [
    "df_preds['seasonal_7'] = train['leve_dollars'].shift(7, freq='D') \n",
    "df_preds.head(2)"
   ]
  },
  {
   "cell_type": "code",
   "execution_count": null,
   "metadata": {},
   "outputs": [],
   "source": [
    "plt.figure(figsize=(12,8))\n",
    "\n",
    "plt.plot(train.index, train['leve_dollars'], label='Train')\n",
    "plt.plot(test.index, test['leve_dollars'], label='Test')\n",
    "plt.plot(df_preds.index, df_preds['seasonal_7'], label='Seasonal 7')\n",
    "\n",
    "plt.legend(loc='best')\n",
    "plt.title(\"Seasonal 7 Forecast for Daily Levemir Payments\");"
   ]
  },
  {
   "cell_type": "code",
   "execution_count": null,
   "metadata": {},
   "outputs": [],
   "source": [
    "df_preds['seasonal_7'].fillna(0, inplace=True)"
   ]
  },
  {
   "cell_type": "code",
   "execution_count": null,
   "metadata": {},
   "outputs": [],
   "source": [
    "print(\"MAE for Seasonal Baseline 7 Shift Model:\", mean_absolute_error(df_preds['leve_dollars'], df_preds['seasonal_7']))\n",
    "print(\"RMSE for Seasonal Baseline 7 Shift Model:\", mean_squared_error(df_preds['leve_dollars'], df_preds['seasonal_7'], squared=False))"
   ]
  },
  {
   "cell_type": "markdown",
   "metadata": {},
   "source": [
    "Make a Seasonal Baseline Model with shift of 52"
   ]
  },
  {
   "cell_type": "code",
   "execution_count": null,
   "metadata": {},
   "outputs": [],
   "source": [
    "df_preds['seasonal_52'] = train['leve_dollars'].shift(52, freq='D') \n",
    "df_preds.head(2)"
   ]
  },
  {
   "cell_type": "code",
   "execution_count": null,
   "metadata": {},
   "outputs": [],
   "source": [
    "plt.figure(figsize=(12,8))\n",
    "\n",
    "plt.plot(train.index, train['leve_dollars'], label='Train')\n",
    "plt.plot(test.index, test['leve_dollars'], label='Test')\n",
    "plt.plot(df_preds.index, df_preds['seasonal_52'], label='Seasonal 52')\n",
    "\n",
    "plt.legend(loc='best')\n",
    "plt.title(\"Seasonal 52 Forecast for Daily Levemir Payments\");"
   ]
  },
  {
   "cell_type": "code",
   "execution_count": null,
   "metadata": {},
   "outputs": [],
   "source": [
    "df_preds['seasonal_52'].fillna(0, inplace=True)"
   ]
  },
  {
   "cell_type": "code",
   "execution_count": null,
   "metadata": {},
   "outputs": [],
   "source": [
    "print(\"MAE for Seasonal Baseline 52 Shift Model:\", mean_absolute_error(df_preds['leve_dollars'], df_preds['seasonal_52']))\n",
    "print(\"RMSE for Seasonal Baseline 52 Shift Model:\", mean_squared_error(df_preds['leve_dollars'], df_preds['seasonal_52'], squared=False))"
   ]
  },
  {
   "cell_type": "markdown",
   "metadata": {},
   "source": [
    "This is barely slightly better than the baseline model which had an MSE of 755.49."
   ]
  },
  {
   "cell_type": "markdown",
   "metadata": {},
   "source": [
    "Try a Seasonal Model with a shift of 364"
   ]
  },
  {
   "cell_type": "code",
   "execution_count": null,
   "metadata": {},
   "outputs": [],
   "source": [
    "df_preds['seasonal_364'] = train['leve_dollars'].shift(364, freq='D') \n",
    "df_preds.head(2)"
   ]
  },
  {
   "cell_type": "code",
   "execution_count": null,
   "metadata": {},
   "outputs": [],
   "source": [
    "plt.figure(figsize=(12,8))\n",
    "\n",
    "plt.plot(train.index, train['leve_dollars'], label='Train')\n",
    "plt.plot(test.index, test['leve_dollars'], label='Test')\n",
    "plt.plot(df_preds.index, df_preds['seasonal_364'], label='Seasonal')\n",
    "\n",
    "plt.legend(loc='best')\n",
    "plt.title(\"Seasonal 364 Forecast for Daily Levemir Payments\");"
   ]
  },
  {
   "cell_type": "code",
   "execution_count": null,
   "metadata": {},
   "outputs": [],
   "source": [
    "print(\"MAE for Seasonal Baseline 364 Shift Model:\", mean_absolute_error(df_preds['leve_dollars'], df_preds['seasonal_364']))\n",
    "print(\"RMSE for Seasonal Baseline 364 Shift Model:\", mean_squared_error(df_preds['leve_dollars'], df_preds['seasonal_364'], squared=False))"
   ]
  },
  {
   "cell_type": "markdown",
   "metadata": {},
   "source": [
    "Simple Exponential Smoothing Model"
   ]
  },
  {
   "cell_type": "code",
   "execution_count": null,
   "metadata": {},
   "outputs": [],
   "source": [
    "from statsmodels.tsa.api import SimpleExpSmoothing, ExponentialSmoothing"
   ]
  },
  {
   "cell_type": "code",
   "execution_count": null,
   "metadata": {},
   "outputs": [],
   "source": [
    "ses = SimpleExpSmoothing(train['leve_dollars']).fit(smoothing_level=.5)"
   ]
  },
  {
   "cell_type": "code",
   "execution_count": null,
   "metadata": {},
   "outputs": [],
   "source": [
    "ses.summary()"
   ]
  },
  {
   "cell_type": "code",
   "execution_count": null,
   "metadata": {},
   "outputs": [],
   "source": [
    "ses_forecast = ses.forecast(len(test))"
   ]
  },
  {
   "cell_type": "code",
   "execution_count": null,
   "metadata": {},
   "outputs": [],
   "source": [
    "df_preds['ses'] = ses_forecast"
   ]
  },
  {
   "cell_type": "code",
   "execution_count": null,
   "metadata": {},
   "outputs": [],
   "source": [
    "plt.figure(figsize=(12,8))\n",
    "\n",
    "plt.plot(train.index, train['leve_dollars'], label='Train')\n",
    "plt.plot(test.index, test['leve_dollars'], label='Test')\n",
    "plt.plot(df_preds.index, df_preds['ses'], label='Simple Exponential Smoothing')\n",
    "\n",
    "plt.legend(loc='best')\n",
    "plt.title(\"Simple Exponential Smoothing for Levemir Daily Payments\");"
   ]
  },
  {
   "cell_type": "code",
   "execution_count": null,
   "metadata": {},
   "outputs": [],
   "source": [
    "print(\"MAE for Simple Exponential Smoothing Model:\", mean_absolute_error(df_preds['leve_dollars'], df_preds['ses']))\n",
    "print(\"RMSE for Simple Exponential Smoothing Model:\", mean_squared_error(df_preds['leve_dollars'], df_preds['ses'], squared=False))"
   ]
  },
  {
   "cell_type": "markdown",
   "metadata": {},
   "source": [
    "This is horrible!  The MSE is nearly twice that of the baseline and seasonal models!  Will discard this model."
   ]
  },
  {
   "cell_type": "markdown",
   "metadata": {},
   "source": [
    "Holt-Winters Multiplicative Model with Seasonality of 52"
   ]
  },
  {
   "cell_type": "code",
   "execution_count": null,
   "metadata": {},
   "outputs": [],
   "source": [
    "hw_m52 = ExponentialSmoothing(\n",
    "    train['leve_dollars'],\n",
    "    seasonal_periods=52, \n",
    "    trend='mul',\n",
    "    seasonal='mul'\n",
    ").fit()"
   ]
  },
  {
   "cell_type": "code",
   "execution_count": null,
   "metadata": {},
   "outputs": [],
   "source": [
    "hw_m52.summary()"
   ]
  },
  {
   "cell_type": "code",
   "execution_count": null,
   "metadata": {},
   "outputs": [],
   "source": [
    "df_preds['hw_m52'] = hw_m52.forecast(len(test))\n",
    "df_preds.head(2)"
   ]
  },
  {
   "cell_type": "code",
   "execution_count": null,
   "metadata": {},
   "outputs": [],
   "source": [
    "plt.figure(figsize=(12,8))\n",
    "\n",
    "plt.plot(train.index, train['leve_dollars'], label='Train')\n",
    "plt.plot(test.index, test['leve_dollars'], label='Test')\n",
    "plt.plot(df_preds.index, df_preds['hw_m52'], label='Holt-Winters')\n",
    "\n",
    "plt.legend(loc='best')\n",
    "plt.title(\"Holt-Winters Multiplicative with Seasonality of 52 for Levemir Daily Payments\");"
   ]
  },
  {
   "cell_type": "code",
   "execution_count": null,
   "metadata": {},
   "outputs": [],
   "source": [
    "print(\"MAE for Holt-Winters Multiplicative with Seasonality of 52 Model:\", mean_absolute_error(df_preds['leve_dollars'], df_preds['hw_m52']))\n",
    "print(\"RMSE for Holt-Winters Multiplicative with Seasonality of 52 Model:\", mean_squared_error(df_preds['leve_dollars'], df_preds['hw_m52'], squared=False))"
   ]
  },
  {
   "cell_type": "markdown",
   "metadata": {},
   "source": [
    "This is not as good as the baseline or the seasonal models!"
   ]
  },
  {
   "cell_type": "code",
   "execution_count": null,
   "metadata": {},
   "outputs": [],
   "source": [
    "hw_m364 = ExponentialSmoothing(\n",
    "    train['leve_dollars'],\n",
    "    seasonal_periods=364, \n",
    "    trend='mul',\n",
    "    seasonal='mul'\n",
    ").fit()"
   ]
  },
  {
   "cell_type": "code",
   "execution_count": null,
   "metadata": {},
   "outputs": [],
   "source": [
    "hw_m364.summary()"
   ]
  },
  {
   "cell_type": "code",
   "execution_count": null,
   "metadata": {},
   "outputs": [],
   "source": [
    "df_preds['hw_m364'] = hw_m364.forecast(len(test))\n",
    "df_preds.head(2)"
   ]
  },
  {
   "cell_type": "code",
   "execution_count": null,
   "metadata": {},
   "outputs": [],
   "source": [
    "plt.figure(figsize=(12,8))\n",
    "\n",
    "plt.plot(train.index, train['leve_dollars'], label='Train')\n",
    "plt.plot(test.index, test['leve_dollars'], label='Test')\n",
    "plt.plot(df_preds.index, df_preds['hw_m364'], label='Holt-Winters')\n",
    "\n",
    "plt.legend(loc='best')\n",
    "plt.title(\"Holt-Winters Multiplicative with Seasonality of 364 for Levemir Daily Payments\");"
   ]
  },
  {
   "cell_type": "code",
   "execution_count": null,
   "metadata": {},
   "outputs": [],
   "source": [
    "print(\"MAE for Holt-Winters Multiplicative with Seasonality of 364 Model:\", mean_absolute_error(df_preds['leve_dollars'], df_preds['hw_m364']))\n",
    "print(\"RMSE for Holt-Winters Multiplicative with Seasonality of 364 Model:\", mean_squared_error(df_preds['leve_dollars'], df_preds['hw_m364'], squared=False))"
   ]
  },
  {
   "cell_type": "markdown",
   "metadata": {},
   "source": [
    "Now, try an additive Holt-Winters Model with a seasonal period of 52."
   ]
  },
  {
   "cell_type": "code",
   "execution_count": null,
   "metadata": {},
   "outputs": [],
   "source": [
    "hw_a52 = ExponentialSmoothing(\n",
    "    train['leve_dollars'],\n",
    "    seasonal_periods=52, \n",
    "    trend='add',\n",
    "    seasonal='add'\n",
    ").fit()"
   ]
  },
  {
   "cell_type": "code",
   "execution_count": null,
   "metadata": {},
   "outputs": [],
   "source": [
    "hw_a52.summary()"
   ]
  },
  {
   "cell_type": "code",
   "execution_count": null,
   "metadata": {},
   "outputs": [],
   "source": [
    "df_preds['hw_a52'] = hw_a52.forecast(len(test))\n",
    "df_preds.head(2)"
   ]
  },
  {
   "cell_type": "code",
   "execution_count": null,
   "metadata": {},
   "outputs": [],
   "source": [
    "plt.figure(figsize=(12,8))\n",
    "\n",
    "plt.plot(train.index, train['leve_dollars'], label='Train')\n",
    "plt.plot(test.index, test['leve_dollars'], label='Test')\n",
    "plt.plot(df_preds.index, df_preds['hw_a52'], label='Holt-Winters')\n",
    "\n",
    "plt.legend(loc='best')\n",
    "plt.title(\"Holt-Winters Additive Model with Seasonality of 52 for Daily Levemir Payments\");"
   ]
  },
  {
   "cell_type": "code",
   "execution_count": null,
   "metadata": {},
   "outputs": [],
   "source": [
    "print(\"MAE for Holt-Winters Additive with Seasonality of 52 Model:\", mean_absolute_error(df_preds['leve_dollars'], df_preds['hw_a52']))\n",
    "print(\"RMSE for Holt-Winters Additive with Seasonality of 52 Model:\", mean_squared_error(df_preds['leve_dollars'], df_preds['hw_a52'], squared=False))"
   ]
  },
  {
   "cell_type": "markdown",
   "metadata": {},
   "source": []
  },
  {
   "cell_type": "markdown",
   "metadata": {},
   "source": [
    "Now, try an additive Holt-Winters Model with a seasonal period of 7."
   ]
  },
  {
   "cell_type": "code",
   "execution_count": null,
   "metadata": {},
   "outputs": [],
   "source": [
    "hw_a7 = ExponentialSmoothing(\n",
    "    train['leve_dollars'],\n",
    "    seasonal_periods=7, \n",
    "    trend='add',\n",
    "    seasonal='add'\n",
    ").fit()"
   ]
  },
  {
   "cell_type": "code",
   "execution_count": null,
   "metadata": {},
   "outputs": [],
   "source": [
    "hw_a7.summary()"
   ]
  },
  {
   "cell_type": "code",
   "execution_count": null,
   "metadata": {},
   "outputs": [],
   "source": [
    "df_preds['hw_a7'] = hw_a7.forecast(len(test))\n",
    "df_preds.head(2)"
   ]
  },
  {
   "cell_type": "code",
   "execution_count": null,
   "metadata": {},
   "outputs": [],
   "source": [
    "plt.figure(figsize=(12,8))\n",
    "\n",
    "plt.plot(train.index, train['leve_dollars'], label='Train')\n",
    "plt.plot(test.index, test['leve_dollars'], label='Test')\n",
    "plt.plot(df_preds.index, df_preds['hw_a7'], label='Holt-Winters')\n",
    "\n",
    "plt.legend(loc='best')\n",
    "plt.title(\"Holt-Winters Additive Model with Seasonality of 7 for Daily Payments for Levemir\");"
   ]
  },
  {
   "cell_type": "code",
   "execution_count": null,
   "metadata": {},
   "outputs": [],
   "source": [
    "print(\"MAE for Holt-Winters Additive with Seasonality of 7 Model:\", mean_absolute_error(df_preds['leve_dollars'], df_preds['hw_a7']))\n",
    "print(\"RMSE for Holt-Winters Additive with Seasonality of 7 Model:\", mean_squared_error(df_preds['leve_dollars'], df_preds['hw_a7'], squared=False))"
   ]
  },
  {
   "cell_type": "markdown",
   "metadata": {},
   "source": []
  },
  {
   "cell_type": "code",
   "execution_count": null,
   "metadata": {},
   "outputs": [],
   "source": [
    "hw_a364 = ExponentialSmoothing(\n",
    "    train['leve_dollars'],\n",
    "    seasonal_periods=364, \n",
    "    trend='add',\n",
    "    seasonal='add'\n",
    ").fit()"
   ]
  },
  {
   "cell_type": "code",
   "execution_count": null,
   "metadata": {},
   "outputs": [],
   "source": [
    "hw_a364.summary()"
   ]
  },
  {
   "cell_type": "code",
   "execution_count": null,
   "metadata": {},
   "outputs": [],
   "source": [
    "df_preds['hw_a364'] = hw_a364.forecast(len(test))\n",
    "df_preds.head(2)"
   ]
  },
  {
   "cell_type": "code",
   "execution_count": null,
   "metadata": {},
   "outputs": [],
   "source": [
    "plt.figure(figsize=(12,8))\n",
    "\n",
    "plt.plot(train.index, train['leve_dollars'], label='Train')\n",
    "plt.plot(test.index, test['leve_dollars'], label='Test')\n",
    "plt.plot(df_preds.index, df_preds['hw_a364'], label='Holt-Winters')\n",
    "\n",
    "plt.legend(loc='best')\n",
    "plt.title(\"Holt-Winters Additive Model with Seasonality of 364 for Daily Payments for Levemir\");"
   ]
  },
  {
   "cell_type": "code",
   "execution_count": null,
   "metadata": {},
   "outputs": [],
   "source": [
    "print(\"MAE for Holt-Winters Additive with Seasonality of 364 Model:\", mean_absolute_error(df_preds['leve_dollars'], df_preds['hw_a364']))\n",
    "print(\"RMSE for Holt-Winters Additive with Seasonality of 364 Model:\", mean_squared_error(df_preds['leve_dollars'], df_preds['hw_a364'], squared=False))"
   ]
  },
  {
   "cell_type": "markdown",
   "metadata": {},
   "source": [
    "Now, try a multiplicative Holt-Winters Model with a seasonal period of 7."
   ]
  },
  {
   "cell_type": "code",
   "execution_count": null,
   "metadata": {},
   "outputs": [],
   "source": [
    "hw_m7 = ExponentialSmoothing(\n",
    "    train['leve_dollars'],\n",
    "    seasonal_periods=7, \n",
    "    trend='mul',\n",
    "    seasonal='mul'\n",
    ").fit()"
   ]
  },
  {
   "cell_type": "code",
   "execution_count": null,
   "metadata": {},
   "outputs": [],
   "source": [
    "hw_m7.summary()"
   ]
  },
  {
   "cell_type": "code",
   "execution_count": null,
   "metadata": {},
   "outputs": [],
   "source": [
    "df_preds['hw_m7'] = hw_m7.forecast(len(test))\n",
    "df_preds.head(2)"
   ]
  },
  {
   "cell_type": "code",
   "execution_count": null,
   "metadata": {},
   "outputs": [],
   "source": [
    "plt.figure(figsize=(12,8))\n",
    "\n",
    "plt.plot(train.index, train['leve_dollars'], label='Train')\n",
    "plt.plot(test.index, test['leve_dollars'], label='Test')\n",
    "plt.plot(df_preds.index, df_preds['hw_m7'], label='Holt Winters')\n",
    "\n",
    "plt.legend(loc='best')\n",
    "plt.title(\"Holt-Winters Multiplicative Seasonality of 7 Model for Levemir Daily Payments\");"
   ]
  },
  {
   "cell_type": "code",
   "execution_count": null,
   "metadata": {},
   "outputs": [],
   "source": [
    "print(\"MAE for Holt-Winters Multiplicative with Seasonality of 7 Model:\", mean_absolute_error(df_preds['leve_dollars'], df_preds['hw_m7']))\n",
    "print(\"RMSE for Holt-Winters Multiplicative with Seasonality of 7 Model:\", mean_squared_error(df_preds['leve_dollars'], df_preds['hw_m7'], squared=False))"
   ]
  },
  {
   "cell_type": "markdown",
   "metadata": {},
   "source": [
    "Beats seasonal 52 and baseline mean models, but prediction curve just looks all wrong!"
   ]
  },
  {
   "cell_type": "markdown",
   "metadata": {},
   "source": [
    "Try a SARIMA Model"
   ]
  },
  {
   "cell_type": "code",
   "execution_count": null,
   "metadata": {},
   "outputs": [],
   "source": [
    "from pmdarima.utils import tsdisplay"
   ]
  },
  {
   "cell_type": "code",
   "execution_count": null,
   "metadata": {},
   "outputs": [],
   "source": [
    "traina = train['leve_dollars']"
   ]
  },
  {
   "cell_type": "code",
   "execution_count": null,
   "metadata": {},
   "outputs": [],
   "source": [
    "tsdisplay(traina)"
   ]
  },
  {
   "cell_type": "code",
   "execution_count": null,
   "metadata": {},
   "outputs": [],
   "source": [
    "import pmdarima as pmd\n",
    "model_s7 = pmd.auto_arima(train['leve_dollars'], m=7, trace=True)"
   ]
  },
  {
   "cell_type": "code",
   "execution_count": null,
   "metadata": {},
   "outputs": [],
   "source": [
    "model_s7.summary()"
   ]
  },
  {
   "cell_type": "code",
   "execution_count": null,
   "metadata": {},
   "outputs": [],
   "source": [
    "preds_sar7 = model_s7.predict(test.shape[0])\n",
    "preds_sar7"
   ]
  },
  {
   "cell_type": "code",
   "execution_count": null,
   "metadata": {},
   "outputs": [],
   "source": [
    "df_preds['sarima7_auto'] = preds_sar7\n",
    "df_preds['sarima7_auto'].head(2)"
   ]
  },
  {
   "cell_type": "code",
   "execution_count": null,
   "metadata": {},
   "outputs": [],
   "source": [
    "plt.figure(figsize=(16,8))\n",
    "plt.plot(train['leve_dollars'], label='Train')\n",
    "plt.plot(test['leve_dollars'], label='Test')\n",
    "plt.plot(df_preds['sarima7_auto'], label='SARIMA_7_auto')\n",
    "plt.legend(loc='best')\n",
    "plt.title(\"SARIMA Seasonality of 7 Model for Levemir Daily Payments\");"
   ]
  },
  {
   "cell_type": "code",
   "execution_count": null,
   "metadata": {},
   "outputs": [],
   "source": [
    "print(\"MAE for SARIMA with Seasonality of 7 Model:\", mean_absolute_error(df_preds['leve_dollars'], df_preds['sarima7_auto']))\n",
    "print(\"RMSE for SARIMA with Seasonality of 7 Model:\", mean_squared_error(df_preds['leve_dollars'], df_preds['sarima7_auto'], squared=False))"
   ]
  },
  {
   "cell_type": "markdown",
   "metadata": {},
   "source": [
    "Try a SARIMA Model with m = 52 - Ran out of memory after 11m 58.4s!"
   ]
  },
  {
   "cell_type": "code",
   "execution_count": null,
   "metadata": {},
   "outputs": [],
   "source": [
    "#model_s52 = pmd.auto_arima(train['leve_dollars'], m=52, trace=True)"
   ]
  },
  {
   "cell_type": "code",
   "execution_count": null,
   "metadata": {},
   "outputs": [],
   "source": [
    "#model_s52.summary()"
   ]
  },
  {
   "cell_type": "code",
   "execution_count": null,
   "metadata": {},
   "outputs": [],
   "source": [
    "#preds_sar52 = model_s52.predict(test.shape[0])\n",
    "#preds_sar52"
   ]
  },
  {
   "cell_type": "code",
   "execution_count": null,
   "metadata": {},
   "outputs": [],
   "source": [
    "#df_preds['sarima52_auto'] = preds_sar52\n",
    "#df_preds['sarima52_auto'].head(2)"
   ]
  },
  {
   "cell_type": "code",
   "execution_count": null,
   "metadata": {},
   "outputs": [],
   "source": [
    "#plt.figure(figsize=(16,8))\n",
    "#plt.plot(train['leve_dollars'], label='Train')\n",
    "#plt.plot(test['leve_dollars'], label='Test')\n",
    "#plt.plot(df_preds['sarima52_auto'], label='SARIMA_52_auto')\n",
    "#plt.legend(loc='best')\n",
    "#plt.title(\"SARIMA Seasonality of 7 Model for Levemir Daily Payments\");"
   ]
  },
  {
   "cell_type": "code",
   "execution_count": null,
   "metadata": {},
   "outputs": [],
   "source": [
    "#print(\"MAE for Holt-Winters Additive with Seasonality of 52 Model:\", mean_absolute_error(df_preds['leve_dollars'], df_preds['sarima52_auto']))\n",
    "#print(\"RMSE for Holt-Winters Additive with Seasonality of 52 Model:\", mean_squared_error(df_preds['leve_dollars'], df_preds['sarima52_auto'], squared=False))"
   ]
  },
  {
   "cell_type": "code",
   "execution_count": null,
   "metadata": {},
   "outputs": [],
   "source": [
    "print(\"Summary of Metrics for Daily Levemir CMS Payments\")\n",
    "print(\"_________________________________________________\")\n",
    "print(\"MAE for Simple Mean Baseline Model:\", mean_absolute_error(df_preds['leve_dollars'], df_preds['simple_mean']))\n",
    "print(\"RMSE for Simple Mean Baseline Model:\", mean_squared_error(df_preds['leve_dollars'], df_preds['simple_mean'], squared=False))\n",
    "print(\"_________________________________________________\")\n",
    "print(\"MAE for Seasonal Baseline 7 Shift Model:\", mean_absolute_error(df_preds['leve_dollars'], df_preds['seasonal_7']))\n",
    "print(\"RMSE for Seasonal Baseline 7 Shift Model:\", mean_squared_error(df_preds['leve_dollars'], df_preds['seasonal_7'], squared=False))\n",
    "print(\"_________________________________________________\")\n",
    "print(\"MAE for Seasonal Baseline 52 Shift Model:\", mean_absolute_error(df_preds['leve_dollars'], df_preds['seasonal_52']))\n",
    "print(\"RMSE for Seasonal Baseline 52 Shift Model:\", mean_squared_error(df_preds['leve_dollars'], df_preds['seasonal_52'], squared=False))\n",
    "print(\"_________________________________________________\")\n",
    "print(\"MAE for Seasonal Baseline 364 Shift Model:\", mean_absolute_error(df_preds['leve_dollars'], df_preds['seasonal_364']))\n",
    "print(\"RMSE for Seasonal Baseline 364 Shift Model:\", mean_squared_error(df_preds['leve_dollars'], df_preds['seasonal_364'], squared=False))\n",
    "print(\"_________________________________________________\")\n",
    "print(\"MAE for Simple Exponential Smoothing Model:\", mean_absolute_error(df_preds['leve_dollars'], df_preds['ses']))\n",
    "print(\"RMSE for Simple Exponential Smoothing Model:\", mean_squared_error(df_preds['leve_dollars'], df_preds['ses'], squared=False))\n",
    "print(\"_________________________________________________\")\n",
    "print(\"MAE for Holt-Winters Multiplicative with Seasonality of 7 Model:\", mean_absolute_error(df_preds['leve_dollars'], df_preds['hw_m7']))\n",
    "print(\"RMSE for Holt-Winters Multiplicative with Seasonality of 7 Model:\", mean_squared_error(df_preds['leve_dollars'], df_preds['hw_m7'], squared=False))\n",
    "print(\"_________________________________________________\")\n",
    "print(\"MAE for Holt-Winters Multiplicative with Seasonality of 52 Model:\", mean_absolute_error(df_preds['leve_dollars'], df_preds['hw_m52']))\n",
    "print(\"RMSE for Holt-Winters Multiplicative with Seasonality of 52 Model:\", mean_squared_error(df_preds['leve_dollars'], df_preds['hw_m52'], squared=False))\n",
    "print(\"_________________________________________________\")\n",
    "print(\"MAE for Holt-Winters Multiplicative with Seasonality of 364 Model:\", mean_absolute_error(df_preds['leve_dollars'], df_preds['hw_m364']))\n",
    "print(\"RMSE for Holt-Winters Multiplicative with Seasonality of 364 Model:\", mean_squared_error(df_preds['leve_dollars'], df_preds['hw_m364'], squared=False))\n",
    "print(\"_________________________________________________\")\n"
   ]
  },
  {
   "cell_type": "code",
   "execution_count": null,
   "metadata": {},
   "outputs": [],
   "source": [
    "print(\"Continued Summary of Metrics for Daily Levemir CMS Payments\")\n",
    "print(\"_________________________________________________\")\n",
    "print(\"MAE for Holt-Winters Additive with Seasonality of 7 Model:\", mean_absolute_error(df_preds['leve_dollars'], df_preds['hw_a7']))\n",
    "print(\"RMSE for Holt-Winters Additive with Seasonality of 7 Model:\", mean_squared_error(df_preds['leve_dollars'], df_preds['hw_a7'], squared=False))\n",
    "print(\"_________________________________________________\")\n",
    "print(\"MAE for Holt-Winters Additive with Seasonality of 52 Model:\", mean_absolute_error(df_preds['leve_dollars'], df_preds['hw_a52']))\n",
    "print(\"RMSE for Holt-Winters Additive with Seasonality of 52 Model:\", mean_squared_error(df_preds['leve_dollars'], df_preds['hw_a52'], squared=False))\n",
    "print(\"_________________________________________________\")\n",
    "print(\"MAE for Holt-Winters Additive with Seasonality of 364 Model:\", mean_absolute_error(df_preds['leve_dollars'], df_preds['hw_a364']))\n",
    "print(\"RMSE for Holt-Winters Additive with Seasonality of 364 Model:\", mean_squared_error(df_preds['leve_dollars'], df_preds['hw_a364'], squared=False))\n",
    "print(\"_________________________________________________\")\n",
    "print(\"MAE for SARIMA with Seasonality of 7 Model:\", mean_absolute_error(df_preds['leve_dollars'], df_preds['sarima7_auto']))\n",
    "print(\"RMSE for SARIMA with Seasonality of 7 Model:\", mean_squared_error(df_preds['leve_dollars'], df_preds['sarima7_auto'], squared=False))\n",
    "print(\"_________________________________________________\")\n",
    "#print(\"MAE for SARIMA with Seasonality of 52 Model:\", mean_absolute_error(df_preds['leve_dollars'], df_preds['sarima52_auto']))\n",
    "#print(\"RMSE for SARIMA with Seasonality of 52 Model:\", mean_squared_error(df_preds['leve_dollars'], df_preds['sarima52_auto'], squared=False))"
   ]
  }
 ],
 "metadata": {
  "interpreter": {
   "hash": "a210cac6bd36216e5c011d71d69db00a7646549e6b2f7edb5da22b230d34cfb7"
  },
  "kernelspec": {
   "display_name": "Python 3 (ipykernel)",
   "language": "python",
   "name": "python3"
  },
  "language_info": {
   "codemirror_mode": {
    "name": "ipython",
    "version": 3
   },
   "file_extension": ".py",
   "mimetype": "text/x-python",
   "name": "python",
   "nbconvert_exporter": "python",
   "pygments_lexer": "ipython3",
   "version": "3.9.7"
  }
 },
 "nbformat": 4,
 "nbformat_minor": 4
}
