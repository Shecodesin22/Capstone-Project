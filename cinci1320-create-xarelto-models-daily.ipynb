{
 "cells": [
  {
   "cell_type": "code",
   "execution_count": null,
   "metadata": {},
   "outputs": [],
   "source": [
    "import pandas as pd\n",
    "import numpy as np\n",
    "import seaborn as sns\n",
    "import matplotlib.pyplot as plt"
   ]
  },
  {
   "cell_type": "code",
   "execution_count": null,
   "metadata": {},
   "outputs": [],
   "source": [
    "cinci_1320 = pd.read_csv('./data/cinci1320.csv', index_col='Date_of_Payment', parse_dates=True).sort_index()"
   ]
  },
  {
   "cell_type": "code",
   "execution_count": null,
   "metadata": {},
   "outputs": [],
   "source": [
    "cinci_1320.head()"
   ]
  },
  {
   "cell_type": "code",
   "execution_count": null,
   "metadata": {},
   "outputs": [],
   "source": [
    "cinci_1320['Change_Type'].value_counts()"
   ]
  },
  {
   "cell_type": "code",
   "execution_count": null,
   "metadata": {},
   "outputs": [],
   "source": [
    "cinci_1320['xarelto'].value_counts()"
   ]
  },
  {
   "cell_type": "code",
   "execution_count": null,
   "metadata": {},
   "outputs": [],
   "source": [
    "xarelto = cinci_1320[(cinci_1320['xarelto']==1) & (cinci_1320['Number_of_Payments_Included_in_Total_Amount']==1)].copy()"
   ]
  },
  {
   "cell_type": "code",
   "execution_count": null,
   "metadata": {},
   "outputs": [],
   "source": [
    "xarelto.head()"
   ]
  },
  {
   "cell_type": "code",
   "execution_count": null,
   "metadata": {},
   "outputs": [],
   "source": [
    "xarelto['xarelto'].value_counts()"
   ]
  },
  {
   "cell_type": "code",
   "execution_count": null,
   "metadata": {},
   "outputs": [],
   "source": [
    "xarelto['Change_Type'].value_counts()"
   ]
  },
  {
   "cell_type": "code",
   "execution_count": null,
   "metadata": {},
   "outputs": [],
   "source": [
    "xarelto['xare_dollars'] = [k if ((i ==1) & (j ==1)) else 0 for i, j, k in zip(xarelto['xarelto'], xarelto['Number_of_Payments_Included_in_Total_Amount'], xarelto['Total_Amount_of_Payment_USDollars'])]\n",
    "\n",
    "#Ben Peck helped me with this during office hours.  I was oh-so-close but not quite there!"
   ]
  },
  {
   "cell_type": "code",
   "execution_count": null,
   "metadata": {},
   "outputs": [],
   "source": [
    "xarelto['xare_dollars'].sum()"
   ]
  },
  {
   "cell_type": "code",
   "execution_count": null,
   "metadata": {},
   "outputs": [],
   "source": [
    "xarelto.head()"
   ]
  },
  {
   "cell_type": "code",
   "execution_count": null,
   "metadata": {},
   "outputs": [],
   "source": [
    "xarelto['Physician_Profile_ID'].value_counts()"
   ]
  },
  {
   "cell_type": "markdown",
   "metadata": {},
   "source": [
    "Appy Benford's Law to data of physician with most reimbursements for xarelto"
   ]
  },
  {
   "cell_type": "code",
   "execution_count": null,
   "metadata": {},
   "outputs": [],
   "source": [
    "benny_xare = xarelto[xarelto['Physician_Profile_ID']== 168222].copy()\n"
   ]
  },
  {
   "cell_type": "code",
   "execution_count": null,
   "metadata": {},
   "outputs": [],
   "source": [
    "benny_xare.head()"
   ]
  },
  {
   "cell_type": "markdown",
   "metadata": {},
   "source": [
    "Set up columns for Benford's Law Graph"
   ]
  },
  {
   "cell_type": "markdown",
   "metadata": {},
   "source": [
    "Learned about this in Noah's lesson during week 12 and code is based on what he shared."
   ]
  },
  {
   "cell_type": "code",
   "execution_count": null,
   "metadata": {},
   "outputs": [],
   "source": [
    "digits = list(range(1,10))\n",
    "benford = [np.log10(1 + (1/d)) for d in digits]\n",
    "benford"
   ]
  },
  {
   "cell_type": "code",
   "execution_count": null,
   "metadata": {},
   "outputs": [],
   "source": [
    "benny_xare['prep_dollars'] = [amt if amt > 1 else amt*10 for amt in benny_xare['xare_dollars']]"
   ]
  },
  {
   "cell_type": "code",
   "execution_count": null,
   "metadata": {},
   "outputs": [],
   "source": [
    "benny_xare['FIRST_DIGIT'] = [int(str(amt)[0]) for amt in benny_xare['prep_dollars']]"
   ]
  },
  {
   "cell_type": "code",
   "execution_count": null,
   "metadata": {},
   "outputs": [],
   "source": [
    "benny_xare.head()"
   ]
  },
  {
   "cell_type": "code",
   "execution_count": null,
   "metadata": {},
   "outputs": [],
   "source": [
    "percentages = benny_xare['FIRST_DIGIT'].value_counts(normalize = True).sort_index()"
   ]
  },
  {
   "cell_type": "code",
   "execution_count": null,
   "metadata": {},
   "outputs": [],
   "source": [
    "plt.bar(digits, benford)\n",
    "\n",
    "plt.plot(percentages, color = 'orange', marker = 'o')\n",
    "plt.xticks(digits);"
   ]
  },
  {
   "cell_type": "code",
   "execution_count": null,
   "metadata": {},
   "outputs": [],
   "source": [
    "drop_cols = ['Change_Type','Covered_Recipient_Type',\n",
    "'Physician_First_Name',\n",
    "'Physician_Middle_Name',\n",
    "'Physician_Last_Name',\n",
    "'Physician_Name_Suffix',\n",
    "'Recipient_Primary_Business_Street_Address_Line1',\n",
    "'Recipient_Primary_Business_Street_Address_Line2',\n",
    "'Recipient_City',\n",
    "'Recipient_State',\n",
    "'Recipient_Zip_Code',\n",
    "'Recipient_Country',\n",
    "'Physician_Primary_Type',\n",
    "'Physician_Specialty',\n",
    "'Physician_License_State_code1',\n",
    "'Physician_License_State_code2',\n",
    "'Physician_License_State_code3',\n",
    "'Physician_License_State_code4',\n",
    "'Physician_License_State_code5',\n",
    "'Submitting_Applicable_Manufacturer_or_Applicable_GPO_Name',\n",
    "'Applicable_Manufacturer_or_Applicable_GPO_Making_Payment_Name',\n",
    "'Applicable_Manufacturer_or_Applicable_GPO_Making_Payment_State',\n",
    "'Applicable_Manufacturer_or_Applicable_GPO_Making_Payment_Country',\n",
    "'Form_of_Payment_or_Transfer_of_Value',\n",
    "'City_of_Travel',\n",
    "'State_of_Travel',\n",
    "'Country_of_Travel',\n",
    "'Physician_Ownership_Indicator',\n",
    "'Third_Party_Payment_Recipient_Indicator',\n",
    "'Name_of_Third_Party_Entity_Receiving_Payment_or_Transfer_of_Value',\n",
    "'Charity_Indicator',\n",
    "'Third_Party_Equals_Covered_Recipient_Indicator',\n",
    "'Contextual_Information',\n",
    "'Delay_in_Publication_Indicator',\n",
    "'Dispute_Status_for_Publication',\n",
    "'Related_Product_Indicator',\n",
    "'Covered_or_Noncovered_Indicator_1',\n",
    "'Indicate_Drug_or_Biological_or_Device_or_Medical_Supply_1',\n",
    "'Product_Category_or_Therapeutic_Area_1',\n",
    "'Name_of_Drug_or_Biological_or_Device_or_Medical_Supply_1',\n",
    "'Associated_Drug_or_Biological_NDC_1',\n",
    "'Covered_or_Noncovered_Indicator_2',\n",
    "'Indicate_Drug_or_Biological_or_Device_or_Medical_Supply_2',\n",
    "'Product_Category_or_Therapeutic_Area_2',\n",
    "'Name_of_Drug_or_Biological_or_Device_or_Medical_Supply_2',\n",
    "'Associated_Drug_or_Biological_NDC_2',\n",
    "'Covered_or_Noncovered_Indicator_3',\n",
    "'Indicate_Drug_or_Biological_or_Device_or_Medical_Supply_3',\n",
    "'Product_Category_or_Therapeutic_Area_3',\n",
    "'Name_of_Drug_or_Biological_or_Device_or_Medical_Supply_3',\n",
    "'Associated_Drug_or_Biological_NDC_3',\n",
    "'Covered_or_Noncovered_Indicator_4',\n",
    "'Indicate_Drug_or_Biological_or_Device_or_Medical_Supply_4',\n",
    "'Product_Category_or_Therapeutic_Area_4',\n",
    "'Name_of_Drug_or_Biological_or_Device_or_Medical_Supply_4',\n",
    "'Associated_Drug_or_Biological_NDC_4',\n",
    "'Covered_or_Noncovered_Indicator_5',\n",
    "'Indicate_Drug_or_Biological_or_Device_or_Medical_Supply_5',\n",
    "'Product_Category_or_Therapeutic_Area_5',\n",
    "'Name_of_Drug_or_Biological_or_Device_or_Medical_Supply_5',\n",
    "'Associated_Drug_or_Biological_NDC_5', \n",
    "'Physician_Profile_ID', 'Applicable_Manufacturer_or_Applicable_GPO_Making_Payment_ID',\n",
    "'Total_Amount_of_Payment_USDollars','Number_of_Payments_Included_in_Total_Amount', \n",
    "'Nature_of_Payment_or_Transfer_of_Value', 'Record_ID', \n",
    "'Payment_Publication_Date', 'Program_Year',\n",
    "'NDC_of_Associated_Covered_Drug_or_Biological1',\n",
    "'NDC_of_Associated_Covered_Drug_or_Biological2',\n",
    "'NDC_of_Associated_Covered_Drug_or_Biological3',\n",
    "'NDC_of_Associated_Covered_Drug_or_Biological4',\n",
    "'NDC_of_Associated_Covered_Drug_or_Biological5',\n",
    "'Name_of_Associated_Covered_Device_or_Medical_Supply1',\n",
    "'Name_of_Associated_Covered_Device_or_Medical_Supply2',\n",
    "'Name_of_Associated_Covered_Device_or_Medical_Supply3',\n",
    "'Name_of_Associated_Covered_Device_or_Medical_Supply4',\n",
    "'Name_of_Associated_Covered_Device_or_Medical_Supply5',\n",
    "'invokana', 'farxiga', 'victoza', 'humira', 'levemir',\n",
    "'entresto', 'chantix', 'myrbetriq', 'toujeo']"
   ]
  },
  {
   "cell_type": "code",
   "execution_count": null,
   "metadata": {},
   "outputs": [],
   "source": [
    "xarelto.drop(columns = drop_cols, inplace = True)"
   ]
  },
  {
   "cell_type": "code",
   "execution_count": null,
   "metadata": {},
   "outputs": [],
   "source": [
    "xarelto.head()"
   ]
  },
  {
   "cell_type": "markdown",
   "metadata": {},
   "source": [
    "Was reminded of the importance of checking data for outliers by this article, and modeled my filtering code below on this article:\n",
    "https://www.analyticsvidhya.com/blog/2021/08/holt-winters-method-for-time-series-analysis/"
   ]
  },
  {
   "cell_type": "code",
   "execution_count": null,
   "metadata": {},
   "outputs": [],
   "source": [
    "sns.boxplot(x = xarelto['xare_dollars']);"
   ]
  },
  {
   "cell_type": "code",
   "execution_count": null,
   "metadata": {},
   "outputs": [],
   "source": [
    "xarelto['z_score'] = [ ((i - xarelto['xare_dollars'].mean())/xarelto['xare_dollars'].std()) for i in xarelto['xare_dollars']]"
   ]
  },
  {
   "cell_type": "code",
   "execution_count": null,
   "metadata": {},
   "outputs": [],
   "source": [
    "xarelto.shape"
   ]
  },
  {
   "cell_type": "code",
   "execution_count": null,
   "metadata": {},
   "outputs": [],
   "source": [
    "xareltob = xarelto[(np.abs(xarelto['z_score']) < 3)].copy()"
   ]
  },
  {
   "cell_type": "code",
   "execution_count": null,
   "metadata": {},
   "outputs": [],
   "source": [
    "xareltob.shape"
   ]
  },
  {
   "cell_type": "code",
   "execution_count": null,
   "metadata": {},
   "outputs": [],
   "source": [
    "xareltob.describe()"
   ]
  },
  {
   "cell_type": "code",
   "execution_count": null,
   "metadata": {},
   "outputs": [],
   "source": [
    "xareltob.drop(columns='z_score', inplace=True)"
   ]
  },
  {
   "cell_type": "code",
   "execution_count": null,
   "metadata": {},
   "outputs": [],
   "source": [
    "xarelto_daily = xareltob.resample('d').sum()"
   ]
  },
  {
   "cell_type": "code",
   "execution_count": null,
   "metadata": {},
   "outputs": [],
   "source": [
    "xarelto_daily.head()"
   ]
  },
  {
   "cell_type": "code",
   "execution_count": null,
   "metadata": {},
   "outputs": [],
   "source": [
    "xarelto_daily.sort_index()"
   ]
  },
  {
   "cell_type": "markdown",
   "metadata": {},
   "source": [
    "Look at some plots"
   ]
  },
  {
   "cell_type": "code",
   "execution_count": null,
   "metadata": {},
   "outputs": [],
   "source": [
    "from statsmodels.graphics.tsaplots import plot_acf, plot_pacf\n",
    "from statsmodels.tsa.stattools import acf, pacf"
   ]
  },
  {
   "cell_type": "code",
   "execution_count": null,
   "metadata": {},
   "outputs": [],
   "source": [
    "plot_acf(xarelto_daily['xare_dollars'], alpha=None, lags=24);"
   ]
  },
  {
   "cell_type": "code",
   "execution_count": null,
   "metadata": {},
   "outputs": [],
   "source": [
    "plot_pacf(xarelto_daily['xare_dollars'], alpha=None, lags=24);"
   ]
  },
  {
   "cell_type": "markdown",
   "metadata": {},
   "source": [
    "Adding 1 to the weekly sales for each observation so that Holt-Winters will work."
   ]
  },
  {
   "cell_type": "code",
   "execution_count": null,
   "metadata": {},
   "outputs": [],
   "source": [
    "xarelto_daily['xare_dollars'] = [i+1 for i in xarelto_daily['xare_dollars']]"
   ]
  },
  {
   "cell_type": "markdown",
   "metadata": {},
   "source": [
    "Set up Train and Test Sets using 2013 - 2020 Data"
   ]
  },
  {
   "cell_type": "code",
   "execution_count": null,
   "metadata": {},
   "outputs": [],
   "source": [
    "train = xarelto_daily.loc[:'2019-12-31']\n",
    "train"
   ]
  },
  {
   "cell_type": "code",
   "execution_count": null,
   "metadata": {},
   "outputs": [],
   "source": [
    "train['xare_dollars'].max()"
   ]
  },
  {
   "cell_type": "code",
   "execution_count": null,
   "metadata": {},
   "outputs": [],
   "source": [
    "train.describe()"
   ]
  },
  {
   "cell_type": "code",
   "execution_count": null,
   "metadata": {},
   "outputs": [],
   "source": [
    "train.index.freq = 'D' "
   ]
  },
  {
   "cell_type": "code",
   "execution_count": null,
   "metadata": {},
   "outputs": [],
   "source": [
    "train.shape"
   ]
  },
  {
   "cell_type": "code",
   "execution_count": null,
   "metadata": {},
   "outputs": [],
   "source": [
    "train.info()"
   ]
  },
  {
   "cell_type": "code",
   "execution_count": null,
   "metadata": {},
   "outputs": [],
   "source": [
    "train.index"
   ]
  },
  {
   "cell_type": "code",
   "execution_count": null,
   "metadata": {},
   "outputs": [],
   "source": [
    "test = xarelto_daily.loc['2020-01-01':]\n",
    "test"
   ]
  },
  {
   "cell_type": "code",
   "execution_count": null,
   "metadata": {},
   "outputs": [],
   "source": [
    "test.describe()"
   ]
  },
  {
   "cell_type": "code",
   "execution_count": null,
   "metadata": {},
   "outputs": [],
   "source": [
    "test.shape"
   ]
  },
  {
   "cell_type": "code",
   "execution_count": null,
   "metadata": {},
   "outputs": [],
   "source": [
    "plt.figure(figsize=(12,8))\n",
    "\n",
    "plt.plot(train.index, train['xare_dollars'], label='Train')\n",
    "plt.plot(test.index, test['xare_dollars'], label='Test')\n",
    "\n",
    "plt.legend(loc='best')\n",
    "plt.title(\"Daily Payments for Xarelto Drug\");"
   ]
  },
  {
   "cell_type": "markdown",
   "metadata": {},
   "source": [
    "Baseline - Simple Mean (Naive Model)"
   ]
  },
  {
   "cell_type": "code",
   "execution_count": null,
   "metadata": {},
   "outputs": [],
   "source": [
    "df_preds = test.copy(deep=True)\n",
    "df_preds"
   ]
  },
  {
   "cell_type": "code",
   "execution_count": null,
   "metadata": {},
   "outputs": [],
   "source": [
    "df_preds['simple_mean'] = train['xare_dollars'].mean()\n",
    "df_preds"
   ]
  },
  {
   "cell_type": "code",
   "execution_count": null,
   "metadata": {},
   "outputs": [],
   "source": [
    "plt.figure(figsize=(12,8))\n",
    "\n",
    "plt.plot(train.index, train['xare_dollars'], label='Train')\n",
    "plt.plot(test.index, test['xare_dollars'], label='Test')\n",
    "plt.plot(df_preds.index, df_preds['simple_mean'], label=\"Baseline (Mean)\")\n",
    "\n",
    "plt.legend(loc='best')\n",
    "plt.title(\"Baseline (Mean) Forecast for Daily Xarelto Payments\");"
   ]
  },
  {
   "cell_type": "code",
   "execution_count": null,
   "metadata": {},
   "outputs": [],
   "source": [
    "from sklearn.metrics import mean_absolute_error, mean_squared_error\n"
   ]
  },
  {
   "cell_type": "code",
   "execution_count": null,
   "metadata": {},
   "outputs": [],
   "source": [
    "print(\"MAE for Simple Mean Baseline Model:\", mean_absolute_error(df_preds['xare_dollars'], df_preds['simple_mean']))\n",
    "print(\"RMSE for Simple Mean Baseline Model:\", mean_squared_error(df_preds['xare_dollars'], df_preds['simple_mean'], squared=False))"
   ]
  },
  {
   "cell_type": "markdown",
   "metadata": {},
   "source": [
    "Make a Seasonal Baseline Model with shift of 7"
   ]
  },
  {
   "cell_type": "code",
   "execution_count": null,
   "metadata": {},
   "outputs": [],
   "source": [
    "df_preds['seasonal_7'] = train['xare_dollars'].shift(7, freq='D') \n",
    "df_preds.head(2)"
   ]
  },
  {
   "cell_type": "code",
   "execution_count": null,
   "metadata": {},
   "outputs": [],
   "source": [
    "plt.figure(figsize=(12,8))\n",
    "\n",
    "plt.plot(train.index, train['xare_dollars'], label='Train')\n",
    "plt.plot(test.index, test['xare_dollars'], label='Test')\n",
    "plt.plot(df_preds.index, df_preds['seasonal_7'], label='Seasonal 7')\n",
    "\n",
    "plt.legend(loc='best')\n",
    "plt.title(\"Seasonal 7 Forecast for Daily Xarelto Payments\");"
   ]
  },
  {
   "cell_type": "code",
   "execution_count": null,
   "metadata": {},
   "outputs": [],
   "source": [
    "df_preds['seasonal_7'].fillna(0, inplace=True)"
   ]
  },
  {
   "cell_type": "code",
   "execution_count": null,
   "metadata": {},
   "outputs": [],
   "source": [
    "print(\"MAE for Seasonal Baseline 7 Shift Model:\", mean_absolute_error(df_preds['xare_dollars'], df_preds['seasonal_7']))\n",
    "print(\"RMSE for Seasonal Baseline 7 Shift Model:\", mean_squared_error(df_preds['xare_dollars'], df_preds['seasonal_7'], squared=False))"
   ]
  },
  {
   "cell_type": "markdown",
   "metadata": {},
   "source": [
    "Make a Seasonal Baseline Model with shift of 52"
   ]
  },
  {
   "cell_type": "code",
   "execution_count": null,
   "metadata": {},
   "outputs": [],
   "source": [
    "df_preds['seasonal_52'] = train['xare_dollars'].shift(52, freq='D') \n",
    "df_preds.head(2)"
   ]
  },
  {
   "cell_type": "code",
   "execution_count": null,
   "metadata": {},
   "outputs": [],
   "source": [
    "plt.figure(figsize=(12,8))\n",
    "\n",
    "plt.plot(train.index, train['xare_dollars'], label='Train')\n",
    "plt.plot(test.index, test['xare_dollars'], label='Test')\n",
    "plt.plot(df_preds.index, df_preds['seasonal_52'], label='Seasonal 52')\n",
    "\n",
    "plt.legend(loc='best')\n",
    "plt.title(\"Seasonal 52 Forecast for Daily Xarelto Payments\");"
   ]
  },
  {
   "cell_type": "code",
   "execution_count": null,
   "metadata": {},
   "outputs": [],
   "source": [
    "df_preds['seasonal_52'].fillna(0, inplace=True)"
   ]
  },
  {
   "cell_type": "code",
   "execution_count": null,
   "metadata": {},
   "outputs": [],
   "source": [
    "print(\"MAE for Seasonal Baseline 52 Shift Model:\", mean_absolute_error(df_preds['xare_dollars'], df_preds['seasonal_52']))\n",
    "print(\"RMSE for Seasonal Baseline 52 Shift Model:\", mean_squared_error(df_preds['xare_dollars'], df_preds['seasonal_52'], squared=False))"
   ]
  },
  {
   "cell_type": "markdown",
   "metadata": {},
   "source": [
    "This is barely slightly better than the baseline model which had an MSE of 755.49."
   ]
  },
  {
   "cell_type": "markdown",
   "metadata": {},
   "source": [
    "Try a Seasonal Model with a shift of 364"
   ]
  },
  {
   "cell_type": "code",
   "execution_count": null,
   "metadata": {},
   "outputs": [],
   "source": [
    "df_preds['seasonal_364'] = train['xare_dollars'].shift(364, freq='D') \n",
    "df_preds.head(2)"
   ]
  },
  {
   "cell_type": "code",
   "execution_count": null,
   "metadata": {},
   "outputs": [],
   "source": [
    "plt.figure(figsize=(12,8))\n",
    "\n",
    "plt.plot(train.index, train['xare_dollars'], label='Train')\n",
    "plt.plot(test.index, test['xare_dollars'], label='Test')\n",
    "plt.plot(df_preds.index, df_preds['seasonal_364'], label='Seasonal')\n",
    "\n",
    "plt.legend(loc='best')\n",
    "plt.title(\"Seasonal 364 Forecast for Daily Xarelto Payments\");"
   ]
  },
  {
   "cell_type": "code",
   "execution_count": null,
   "metadata": {},
   "outputs": [],
   "source": [
    "print(\"MAE for Seasonal Baseline 364 Shift Model:\", mean_absolute_error(df_preds['xare_dollars'], df_preds['seasonal_364']))\n",
    "print(\"RMSE for Seasonal Baseline 364 Shift Model:\", mean_squared_error(df_preds['xare_dollars'], df_preds['seasonal_364'], squared=False))"
   ]
  },
  {
   "cell_type": "markdown",
   "metadata": {},
   "source": [
    "Simple Exponential Smoothing Model"
   ]
  },
  {
   "cell_type": "code",
   "execution_count": null,
   "metadata": {},
   "outputs": [],
   "source": [
    "from statsmodels.tsa.api import SimpleExpSmoothing, ExponentialSmoothing"
   ]
  },
  {
   "cell_type": "code",
   "execution_count": null,
   "metadata": {},
   "outputs": [],
   "source": [
    "ses = SimpleExpSmoothing(train['xare_dollars']).fit(smoothing_level=.5)"
   ]
  },
  {
   "cell_type": "code",
   "execution_count": null,
   "metadata": {},
   "outputs": [],
   "source": [
    "ses.summary()"
   ]
  },
  {
   "cell_type": "code",
   "execution_count": null,
   "metadata": {},
   "outputs": [],
   "source": [
    "ses_forecast = ses.forecast(len(test))"
   ]
  },
  {
   "cell_type": "code",
   "execution_count": null,
   "metadata": {},
   "outputs": [],
   "source": [
    "df_preds['ses'] = ses_forecast"
   ]
  },
  {
   "cell_type": "code",
   "execution_count": null,
   "metadata": {},
   "outputs": [],
   "source": [
    "plt.figure(figsize=(12,8))\n",
    "\n",
    "plt.plot(train.index, train['xare_dollars'], label='Train')\n",
    "plt.plot(test.index, test['xare_dollars'], label='Test')\n",
    "plt.plot(df_preds.index, df_preds['ses'], label='Simple Exponential Smoothing')\n",
    "\n",
    "plt.legend(loc='best')\n",
    "plt.title(\"Simple Exponential Smoothing for Xarelto Daily Payments\");"
   ]
  },
  {
   "cell_type": "code",
   "execution_count": null,
   "metadata": {},
   "outputs": [],
   "source": [
    "print(\"MAE for Simple Exponential Smoothing Model:\", mean_absolute_error(df_preds['xare_dollars'], df_preds['ses']))\n",
    "print(\"RMSE for Simple Exponential Smoothing Model:\", mean_squared_error(df_preds['xare_dollars'], df_preds['ses'], squared=False))"
   ]
  },
  {
   "cell_type": "markdown",
   "metadata": {},
   "source": []
  },
  {
   "cell_type": "markdown",
   "metadata": {},
   "source": [
    "Holt-Winters Multiplicative Model with Seasonality of 52"
   ]
  },
  {
   "cell_type": "code",
   "execution_count": null,
   "metadata": {},
   "outputs": [],
   "source": [
    "hw_m52 = ExponentialSmoothing(\n",
    "    train['xare_dollars'],\n",
    "    seasonal_periods=52, \n",
    "    trend='mul',\n",
    "    seasonal='mul'\n",
    ").fit()"
   ]
  },
  {
   "cell_type": "code",
   "execution_count": null,
   "metadata": {},
   "outputs": [],
   "source": [
    "hw_m52.summary()"
   ]
  },
  {
   "cell_type": "code",
   "execution_count": null,
   "metadata": {},
   "outputs": [],
   "source": [
    "df_preds['hw_m52'] = hw_m52.forecast(len(test))\n",
    "df_preds.head(2)"
   ]
  },
  {
   "cell_type": "code",
   "execution_count": null,
   "metadata": {},
   "outputs": [],
   "source": [
    "plt.figure(figsize=(12,8))\n",
    "\n",
    "plt.plot(train.index, train['xare_dollars'], label='Train')\n",
    "plt.plot(test.index, test['xare_dollars'], label='Test')\n",
    "plt.plot(df_preds.index, df_preds['hw_m52'], label='Holt-Winters')\n",
    "\n",
    "plt.legend(loc='best')\n",
    "plt.title(\"Holt-Winters Multiplicative with Seasonality of 52 for Xarelto Daily Payments\");"
   ]
  },
  {
   "cell_type": "code",
   "execution_count": null,
   "metadata": {},
   "outputs": [],
   "source": [
    "print(\"MAE for Holt-Winters Multiplicative with Seasonality of 52 Model:\", mean_absolute_error(df_preds['xare_dollars'], df_preds['hw_m52']))\n",
    "print(\"RMSE for Holt-Winters Multiplicative with Seasonality of 52 Model:\", mean_squared_error(df_preds['xare_dollars'], df_preds['hw_m52'], squared=False))"
   ]
  },
  {
   "cell_type": "markdown",
   "metadata": {},
   "source": []
  },
  {
   "cell_type": "code",
   "execution_count": null,
   "metadata": {},
   "outputs": [],
   "source": [
    "hw_m364 = ExponentialSmoothing(\n",
    "    train['xare_dollars'],\n",
    "    seasonal_periods=364, \n",
    "    trend='mul',\n",
    "    seasonal='mul'\n",
    ").fit()"
   ]
  },
  {
   "cell_type": "code",
   "execution_count": null,
   "metadata": {},
   "outputs": [],
   "source": [
    "hw_m364.summary()"
   ]
  },
  {
   "cell_type": "code",
   "execution_count": null,
   "metadata": {},
   "outputs": [],
   "source": [
    "df_preds['hw_m364'] = hw_m364.forecast(len(test))\n",
    "df_preds.head(2)"
   ]
  },
  {
   "cell_type": "code",
   "execution_count": null,
   "metadata": {},
   "outputs": [],
   "source": [
    "plt.figure(figsize=(12,8))\n",
    "\n",
    "plt.plot(train.index, train['xare_dollars'], label='Train')\n",
    "plt.plot(test.index, test['xare_dollars'], label='Test')\n",
    "plt.plot(df_preds.index, df_preds['hw_m364'], label='Holt-Winters')\n",
    "\n",
    "plt.legend(loc='best')\n",
    "plt.title(\"Holt-Winters Multiplicative with Seasonality of 364 for Xarelto Daily Payments\");"
   ]
  },
  {
   "cell_type": "code",
   "execution_count": null,
   "metadata": {},
   "outputs": [],
   "source": [
    "print(\"MAE for Holt-Winters Multiplicative with Seasonality of 364 Model:\", mean_absolute_error(df_preds['xare_dollars'], df_preds['hw_m364']))\n",
    "print(\"RMSE for Holt-Winters Multiplicative with Seasonality of 364 Model:\", mean_squared_error(df_preds['xare_dollars'], df_preds['hw_m364'], squared=False))"
   ]
  },
  {
   "cell_type": "markdown",
   "metadata": {},
   "source": [
    "Now, try an additive Holt-Winters Model with a seasonal period of 52."
   ]
  },
  {
   "cell_type": "code",
   "execution_count": null,
   "metadata": {},
   "outputs": [],
   "source": [
    "hw_a52 = ExponentialSmoothing(\n",
    "    train['xare_dollars'],\n",
    "    seasonal_periods=52, \n",
    "    trend='add',\n",
    "    seasonal='add'\n",
    ").fit()"
   ]
  },
  {
   "cell_type": "code",
   "execution_count": null,
   "metadata": {},
   "outputs": [],
   "source": [
    "hw_a52.summary()"
   ]
  },
  {
   "cell_type": "code",
   "execution_count": null,
   "metadata": {},
   "outputs": [],
   "source": [
    "df_preds['hw_a52'] = hw_a52.forecast(len(test))\n",
    "df_preds.head(2)"
   ]
  },
  {
   "cell_type": "code",
   "execution_count": null,
   "metadata": {},
   "outputs": [],
   "source": [
    "plt.figure(figsize=(12,8))\n",
    "\n",
    "plt.plot(train.index, train['xare_dollars'], label='Train')\n",
    "plt.plot(test.index, test['xare_dollars'], label='Test')\n",
    "plt.plot(df_preds.index, df_preds['hw_a52'], label='Holt-Winters')\n",
    "\n",
    "plt.legend(loc='best')\n",
    "plt.title(\"Holt-Winters Additive Model with Seasonality of 52 for Daily Xarelto Payments\");"
   ]
  },
  {
   "cell_type": "code",
   "execution_count": null,
   "metadata": {},
   "outputs": [],
   "source": [
    "print(\"MAE for Holt-Winters Additive with Seasonality of 52 Model:\", mean_absolute_error(df_preds['xare_dollars'], df_preds['hw_a52']))\n",
    "print(\"RMSE for Holt-Winters Additive with Seasonality of 52 Model:\", mean_squared_error(df_preds['xare_dollars'], df_preds['hw_a52'], squared=False))"
   ]
  },
  {
   "cell_type": "markdown",
   "metadata": {},
   "source": []
  },
  {
   "cell_type": "markdown",
   "metadata": {},
   "source": [
    "Now, try an additive Holt-Winters Model with a seasonal period of 7."
   ]
  },
  {
   "cell_type": "code",
   "execution_count": null,
   "metadata": {},
   "outputs": [],
   "source": [
    "hw_a7 = ExponentialSmoothing(\n",
    "    train['xare_dollars'],\n",
    "    seasonal_periods=7, \n",
    "    trend='add',\n",
    "    seasonal='add'\n",
    ").fit()"
   ]
  },
  {
   "cell_type": "code",
   "execution_count": null,
   "metadata": {},
   "outputs": [],
   "source": [
    "hw_a7.summary()"
   ]
  },
  {
   "cell_type": "code",
   "execution_count": null,
   "metadata": {},
   "outputs": [],
   "source": [
    "df_preds['hw_a7'] = hw_a7.forecast(len(test))\n",
    "df_preds.head(2)"
   ]
  },
  {
   "cell_type": "code",
   "execution_count": null,
   "metadata": {},
   "outputs": [],
   "source": [
    "plt.figure(figsize=(12,8))\n",
    "\n",
    "plt.plot(train.index, train['xare_dollars'], label='Train')\n",
    "plt.plot(test.index, test['xare_dollars'], label='Test')\n",
    "plt.plot(df_preds.index, df_preds['hw_a7'], label='Holt-Winters')\n",
    "\n",
    "plt.legend(loc='best')\n",
    "plt.title(\"Holt-Winters Additive Model with Seasonality of 7 for Daily Payments for Xarelto\");"
   ]
  },
  {
   "cell_type": "code",
   "execution_count": null,
   "metadata": {},
   "outputs": [],
   "source": [
    "print(\"MAE for Holt-Winters Additive with Seasonality of 7 Model:\", mean_absolute_error(df_preds['xare_dollars'], df_preds['hw_a7']))\n",
    "print(\"RMSE for Holt-Winters Additive with Seasonality of 7 Model:\", mean_squared_error(df_preds['xare_dollars'], df_preds['hw_a7'], squared=False))"
   ]
  },
  {
   "cell_type": "markdown",
   "metadata": {},
   "source": []
  },
  {
   "cell_type": "code",
   "execution_count": null,
   "metadata": {},
   "outputs": [],
   "source": [
    "hw_a364 = ExponentialSmoothing(\n",
    "    train['xare_dollars'],\n",
    "    seasonal_periods=364, \n",
    "    trend='add',\n",
    "    seasonal='add'\n",
    ").fit()"
   ]
  },
  {
   "cell_type": "code",
   "execution_count": null,
   "metadata": {},
   "outputs": [],
   "source": [
    "hw_a364.summary()"
   ]
  },
  {
   "cell_type": "code",
   "execution_count": null,
   "metadata": {},
   "outputs": [],
   "source": [
    "df_preds['hw_a364'] = hw_a364.forecast(len(test))\n",
    "df_preds.head(2)"
   ]
  },
  {
   "cell_type": "code",
   "execution_count": null,
   "metadata": {},
   "outputs": [],
   "source": [
    "plt.figure(figsize=(12,8))\n",
    "\n",
    "plt.plot(train.index, train['xare_dollars'], label='Train')\n",
    "plt.plot(test.index, test['xare_dollars'], label='Test')\n",
    "plt.plot(df_preds.index, df_preds['hw_a364'], label='Holt-Winters')\n",
    "\n",
    "plt.legend(loc='best')\n",
    "plt.title(\"Holt-Winters Additive Model with Seasonality of 364 for Daily Payments for Xarelto\");"
   ]
  },
  {
   "cell_type": "code",
   "execution_count": null,
   "metadata": {},
   "outputs": [],
   "source": [
    "print(\"MAE for Holt-Winters Additive with Seasonality of 364 Model:\", mean_absolute_error(df_preds['xare_dollars'], df_preds['hw_a364']))\n",
    "print(\"RMSE for Holt-Winters Additive with Seasonality of 364 Model:\", mean_squared_error(df_preds['xare_dollars'], df_preds['hw_a364'], squared=False))"
   ]
  },
  {
   "cell_type": "markdown",
   "metadata": {},
   "source": [
    "Now, try a multiplicative Holt-Winters Model with a seasonal period of 7."
   ]
  },
  {
   "cell_type": "code",
   "execution_count": null,
   "metadata": {},
   "outputs": [],
   "source": [
    "hw_m7 = ExponentialSmoothing(\n",
    "    train['xare_dollars'],\n",
    "    seasonal_periods=7, \n",
    "    trend='mul',\n",
    "    seasonal='mul'\n",
    ").fit()"
   ]
  },
  {
   "cell_type": "code",
   "execution_count": null,
   "metadata": {},
   "outputs": [],
   "source": [
    "hw_m7.summary()"
   ]
  },
  {
   "cell_type": "code",
   "execution_count": null,
   "metadata": {},
   "outputs": [],
   "source": [
    "df_preds['hw_m7'] = hw_m7.forecast(len(test))\n",
    "df_preds.head(2)"
   ]
  },
  {
   "cell_type": "code",
   "execution_count": null,
   "metadata": {},
   "outputs": [],
   "source": [
    "plt.figure(figsize=(12,8))\n",
    "\n",
    "plt.plot(train.index, train['xare_dollars'], label='Train')\n",
    "plt.plot(test.index, test['xare_dollars'], label='Test')\n",
    "plt.plot(df_preds.index, df_preds['hw_m7'], label='Holt Winters')\n",
    "\n",
    "plt.legend(loc='best')\n",
    "plt.title(\"Holt-Winters Multiplicative Seasonality of 7 Model for Xarelto Daily Payments\");"
   ]
  },
  {
   "cell_type": "code",
   "execution_count": null,
   "metadata": {},
   "outputs": [],
   "source": [
    "print(\"MAE for Holt-Winters Multiplicative with Seasonality of 7 Model:\", mean_absolute_error(df_preds['xare_dollars'], df_preds['hw_m7']))\n",
    "print(\"RMSE for Holt-Winters Multiplicative with Seasonality of 7 Model:\", mean_squared_error(df_preds['xare_dollars'], df_preds['hw_m7'], squared=False))"
   ]
  },
  {
   "cell_type": "markdown",
   "metadata": {},
   "source": [
    "Beats seasonal 52 and baseline mean models, but prediction curve just looks all wrong!"
   ]
  },
  {
   "cell_type": "markdown",
   "metadata": {},
   "source": [
    "Try a SARIMA Model"
   ]
  },
  {
   "cell_type": "code",
   "execution_count": null,
   "metadata": {},
   "outputs": [],
   "source": [
    "from pmdarima.utils import tsdisplay"
   ]
  },
  {
   "cell_type": "code",
   "execution_count": null,
   "metadata": {},
   "outputs": [],
   "source": [
    "traina = train['xare_dollars']"
   ]
  },
  {
   "cell_type": "code",
   "execution_count": null,
   "metadata": {},
   "outputs": [],
   "source": [
    "tsdisplay(traina)"
   ]
  },
  {
   "cell_type": "code",
   "execution_count": null,
   "metadata": {},
   "outputs": [],
   "source": [
    "import pmdarima as pmd\n",
    "model_s7 = pmd.auto_arima(train['xare_dollars'], m=7, trace=True)"
   ]
  },
  {
   "cell_type": "code",
   "execution_count": null,
   "metadata": {},
   "outputs": [],
   "source": [
    "model_s7.summary()"
   ]
  },
  {
   "cell_type": "code",
   "execution_count": null,
   "metadata": {},
   "outputs": [],
   "source": [
    "preds_sar7 = model_s7.predict(test.shape[0])\n",
    "preds_sar7"
   ]
  },
  {
   "cell_type": "code",
   "execution_count": null,
   "metadata": {},
   "outputs": [],
   "source": [
    "df_preds['sarima7_auto'] = preds_sar7\n",
    "df_preds['sarima7_auto'].head(2)"
   ]
  },
  {
   "cell_type": "code",
   "execution_count": null,
   "metadata": {},
   "outputs": [],
   "source": [
    "plt.figure(figsize=(16,8))\n",
    "plt.plot(train['xare_dollars'], label='Train')\n",
    "plt.plot(test['xare_dollars'], label='Test')\n",
    "plt.plot(df_preds['sarima7_auto'], label='SARIMA_7_auto')\n",
    "plt.legend(loc='best')\n",
    "plt.title(\"SARIMA Seasonality of 7 Model for Xarelto Daily Payments\");"
   ]
  },
  {
   "cell_type": "code",
   "execution_count": null,
   "metadata": {},
   "outputs": [],
   "source": [
    "print(\"MAE for SARIMA with Seasonality of 7 Model:\", mean_absolute_error(df_preds['xare_dollars'], df_preds['sarima7_auto']))\n",
    "print(\"RMSE for SARIMA with Seasonality of 7 Model:\", mean_squared_error(df_preds['xare_dollars'], df_preds['sarima7_auto'], squared=False))"
   ]
  },
  {
   "cell_type": "markdown",
   "metadata": {},
   "source": [
    "Try a SARIMA Model with m = 52 - ran out of memory after 21m 26.7s"
   ]
  },
  {
   "cell_type": "code",
   "execution_count": null,
   "metadata": {},
   "outputs": [],
   "source": [
    "#model_s52 = pmd.auto_arima(train['xare_dollars'], m=52, trace=True)"
   ]
  },
  {
   "cell_type": "code",
   "execution_count": null,
   "metadata": {},
   "outputs": [],
   "source": [
    "#model_s52.summary()"
   ]
  },
  {
   "cell_type": "code",
   "execution_count": null,
   "metadata": {},
   "outputs": [],
   "source": [
    "#preds_sar52 = model_s52.predict(test.shape[0])\n",
    "#preds_sar52"
   ]
  },
  {
   "cell_type": "code",
   "execution_count": null,
   "metadata": {},
   "outputs": [],
   "source": [
    "#df_preds['sarima52_auto'] = preds_sar52\n",
    "#df_preds['sarima52_auto'].head(2)"
   ]
  },
  {
   "cell_type": "code",
   "execution_count": null,
   "metadata": {},
   "outputs": [],
   "source": [
    "#plt.figure(figsize=(16,8))\n",
    "#plt.plot(train['xare_dollars'], label='Train')\n",
    "#plt.plot(test['xare_dollars'], label='Test')\n",
    "#plt.plot(df_preds['sarima52_auto'], label='SARIMA_52_auto')\n",
    "#plt.legend(loc='best')\n",
    "#plt.title(\"SARIMA Seasonality of 52 Model for Xarelto Daily Payments\");"
   ]
  },
  {
   "cell_type": "code",
   "execution_count": null,
   "metadata": {},
   "outputs": [],
   "source": [
    "#print(\"MAE for Holt-Winters Additive with Seasonality of 52 Model:\", mean_absolute_error(df_preds['xare_dollars'], df_preds['sarima52_auto']))\n",
    "#print(\"RMSE for Holt-Winters Additive with Seasonality of 52 Model:\", mean_squared_error(df_preds['xare_dollars'], df_preds['sarima52_auto'], squared=False))"
   ]
  },
  {
   "cell_type": "code",
   "execution_count": null,
   "metadata": {},
   "outputs": [],
   "source": [
    "print(\"Summary of Metrics for Daily Xarelto CMS Payments\")\n",
    "print(\"_________________________________________________\")\n",
    "print(\"MAE for Simple Mean Baseline Model:\", mean_absolute_error(df_preds['xare_dollars'], df_preds['simple_mean']))\n",
    "print(\"RMSE for Simple Mean Baseline Model:\", mean_squared_error(df_preds['xare_dollars'], df_preds['simple_mean'], squared=False))\n",
    "print(\"_________________________________________________\")\n",
    "print(\"MAE for Seasonal Baseline 7 Shift Model:\", mean_absolute_error(df_preds['xare_dollars'], df_preds['seasonal_7']))\n",
    "print(\"RMSE for Seasonal Baseline 7 Shift Model:\", mean_squared_error(df_preds['xare_dollars'], df_preds['seasonal_7'], squared=False))\n",
    "print(\"_________________________________________________\")\n",
    "print(\"MAE for Seasonal Baseline 52 Shift Model:\", mean_absolute_error(df_preds['xare_dollars'], df_preds['seasonal_52']))\n",
    "print(\"RMSE for Seasonal Baseline 52 Shift Model:\", mean_squared_error(df_preds['xare_dollars'], df_preds['seasonal_52'], squared=False))\n",
    "print(\"_________________________________________________\")\n",
    "print(\"MAE for Seasonal Baseline 364 Shift Model:\", mean_absolute_error(df_preds['xare_dollars'], df_preds['seasonal_364']))\n",
    "print(\"RMSE for Seasonal Baseline 364 Shift Model:\", mean_squared_error(df_preds['xare_dollars'], df_preds['seasonal_364'], squared=False))\n",
    "print(\"_________________________________________________\")\n",
    "print(\"MAE for Simple Exponential Smoothing Model:\", mean_absolute_error(df_preds['xare_dollars'], df_preds['ses']))\n",
    "print(\"RMSE for Simple Exponential Smoothing Model:\", mean_squared_error(df_preds['xare_dollars'], df_preds['ses'], squared=False))\n",
    "print(\"_________________________________________________\")\n",
    "print(\"MAE for Holt-Winters Multiplicative with Seasonality of 7 Model:\", mean_absolute_error(df_preds['xare_dollars'], df_preds['hw_m7']))\n",
    "print(\"RMSE for Holt-Winters Multiplicative with Seasonality of 7 Model:\", mean_squared_error(df_preds['xare_dollars'], df_preds['hw_m7'], squared=False))\n",
    "print(\"_________________________________________________\")\n",
    "print(\"MAE for Holt-Winters Multiplicative with Seasonality of 52 Model:\", mean_absolute_error(df_preds['xare_dollars'], df_preds['hw_m52']))\n",
    "print(\"RMSE for Holt-Winters Multiplicative with Seasonality of 52 Model:\", mean_squared_error(df_preds['xare_dollars'], df_preds['hw_m52'], squared=False))\n",
    "print(\"_________________________________________________\")\n",
    "print(\"MAE for Holt-Winters Multiplicative with Seasonality of 364 Model:\", mean_absolute_error(df_preds['xare_dollars'], df_preds['hw_m364']))\n",
    "print(\"RMSE for Holt-Winters Multiplicative with Seasonality of 364 Model:\", mean_squared_error(df_preds['xare_dollars'], df_preds['hw_m364'], squared=False))\n",
    "print(\"_________________________________________________\")\n"
   ]
  },
  {
   "cell_type": "code",
   "execution_count": null,
   "metadata": {},
   "outputs": [],
   "source": [
    "print(\"Continued Summary of Metrics for Daily Xarelto CMS Payments\")\n",
    "print(\"_________________________________________________\")\n",
    "print(\"MAE for Holt-Winters Additive with Seasonality of 7 Model:\", mean_absolute_error(df_preds['xare_dollars'], df_preds['hw_a7']))\n",
    "print(\"RMSE for Holt-Winters Additive with Seasonality of 7 Model:\", mean_squared_error(df_preds['xare_dollars'], df_preds['hw_a7'], squared=False))\n",
    "print(\"_________________________________________________\")\n",
    "print(\"MAE for Holt-Winters Additive with Seasonality of 52 Model:\", mean_absolute_error(df_preds['xare_dollars'], df_preds['hw_a52']))\n",
    "print(\"RMSE for Holt-Winters Additive with Seasonality of 52 Model:\", mean_squared_error(df_preds['xare_dollars'], df_preds['hw_a52'], squared=False))\n",
    "print(\"_________________________________________________\")\n",
    "print(\"MAE for Holt-Winters Additive with Seasonality of 364 Model:\", mean_absolute_error(df_preds['xare_dollars'], df_preds['hw_a364']))\n",
    "print(\"RMSE for Holt-Winters Additive with Seasonality of 364 Model:\", mean_squared_error(df_preds['xare_dollars'], df_preds['hw_a364'], squared=False))\n",
    "print(\"_________________________________________________\")\n",
    "print(\"MAE for SARIMA with Seasonality of 7 Model:\", mean_absolute_error(df_preds['xare_dollars'], df_preds['sarima7_auto']))\n",
    "print(\"RMSE for SARIMA with Seasonality of 7 Model:\", mean_squared_error(df_preds['xare_dollars'], df_preds['sarima7_auto'], squared=False))\n",
    "print(\"_________________________________________________\")\n",
    "#print(\"MAE for SARIMA with Seasonality of 52 Model:\", mean_absolute_error(df_preds['xare_dollars'], df_preds['sarima52_auto']))\n",
    "#print(\"RMSE for SARIMA with Seasonality of 52 Model:\", mean_squared_error(df_preds['xare_dollars'], df_preds['sarima52_auto'], squared=False))"
   ]
  }
 ],
 "metadata": {
  "interpreter": {
   "hash": "a210cac6bd36216e5c011d71d69db00a7646549e6b2f7edb5da22b230d34cfb7"
  },
  "kernelspec": {
   "display_name": "Python 3 (ipykernel)",
   "language": "python",
   "name": "python3"
  },
  "language_info": {
   "codemirror_mode": {
    "name": "ipython",
    "version": 3
   },
   "file_extension": ".py",
   "mimetype": "text/x-python",
   "name": "python",
   "nbconvert_exporter": "python",
   "pygments_lexer": "ipython3",
   "version": "3.9.7"
  }
 },
 "nbformat": 4,
 "nbformat_minor": 4
}
