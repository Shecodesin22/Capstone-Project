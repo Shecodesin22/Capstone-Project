{
 "cells": [
  {
   "cell_type": "code",
   "execution_count": 1,
   "metadata": {},
   "outputs": [],
   "source": [
    "import pandas as pd\n",
    "import numpy as np\n",
    "import seaborn as sns\n",
    "import matplotlib.pyplot as plt"
   ]
  },
  {
   "cell_type": "code",
   "execution_count": 2,
   "metadata": {},
   "outputs": [
    {
     "name": "stderr",
     "output_type": "stream",
     "text": [
      "C:\\Users\\sarah\\AppData\\Roaming\\Python\\Python39\\site-packages\\IPython\\core\\interactiveshell.py:3340: DtypeWarning: Columns (17,18,19,47,48,49,50,51,52,55,56,57,58,59,60,61,62,63,64,65,66,67,68,69,70,71,72,73,74,75,76,77,78,79) have mixed types.Specify dtype option on import or set low_memory=False.\n",
      "  exec(code_obj, self.user_global_ns, self.user_ns)\n"
     ]
    }
   ],
   "source": [
    "cinci_1320 = pd.read_csv('./data/cinci1320.csv', index_col='Date_of_Payment', parse_dates=True).sort_index()"
   ]
  },
  {
   "cell_type": "code",
   "execution_count": 3,
   "metadata": {},
   "outputs": [
    {
     "data": {
      "text/html": [
       "<div>\n",
       "<style scoped>\n",
       "    .dataframe tbody tr th:only-of-type {\n",
       "        vertical-align: middle;\n",
       "    }\n",
       "\n",
       "    .dataframe tbody tr th {\n",
       "        vertical-align: top;\n",
       "    }\n",
       "\n",
       "    .dataframe thead th {\n",
       "        text-align: right;\n",
       "    }\n",
       "</style>\n",
       "<table border=\"1\" class=\"dataframe\">\n",
       "  <thead>\n",
       "    <tr style=\"text-align: right;\">\n",
       "      <th></th>\n",
       "      <th>Change_Type</th>\n",
       "      <th>Covered_Recipient_Type</th>\n",
       "      <th>Physician_Profile_ID</th>\n",
       "      <th>Physician_First_Name</th>\n",
       "      <th>Physician_Middle_Name</th>\n",
       "      <th>Physician_Last_Name</th>\n",
       "      <th>Physician_Name_Suffix</th>\n",
       "      <th>Recipient_Primary_Business_Street_Address_Line1</th>\n",
       "      <th>Recipient_Primary_Business_Street_Address_Line2</th>\n",
       "      <th>Recipient_City</th>\n",
       "      <th>...</th>\n",
       "      <th>xarelto</th>\n",
       "      <th>victoza</th>\n",
       "      <th>humira</th>\n",
       "      <th>levemir</th>\n",
       "      <th>invokana</th>\n",
       "      <th>farxiga</th>\n",
       "      <th>entresto</th>\n",
       "      <th>chantix</th>\n",
       "      <th>myrbetriq</th>\n",
       "      <th>toujeo</th>\n",
       "    </tr>\n",
       "    <tr>\n",
       "      <th>Date_of_Payment</th>\n",
       "      <th></th>\n",
       "      <th></th>\n",
       "      <th></th>\n",
       "      <th></th>\n",
       "      <th></th>\n",
       "      <th></th>\n",
       "      <th></th>\n",
       "      <th></th>\n",
       "      <th></th>\n",
       "      <th></th>\n",
       "      <th></th>\n",
       "      <th></th>\n",
       "      <th></th>\n",
       "      <th></th>\n",
       "      <th></th>\n",
       "      <th></th>\n",
       "      <th></th>\n",
       "      <th></th>\n",
       "      <th></th>\n",
       "      <th></th>\n",
       "      <th></th>\n",
       "    </tr>\n",
       "  </thead>\n",
       "  <tbody>\n",
       "    <tr>\n",
       "      <th>2013-08-01</th>\n",
       "      <td>UNCHANGED</td>\n",
       "      <td>Covered Recipient Physician</td>\n",
       "      <td>148974</td>\n",
       "      <td>RODNEY</td>\n",
       "      <td>NaN</td>\n",
       "      <td>VIVIAN</td>\n",
       "      <td>NaN</td>\n",
       "      <td>8000 5 MILE RD</td>\n",
       "      <td>240</td>\n",
       "      <td>CINCINNATI</td>\n",
       "      <td>...</td>\n",
       "      <td>0</td>\n",
       "      <td>0</td>\n",
       "      <td>0</td>\n",
       "      <td>0</td>\n",
       "      <td>0</td>\n",
       "      <td>0</td>\n",
       "      <td>0</td>\n",
       "      <td>0</td>\n",
       "      <td>0</td>\n",
       "      <td>0</td>\n",
       "    </tr>\n",
       "    <tr>\n",
       "      <th>2013-08-01</th>\n",
       "      <td>UNCHANGED</td>\n",
       "      <td>Covered Recipient Physician</td>\n",
       "      <td>58931</td>\n",
       "      <td>PAUL</td>\n",
       "      <td>JOSEPH</td>\n",
       "      <td>FAVORITO</td>\n",
       "      <td>NaN</td>\n",
       "      <td>7575 5 MILE RD</td>\n",
       "      <td>NaN</td>\n",
       "      <td>CINCINNATI</td>\n",
       "      <td>...</td>\n",
       "      <td>0</td>\n",
       "      <td>0</td>\n",
       "      <td>0</td>\n",
       "      <td>0</td>\n",
       "      <td>0</td>\n",
       "      <td>0</td>\n",
       "      <td>0</td>\n",
       "      <td>0</td>\n",
       "      <td>0</td>\n",
       "      <td>0</td>\n",
       "    </tr>\n",
       "    <tr>\n",
       "      <th>2013-08-01</th>\n",
       "      <td>UNCHANGED</td>\n",
       "      <td>Covered Recipient Physician</td>\n",
       "      <td>812462</td>\n",
       "      <td>ALFRED</td>\n",
       "      <td>JAMES</td>\n",
       "      <td>SUGAWARA</td>\n",
       "      <td>NaN</td>\n",
       "      <td>8477 FOXCROFT DR</td>\n",
       "      <td>NaN</td>\n",
       "      <td>CINCINNATI</td>\n",
       "      <td>...</td>\n",
       "      <td>0</td>\n",
       "      <td>0</td>\n",
       "      <td>0</td>\n",
       "      <td>0</td>\n",
       "      <td>0</td>\n",
       "      <td>0</td>\n",
       "      <td>0</td>\n",
       "      <td>0</td>\n",
       "      <td>0</td>\n",
       "      <td>0</td>\n",
       "    </tr>\n",
       "    <tr>\n",
       "      <th>2013-08-01</th>\n",
       "      <td>UNCHANGED</td>\n",
       "      <td>Covered Recipient Physician</td>\n",
       "      <td>108863</td>\n",
       "      <td>MARK</td>\n",
       "      <td>A</td>\n",
       "      <td>MANEGOLD</td>\n",
       "      <td>NaN</td>\n",
       "      <td>2450 KIPLING AVE</td>\n",
       "      <td>SUITE 104</td>\n",
       "      <td>CINCINNATI</td>\n",
       "      <td>...</td>\n",
       "      <td>0</td>\n",
       "      <td>0</td>\n",
       "      <td>0</td>\n",
       "      <td>0</td>\n",
       "      <td>0</td>\n",
       "      <td>0</td>\n",
       "      <td>0</td>\n",
       "      <td>0</td>\n",
       "      <td>0</td>\n",
       "      <td>0</td>\n",
       "    </tr>\n",
       "    <tr>\n",
       "      <th>2013-08-01</th>\n",
       "      <td>UNCHANGED</td>\n",
       "      <td>Covered Recipient Physician</td>\n",
       "      <td>195441</td>\n",
       "      <td>MANOJKUMAR</td>\n",
       "      <td>S</td>\n",
       "      <td>SINGH</td>\n",
       "      <td>NaN</td>\n",
       "      <td>10600 MONTGOMERY RD</td>\n",
       "      <td>SUITE 200</td>\n",
       "      <td>CINCINNATI</td>\n",
       "      <td>...</td>\n",
       "      <td>0</td>\n",
       "      <td>0</td>\n",
       "      <td>0</td>\n",
       "      <td>0</td>\n",
       "      <td>0</td>\n",
       "      <td>0</td>\n",
       "      <td>0</td>\n",
       "      <td>0</td>\n",
       "      <td>0</td>\n",
       "      <td>0</td>\n",
       "    </tr>\n",
       "  </tbody>\n",
       "</table>\n",
       "<p>5 rows × 89 columns</p>\n",
       "</div>"
      ],
      "text/plain": [
       "                Change_Type       Covered_Recipient_Type  \\\n",
       "Date_of_Payment                                            \n",
       "2013-08-01        UNCHANGED  Covered Recipient Physician   \n",
       "2013-08-01        UNCHANGED  Covered Recipient Physician   \n",
       "2013-08-01        UNCHANGED  Covered Recipient Physician   \n",
       "2013-08-01        UNCHANGED  Covered Recipient Physician   \n",
       "2013-08-01        UNCHANGED  Covered Recipient Physician   \n",
       "\n",
       "                 Physician_Profile_ID Physician_First_Name  \\\n",
       "Date_of_Payment                                              \n",
       "2013-08-01                     148974               RODNEY   \n",
       "2013-08-01                      58931                 PAUL   \n",
       "2013-08-01                     812462               ALFRED   \n",
       "2013-08-01                     108863                 MARK   \n",
       "2013-08-01                     195441           MANOJKUMAR   \n",
       "\n",
       "                Physician_Middle_Name Physician_Last_Name  \\\n",
       "Date_of_Payment                                             \n",
       "2013-08-01                        NaN              VIVIAN   \n",
       "2013-08-01                     JOSEPH            FAVORITO   \n",
       "2013-08-01                      JAMES            SUGAWARA   \n",
       "2013-08-01                          A            MANEGOLD   \n",
       "2013-08-01                          S               SINGH   \n",
       "\n",
       "                Physician_Name_Suffix  \\\n",
       "Date_of_Payment                         \n",
       "2013-08-01                        NaN   \n",
       "2013-08-01                        NaN   \n",
       "2013-08-01                        NaN   \n",
       "2013-08-01                        NaN   \n",
       "2013-08-01                        NaN   \n",
       "\n",
       "                Recipient_Primary_Business_Street_Address_Line1  \\\n",
       "Date_of_Payment                                                   \n",
       "2013-08-01                                       8000 5 MILE RD   \n",
       "2013-08-01                                       7575 5 MILE RD   \n",
       "2013-08-01                                     8477 FOXCROFT DR   \n",
       "2013-08-01                                     2450 KIPLING AVE   \n",
       "2013-08-01                                  10600 MONTGOMERY RD   \n",
       "\n",
       "                Recipient_Primary_Business_Street_Address_Line2  \\\n",
       "Date_of_Payment                                                   \n",
       "2013-08-01                                                  240   \n",
       "2013-08-01                                                  NaN   \n",
       "2013-08-01                                                  NaN   \n",
       "2013-08-01                                            SUITE 104   \n",
       "2013-08-01                                            SUITE 200   \n",
       "\n",
       "                Recipient_City  ... xarelto victoza humira levemir invokana  \\\n",
       "Date_of_Payment                 ...                                           \n",
       "2013-08-01          CINCINNATI  ...       0       0      0       0        0   \n",
       "2013-08-01          CINCINNATI  ...       0       0      0       0        0   \n",
       "2013-08-01          CINCINNATI  ...       0       0      0       0        0   \n",
       "2013-08-01          CINCINNATI  ...       0       0      0       0        0   \n",
       "2013-08-01          CINCINNATI  ...       0       0      0       0        0   \n",
       "\n",
       "                farxiga entresto chantix myrbetriq toujeo  \n",
       "Date_of_Payment                                            \n",
       "2013-08-01            0        0       0         0      0  \n",
       "2013-08-01            0        0       0         0      0  \n",
       "2013-08-01            0        0       0         0      0  \n",
       "2013-08-01            0        0       0         0      0  \n",
       "2013-08-01            0        0       0         0      0  \n",
       "\n",
       "[5 rows x 89 columns]"
      ]
     },
     "execution_count": 3,
     "metadata": {},
     "output_type": "execute_result"
    }
   ],
   "source": [
    "cinci_1320.head()"
   ]
  },
  {
   "cell_type": "code",
   "execution_count": 4,
   "metadata": {},
   "outputs": [
    {
     "data": {
      "text/plain": [
       "UNCHANGED    364686\n",
       "CHANGED         726\n",
       "ADD               1\n",
       "Name: Change_Type, dtype: int64"
      ]
     },
     "execution_count": 4,
     "metadata": {},
     "output_type": "execute_result"
    }
   ],
   "source": [
    "cinci_1320['Change_Type'].value_counts()"
   ]
  },
  {
   "cell_type": "code",
   "execution_count": 5,
   "metadata": {},
   "outputs": [
    {
     "data": {
      "text/plain": [
       "0    359020\n",
       "1      6393\n",
       "Name: victoza, dtype: int64"
      ]
     },
     "execution_count": 5,
     "metadata": {},
     "output_type": "execute_result"
    }
   ],
   "source": [
    "cinci_1320['victoza'].value_counts()"
   ]
  },
  {
   "cell_type": "code",
   "execution_count": 6,
   "metadata": {},
   "outputs": [],
   "source": [
    "victoza = cinci_1320[(cinci_1320['victoza']==1) & (cinci_1320['Number_of_Payments_Included_in_Total_Amount']==1)].copy()"
   ]
  },
  {
   "cell_type": "code",
   "execution_count": 7,
   "metadata": {},
   "outputs": [
    {
     "data": {
      "text/plain": [
       "1    6393\n",
       "Name: victoza, dtype: int64"
      ]
     },
     "execution_count": 7,
     "metadata": {},
     "output_type": "execute_result"
    }
   ],
   "source": [
    "victoza['victoza'].value_counts()"
   ]
  },
  {
   "cell_type": "code",
   "execution_count": 8,
   "metadata": {},
   "outputs": [
    {
     "data": {
      "text/plain": [
       "UNCHANGED    6393\n",
       "Name: Change_Type, dtype: int64"
      ]
     },
     "execution_count": 8,
     "metadata": {},
     "output_type": "execute_result"
    }
   ],
   "source": [
    "victoza['Change_Type'].value_counts()"
   ]
  },
  {
   "cell_type": "code",
   "execution_count": 9,
   "metadata": {},
   "outputs": [],
   "source": [
    "victoza['vict_dollars'] = [k if ((i ==1) & (j ==1)) else 0 for i, j, k in zip(victoza['victoza'], victoza['Number_of_Payments_Included_in_Total_Amount'], victoza['Total_Amount_of_Payment_USDollars'])]\n",
    "\n",
    "#Ben Peck helped me with this during office hours.  I was oh-so-close but not quite there!"
   ]
  },
  {
   "cell_type": "code",
   "execution_count": 10,
   "metadata": {},
   "outputs": [
    {
     "data": {
      "text/plain": [
       "183112.96000000002"
      ]
     },
     "execution_count": 10,
     "metadata": {},
     "output_type": "execute_result"
    }
   ],
   "source": [
    "victoza['vict_dollars'].sum()"
   ]
  },
  {
   "cell_type": "code",
   "execution_count": 11,
   "metadata": {},
   "outputs": [],
   "source": [
    "drop_cols = ['Change_Type','Covered_Recipient_Type',\n",
    "'Physician_First_Name',\n",
    "'Physician_Middle_Name',\n",
    "'Physician_Last_Name',\n",
    "'Physician_Name_Suffix',\n",
    "'Recipient_Primary_Business_Street_Address_Line1',\n",
    "'Recipient_Primary_Business_Street_Address_Line2',\n",
    "'Recipient_City',\n",
    "'Recipient_State',\n",
    "'Recipient_Zip_Code',\n",
    "'Recipient_Country',\n",
    "'Physician_Primary_Type',\n",
    "'Physician_Specialty',\n",
    "'Physician_License_State_code1',\n",
    "'Physician_License_State_code2',\n",
    "'Physician_License_State_code3',\n",
    "'Physician_License_State_code4',\n",
    "'Physician_License_State_code5',\n",
    "'Submitting_Applicable_Manufacturer_or_Applicable_GPO_Name',\n",
    "'Applicable_Manufacturer_or_Applicable_GPO_Making_Payment_Name',\n",
    "'Applicable_Manufacturer_or_Applicable_GPO_Making_Payment_State',\n",
    "'Applicable_Manufacturer_or_Applicable_GPO_Making_Payment_Country',\n",
    "'Form_of_Payment_or_Transfer_of_Value',\n",
    "'City_of_Travel',\n",
    "'State_of_Travel',\n",
    "'Country_of_Travel',\n",
    "'Physician_Ownership_Indicator',\n",
    "'Third_Party_Payment_Recipient_Indicator',\n",
    "'Name_of_Third_Party_Entity_Receiving_Payment_or_Transfer_of_Value',\n",
    "'Charity_Indicator',\n",
    "'Third_Party_Equals_Covered_Recipient_Indicator',\n",
    "'Contextual_Information',\n",
    "'Delay_in_Publication_Indicator',\n",
    "'Dispute_Status_for_Publication',\n",
    "'Related_Product_Indicator',\n",
    "'Covered_or_Noncovered_Indicator_1',\n",
    "'Indicate_Drug_or_Biological_or_Device_or_Medical_Supply_1',\n",
    "'Product_Category_or_Therapeutic_Area_1',\n",
    "'Name_of_Drug_or_Biological_or_Device_or_Medical_Supply_1',\n",
    "'Associated_Drug_or_Biological_NDC_1',\n",
    "'Covered_or_Noncovered_Indicator_2',\n",
    "'Indicate_Drug_or_Biological_or_Device_or_Medical_Supply_2',\n",
    "'Product_Category_or_Therapeutic_Area_2',\n",
    "'Name_of_Drug_or_Biological_or_Device_or_Medical_Supply_2',\n",
    "'Associated_Drug_or_Biological_NDC_2',\n",
    "'Covered_or_Noncovered_Indicator_3',\n",
    "'Indicate_Drug_or_Biological_or_Device_or_Medical_Supply_3',\n",
    "'Product_Category_or_Therapeutic_Area_3',\n",
    "'Name_of_Drug_or_Biological_or_Device_or_Medical_Supply_3',\n",
    "'Associated_Drug_or_Biological_NDC_3',\n",
    "'Covered_or_Noncovered_Indicator_4',\n",
    "'Indicate_Drug_or_Biological_or_Device_or_Medical_Supply_4',\n",
    "'Product_Category_or_Therapeutic_Area_4',\n",
    "'Name_of_Drug_or_Biological_or_Device_or_Medical_Supply_4',\n",
    "'Associated_Drug_or_Biological_NDC_4',\n",
    "'Covered_or_Noncovered_Indicator_5',\n",
    "'Indicate_Drug_or_Biological_or_Device_or_Medical_Supply_5',\n",
    "'Product_Category_or_Therapeutic_Area_5',\n",
    "'Name_of_Drug_or_Biological_or_Device_or_Medical_Supply_5',\n",
    "'Associated_Drug_or_Biological_NDC_5', \n",
    "'Physician_Profile_ID', 'Applicable_Manufacturer_or_Applicable_GPO_Making_Payment_ID',\n",
    "'Total_Amount_of_Payment_USDollars','Number_of_Payments_Included_in_Total_Amount', \n",
    "'Nature_of_Payment_or_Transfer_of_Value', 'Record_ID', \n",
    "'Payment_Publication_Date', 'Program_Year',\n",
    "'xarelto', 'farxiga', 'humira', 'levemir', 'invokana',\n",
    "'entresto', 'chantix', 'myrbetriq', 'toujeo']"
   ]
  },
  {
   "cell_type": "code",
   "execution_count": 12,
   "metadata": {},
   "outputs": [],
   "source": [
    "victoza.drop(columns = drop_cols, inplace = True)"
   ]
  },
  {
   "cell_type": "code",
   "execution_count": 13,
   "metadata": {},
   "outputs": [],
   "source": [
    "victoza_wkly = victoza.resample('w').sum()"
   ]
  },
  {
   "cell_type": "code",
   "execution_count": 14,
   "metadata": {},
   "outputs": [
    {
     "data": {
      "text/html": [
       "<div>\n",
       "<style scoped>\n",
       "    .dataframe tbody tr th:only-of-type {\n",
       "        vertical-align: middle;\n",
       "    }\n",
       "\n",
       "    .dataframe tbody tr th {\n",
       "        vertical-align: top;\n",
       "    }\n",
       "\n",
       "    .dataframe thead th {\n",
       "        text-align: right;\n",
       "    }\n",
       "</style>\n",
       "<table border=\"1\" class=\"dataframe\">\n",
       "  <thead>\n",
       "    <tr style=\"text-align: right;\">\n",
       "      <th></th>\n",
       "      <th>victoza</th>\n",
       "      <th>vict_dollars</th>\n",
       "    </tr>\n",
       "    <tr>\n",
       "      <th>Date_of_Payment</th>\n",
       "      <th></th>\n",
       "      <th></th>\n",
       "    </tr>\n",
       "  </thead>\n",
       "  <tbody>\n",
       "    <tr>\n",
       "      <th>2013-08-04</th>\n",
       "      <td>9</td>\n",
       "      <td>86.87</td>\n",
       "    </tr>\n",
       "    <tr>\n",
       "      <th>2013-08-11</th>\n",
       "      <td>33</td>\n",
       "      <td>2698.44</td>\n",
       "    </tr>\n",
       "    <tr>\n",
       "      <th>2013-08-18</th>\n",
       "      <td>16</td>\n",
       "      <td>267.06</td>\n",
       "    </tr>\n",
       "    <tr>\n",
       "      <th>2013-08-25</th>\n",
       "      <td>25</td>\n",
       "      <td>2668.66</td>\n",
       "    </tr>\n",
       "    <tr>\n",
       "      <th>2013-09-01</th>\n",
       "      <td>0</td>\n",
       "      <td>0.00</td>\n",
       "    </tr>\n",
       "  </tbody>\n",
       "</table>\n",
       "</div>"
      ],
      "text/plain": [
       "                 victoza  vict_dollars\n",
       "Date_of_Payment                       \n",
       "2013-08-04             9         86.87\n",
       "2013-08-11            33       2698.44\n",
       "2013-08-18            16        267.06\n",
       "2013-08-25            25       2668.66\n",
       "2013-09-01             0          0.00"
      ]
     },
     "execution_count": 14,
     "metadata": {},
     "output_type": "execute_result"
    }
   ],
   "source": [
    "victoza_wkly.head()"
   ]
  },
  {
   "cell_type": "code",
   "execution_count": 15,
   "metadata": {},
   "outputs": [
    {
     "data": {
      "text/html": [
       "<div>\n",
       "<style scoped>\n",
       "    .dataframe tbody tr th:only-of-type {\n",
       "        vertical-align: middle;\n",
       "    }\n",
       "\n",
       "    .dataframe tbody tr th {\n",
       "        vertical-align: top;\n",
       "    }\n",
       "\n",
       "    .dataframe thead th {\n",
       "        text-align: right;\n",
       "    }\n",
       "</style>\n",
       "<table border=\"1\" class=\"dataframe\">\n",
       "  <thead>\n",
       "    <tr style=\"text-align: right;\">\n",
       "      <th></th>\n",
       "      <th>victoza</th>\n",
       "      <th>vict_dollars</th>\n",
       "    </tr>\n",
       "    <tr>\n",
       "      <th>Date_of_Payment</th>\n",
       "      <th></th>\n",
       "      <th></th>\n",
       "    </tr>\n",
       "  </thead>\n",
       "  <tbody>\n",
       "    <tr>\n",
       "      <th>2013-08-04</th>\n",
       "      <td>9</td>\n",
       "      <td>86.87</td>\n",
       "    </tr>\n",
       "    <tr>\n",
       "      <th>2013-08-11</th>\n",
       "      <td>33</td>\n",
       "      <td>2698.44</td>\n",
       "    </tr>\n",
       "    <tr>\n",
       "      <th>2013-08-18</th>\n",
       "      <td>16</td>\n",
       "      <td>267.06</td>\n",
       "    </tr>\n",
       "    <tr>\n",
       "      <th>2013-08-25</th>\n",
       "      <td>25</td>\n",
       "      <td>2668.66</td>\n",
       "    </tr>\n",
       "    <tr>\n",
       "      <th>2013-09-01</th>\n",
       "      <td>0</td>\n",
       "      <td>0.00</td>\n",
       "    </tr>\n",
       "    <tr>\n",
       "      <th>...</th>\n",
       "      <td>...</td>\n",
       "      <td>...</td>\n",
       "    </tr>\n",
       "    <tr>\n",
       "      <th>2019-11-10</th>\n",
       "      <td>0</td>\n",
       "      <td>0.00</td>\n",
       "    </tr>\n",
       "    <tr>\n",
       "      <th>2019-11-17</th>\n",
       "      <td>0</td>\n",
       "      <td>0.00</td>\n",
       "    </tr>\n",
       "    <tr>\n",
       "      <th>2019-11-24</th>\n",
       "      <td>0</td>\n",
       "      <td>0.00</td>\n",
       "    </tr>\n",
       "    <tr>\n",
       "      <th>2019-12-01</th>\n",
       "      <td>0</td>\n",
       "      <td>0.00</td>\n",
       "    </tr>\n",
       "    <tr>\n",
       "      <th>2019-12-08</th>\n",
       "      <td>1</td>\n",
       "      <td>39.00</td>\n",
       "    </tr>\n",
       "  </tbody>\n",
       "</table>\n",
       "<p>332 rows × 2 columns</p>\n",
       "</div>"
      ],
      "text/plain": [
       "                 victoza  vict_dollars\n",
       "Date_of_Payment                       \n",
       "2013-08-04             9         86.87\n",
       "2013-08-11            33       2698.44\n",
       "2013-08-18            16        267.06\n",
       "2013-08-25            25       2668.66\n",
       "2013-09-01             0          0.00\n",
       "...                  ...           ...\n",
       "2019-11-10             0          0.00\n",
       "2019-11-17             0          0.00\n",
       "2019-11-24             0          0.00\n",
       "2019-12-01             0          0.00\n",
       "2019-12-08             1         39.00\n",
       "\n",
       "[332 rows x 2 columns]"
      ]
     },
     "execution_count": 15,
     "metadata": {},
     "output_type": "execute_result"
    }
   ],
   "source": [
    "victoza_wkly.sort_index()"
   ]
  },
  {
   "cell_type": "markdown",
   "metadata": {},
   "source": [
    "Adding 1 to the weekly sales for each observation so that Holt_winters will work."
   ]
  },
  {
   "cell_type": "code",
   "execution_count": 16,
   "metadata": {},
   "outputs": [],
   "source": [
    "victoza_wkly['vict_dollars'] = [i+1 for i in victoza_wkly['vict_dollars']]"
   ]
  },
  {
   "cell_type": "markdown",
   "metadata": {},
   "source": [
    "Set up Train and Test Sets using 2018, 2019 & 2020 Data"
   ]
  },
  {
   "cell_type": "code",
   "execution_count": 17,
   "metadata": {},
   "outputs": [
    {
     "data": {
      "text/html": [
       "<div>\n",
       "<style scoped>\n",
       "    .dataframe tbody tr th:only-of-type {\n",
       "        vertical-align: middle;\n",
       "    }\n",
       "\n",
       "    .dataframe tbody tr th {\n",
       "        vertical-align: top;\n",
       "    }\n",
       "\n",
       "    .dataframe thead th {\n",
       "        text-align: right;\n",
       "    }\n",
       "</style>\n",
       "<table border=\"1\" class=\"dataframe\">\n",
       "  <thead>\n",
       "    <tr style=\"text-align: right;\">\n",
       "      <th></th>\n",
       "      <th>victoza</th>\n",
       "      <th>vict_dollars</th>\n",
       "    </tr>\n",
       "    <tr>\n",
       "      <th>Date_of_Payment</th>\n",
       "      <th></th>\n",
       "      <th></th>\n",
       "    </tr>\n",
       "  </thead>\n",
       "  <tbody>\n",
       "    <tr>\n",
       "      <th>2013-08-04</th>\n",
       "      <td>9</td>\n",
       "      <td>87.87</td>\n",
       "    </tr>\n",
       "    <tr>\n",
       "      <th>2013-08-11</th>\n",
       "      <td>33</td>\n",
       "      <td>2699.44</td>\n",
       "    </tr>\n",
       "    <tr>\n",
       "      <th>2013-08-18</th>\n",
       "      <td>16</td>\n",
       "      <td>268.06</td>\n",
       "    </tr>\n",
       "    <tr>\n",
       "      <th>2013-08-25</th>\n",
       "      <td>25</td>\n",
       "      <td>2669.66</td>\n",
       "    </tr>\n",
       "    <tr>\n",
       "      <th>2013-09-01</th>\n",
       "      <td>0</td>\n",
       "      <td>1.00</td>\n",
       "    </tr>\n",
       "    <tr>\n",
       "      <th>...</th>\n",
       "      <td>...</td>\n",
       "      <td>...</td>\n",
       "    </tr>\n",
       "    <tr>\n",
       "      <th>2019-11-10</th>\n",
       "      <td>0</td>\n",
       "      <td>1.00</td>\n",
       "    </tr>\n",
       "    <tr>\n",
       "      <th>2019-11-17</th>\n",
       "      <td>0</td>\n",
       "      <td>1.00</td>\n",
       "    </tr>\n",
       "    <tr>\n",
       "      <th>2019-11-24</th>\n",
       "      <td>0</td>\n",
       "      <td>1.00</td>\n",
       "    </tr>\n",
       "    <tr>\n",
       "      <th>2019-12-01</th>\n",
       "      <td>0</td>\n",
       "      <td>1.00</td>\n",
       "    </tr>\n",
       "    <tr>\n",
       "      <th>2019-12-08</th>\n",
       "      <td>1</td>\n",
       "      <td>40.00</td>\n",
       "    </tr>\n",
       "  </tbody>\n",
       "</table>\n",
       "<p>332 rows × 2 columns</p>\n",
       "</div>"
      ],
      "text/plain": [
       "                 victoza  vict_dollars\n",
       "Date_of_Payment                       \n",
       "2013-08-04             9         87.87\n",
       "2013-08-11            33       2699.44\n",
       "2013-08-18            16        268.06\n",
       "2013-08-25            25       2669.66\n",
       "2013-09-01             0          1.00\n",
       "...                  ...           ...\n",
       "2019-11-10             0          1.00\n",
       "2019-11-17             0          1.00\n",
       "2019-11-24             0          1.00\n",
       "2019-12-01             0          1.00\n",
       "2019-12-08             1         40.00\n",
       "\n",
       "[332 rows x 2 columns]"
      ]
     },
     "execution_count": 17,
     "metadata": {},
     "output_type": "execute_result"
    }
   ],
   "source": [
    "train = victoza_wkly.loc[:'2019-12-31']\n",
    "train"
   ]
  },
  {
   "cell_type": "code",
   "execution_count": 18,
   "metadata": {},
   "outputs": [
    {
     "data": {
      "text/plain": [
       "6786.91"
      ]
     },
     "execution_count": 18,
     "metadata": {},
     "output_type": "execute_result"
    }
   ],
   "source": [
    "train['vict_dollars'].max()"
   ]
  },
  {
   "cell_type": "code",
   "execution_count": 19,
   "metadata": {},
   "outputs": [
    {
     "data": {
      "text/html": [
       "<div>\n",
       "<style scoped>\n",
       "    .dataframe tbody tr th:only-of-type {\n",
       "        vertical-align: middle;\n",
       "    }\n",
       "\n",
       "    .dataframe tbody tr th {\n",
       "        vertical-align: top;\n",
       "    }\n",
       "\n",
       "    .dataframe thead th {\n",
       "        text-align: right;\n",
       "    }\n",
       "</style>\n",
       "<table border=\"1\" class=\"dataframe\">\n",
       "  <thead>\n",
       "    <tr style=\"text-align: right;\">\n",
       "      <th></th>\n",
       "      <th>victoza</th>\n",
       "      <th>vict_dollars</th>\n",
       "    </tr>\n",
       "  </thead>\n",
       "  <tbody>\n",
       "    <tr>\n",
       "      <th>count</th>\n",
       "      <td>332.000000</td>\n",
       "      <td>332.000000</td>\n",
       "    </tr>\n",
       "    <tr>\n",
       "      <th>mean</th>\n",
       "      <td>19.256024</td>\n",
       "      <td>552.545060</td>\n",
       "    </tr>\n",
       "    <tr>\n",
       "      <th>std</th>\n",
       "      <td>14.256099</td>\n",
       "      <td>1150.398493</td>\n",
       "    </tr>\n",
       "    <tr>\n",
       "      <th>min</th>\n",
       "      <td>0.000000</td>\n",
       "      <td>1.000000</td>\n",
       "    </tr>\n",
       "    <tr>\n",
       "      <th>25%</th>\n",
       "      <td>6.750000</td>\n",
       "      <td>57.317500</td>\n",
       "    </tr>\n",
       "    <tr>\n",
       "      <th>50%</th>\n",
       "      <td>19.500000</td>\n",
       "      <td>196.055000</td>\n",
       "    </tr>\n",
       "    <tr>\n",
       "      <th>75%</th>\n",
       "      <td>29.000000</td>\n",
       "      <td>354.115000</td>\n",
       "    </tr>\n",
       "    <tr>\n",
       "      <th>max</th>\n",
       "      <td>61.000000</td>\n",
       "      <td>6786.910000</td>\n",
       "    </tr>\n",
       "  </tbody>\n",
       "</table>\n",
       "</div>"
      ],
      "text/plain": [
       "          victoza  vict_dollars\n",
       "count  332.000000    332.000000\n",
       "mean    19.256024    552.545060\n",
       "std     14.256099   1150.398493\n",
       "min      0.000000      1.000000\n",
       "25%      6.750000     57.317500\n",
       "50%     19.500000    196.055000\n",
       "75%     29.000000    354.115000\n",
       "max     61.000000   6786.910000"
      ]
     },
     "execution_count": 19,
     "metadata": {},
     "output_type": "execute_result"
    }
   ],
   "source": [
    "train.describe()"
   ]
  },
  {
   "cell_type": "code",
   "execution_count": 20,
   "metadata": {},
   "outputs": [],
   "source": [
    "train.index.freq = 'W' "
   ]
  },
  {
   "cell_type": "code",
   "execution_count": 21,
   "metadata": {},
   "outputs": [
    {
     "data": {
      "text/plain": [
       "(332, 2)"
      ]
     },
     "execution_count": 21,
     "metadata": {},
     "output_type": "execute_result"
    }
   ],
   "source": [
    "train.shape"
   ]
  },
  {
   "cell_type": "code",
   "execution_count": 22,
   "metadata": {},
   "outputs": [
    {
     "name": "stdout",
     "output_type": "stream",
     "text": [
      "<class 'pandas.core.frame.DataFrame'>\n",
      "DatetimeIndex: 332 entries, 2013-08-04 to 2019-12-08\n",
      "Freq: W-SUN\n",
      "Data columns (total 2 columns):\n",
      " #   Column        Non-Null Count  Dtype  \n",
      "---  ------        --------------  -----  \n",
      " 0   victoza       332 non-null    int64  \n",
      " 1   vict_dollars  332 non-null    float64\n",
      "dtypes: float64(1), int64(1)\n",
      "memory usage: 7.8 KB\n"
     ]
    }
   ],
   "source": [
    "train.info()"
   ]
  },
  {
   "cell_type": "code",
   "execution_count": 23,
   "metadata": {},
   "outputs": [
    {
     "data": {
      "text/plain": [
       "DatetimeIndex(['2013-08-04', '2013-08-11', '2013-08-18', '2013-08-25',\n",
       "               '2013-09-01', '2013-09-08', '2013-09-15', '2013-09-22',\n",
       "               '2013-09-29', '2013-10-06',\n",
       "               ...\n",
       "               '2019-10-06', '2019-10-13', '2019-10-20', '2019-10-27',\n",
       "               '2019-11-03', '2019-11-10', '2019-11-17', '2019-11-24',\n",
       "               '2019-12-01', '2019-12-08'],\n",
       "              dtype='datetime64[ns]', name='Date_of_Payment', length=332, freq='W-SUN')"
      ]
     },
     "execution_count": 23,
     "metadata": {},
     "output_type": "execute_result"
    }
   ],
   "source": [
    "train.index"
   ]
  },
  {
   "cell_type": "code",
   "execution_count": 24,
   "metadata": {},
   "outputs": [
    {
     "data": {
      "text/html": [
       "<div>\n",
       "<style scoped>\n",
       "    .dataframe tbody tr th:only-of-type {\n",
       "        vertical-align: middle;\n",
       "    }\n",
       "\n",
       "    .dataframe tbody tr th {\n",
       "        vertical-align: top;\n",
       "    }\n",
       "\n",
       "    .dataframe thead th {\n",
       "        text-align: right;\n",
       "    }\n",
       "</style>\n",
       "<table border=\"1\" class=\"dataframe\">\n",
       "  <thead>\n",
       "    <tr style=\"text-align: right;\">\n",
       "      <th></th>\n",
       "      <th>victoza</th>\n",
       "      <th>vict_dollars</th>\n",
       "    </tr>\n",
       "    <tr>\n",
       "      <th>Date_of_Payment</th>\n",
       "      <th></th>\n",
       "      <th></th>\n",
       "    </tr>\n",
       "  </thead>\n",
       "  <tbody>\n",
       "  </tbody>\n",
       "</table>\n",
       "</div>"
      ],
      "text/plain": [
       "Empty DataFrame\n",
       "Columns: [victoza, vict_dollars]\n",
       "Index: []"
      ]
     },
     "execution_count": 24,
     "metadata": {},
     "output_type": "execute_result"
    }
   ],
   "source": [
    "test = victoza_wkly.loc['2020-01-01':]\n",
    "test"
   ]
  },
  {
   "cell_type": "code",
   "execution_count": 25,
   "metadata": {},
   "outputs": [
    {
     "data": {
      "text/html": [
       "<div>\n",
       "<style scoped>\n",
       "    .dataframe tbody tr th:only-of-type {\n",
       "        vertical-align: middle;\n",
       "    }\n",
       "\n",
       "    .dataframe tbody tr th {\n",
       "        vertical-align: top;\n",
       "    }\n",
       "\n",
       "    .dataframe thead th {\n",
       "        text-align: right;\n",
       "    }\n",
       "</style>\n",
       "<table border=\"1\" class=\"dataframe\">\n",
       "  <thead>\n",
       "    <tr style=\"text-align: right;\">\n",
       "      <th></th>\n",
       "      <th>victoza</th>\n",
       "      <th>vict_dollars</th>\n",
       "    </tr>\n",
       "  </thead>\n",
       "  <tbody>\n",
       "    <tr>\n",
       "      <th>count</th>\n",
       "      <td>0.0</td>\n",
       "      <td>0.0</td>\n",
       "    </tr>\n",
       "    <tr>\n",
       "      <th>mean</th>\n",
       "      <td>NaN</td>\n",
       "      <td>NaN</td>\n",
       "    </tr>\n",
       "    <tr>\n",
       "      <th>std</th>\n",
       "      <td>NaN</td>\n",
       "      <td>NaN</td>\n",
       "    </tr>\n",
       "    <tr>\n",
       "      <th>min</th>\n",
       "      <td>NaN</td>\n",
       "      <td>NaN</td>\n",
       "    </tr>\n",
       "    <tr>\n",
       "      <th>25%</th>\n",
       "      <td>NaN</td>\n",
       "      <td>NaN</td>\n",
       "    </tr>\n",
       "    <tr>\n",
       "      <th>50%</th>\n",
       "      <td>NaN</td>\n",
       "      <td>NaN</td>\n",
       "    </tr>\n",
       "    <tr>\n",
       "      <th>75%</th>\n",
       "      <td>NaN</td>\n",
       "      <td>NaN</td>\n",
       "    </tr>\n",
       "    <tr>\n",
       "      <th>max</th>\n",
       "      <td>NaN</td>\n",
       "      <td>NaN</td>\n",
       "    </tr>\n",
       "  </tbody>\n",
       "</table>\n",
       "</div>"
      ],
      "text/plain": [
       "       victoza  vict_dollars\n",
       "count      0.0           0.0\n",
       "mean       NaN           NaN\n",
       "std        NaN           NaN\n",
       "min        NaN           NaN\n",
       "25%        NaN           NaN\n",
       "50%        NaN           NaN\n",
       "75%        NaN           NaN\n",
       "max        NaN           NaN"
      ]
     },
     "execution_count": 25,
     "metadata": {},
     "output_type": "execute_result"
    }
   ],
   "source": [
    "test.describe()"
   ]
  },
  {
   "cell_type": "code",
   "execution_count": 26,
   "metadata": {},
   "outputs": [
    {
     "data": {
      "text/plain": [
       "(0, 2)"
      ]
     },
     "execution_count": 26,
     "metadata": {},
     "output_type": "execute_result"
    }
   ],
   "source": [
    "test.shape"
   ]
  },
  {
   "cell_type": "code",
   "execution_count": 27,
   "metadata": {},
   "outputs": [
    {
     "data": {
      "image/png": "[encoded data removed]",
      "text/plain": [
       "<Figure size 864x576 with 1 Axes>"
      ]
     },
     "metadata": {
      "needs_background": "light"
     },
     "output_type": "display_data"
    }
   ],
   "source": [
    "plt.figure(figsize=(12,8))\n",
    "\n",
    "plt.plot(train.index, train['vict_dollars'], label='Train')\n",
    "plt.plot(test.index, test['vict_dollars'], label='Test')\n",
    "\n",
    "plt.legend(loc='best')\n",
    "plt.title(\"Weekly Payments for Victoza Drug\");"
   ]
  },
  {
   "cell_type": "markdown",
   "metadata": {},
   "source": [
    "Baseline (Naive Model)"
   ]
  },
  {
   "cell_type": "code",
   "execution_count": 28,
   "metadata": {},
   "outputs": [
    {
     "data": {
      "text/html": [
       "<div>\n",
       "<style scoped>\n",
       "    .dataframe tbody tr th:only-of-type {\n",
       "        vertical-align: middle;\n",
       "    }\n",
       "\n",
       "    .dataframe tbody tr th {\n",
       "        vertical-align: top;\n",
       "    }\n",
       "\n",
       "    .dataframe thead th {\n",
       "        text-align: right;\n",
       "    }\n",
       "</style>\n",
       "<table border=\"1\" class=\"dataframe\">\n",
       "  <thead>\n",
       "    <tr style=\"text-align: right;\">\n",
       "      <th></th>\n",
       "      <th>victoza</th>\n",
       "      <th>vict_dollars</th>\n",
       "    </tr>\n",
       "    <tr>\n",
       "      <th>Date_of_Payment</th>\n",
       "      <th></th>\n",
       "      <th></th>\n",
       "    </tr>\n",
       "  </thead>\n",
       "  <tbody>\n",
       "  </tbody>\n",
       "</table>\n",
       "</div>"
      ],
      "text/plain": [
       "Empty DataFrame\n",
       "Columns: [victoza, vict_dollars]\n",
       "Index: []"
      ]
     },
     "execution_count": 28,
     "metadata": {},
     "output_type": "execute_result"
    }
   ],
   "source": [
    "df_preds = test.copy(deep=True)\n",
    "df_preds"
   ]
  },
  {
   "cell_type": "code",
   "execution_count": 29,
   "metadata": {},
   "outputs": [
    {
     "data": {
      "text/html": [
       "<div>\n",
       "<style scoped>\n",
       "    .dataframe tbody tr th:only-of-type {\n",
       "        vertical-align: middle;\n",
       "    }\n",
       "\n",
       "    .dataframe tbody tr th {\n",
       "        vertical-align: top;\n",
       "    }\n",
       "\n",
       "    .dataframe thead th {\n",
       "        text-align: right;\n",
       "    }\n",
       "</style>\n",
       "<table border=\"1\" class=\"dataframe\">\n",
       "  <thead>\n",
       "    <tr style=\"text-align: right;\">\n",
       "      <th></th>\n",
       "      <th>victoza</th>\n",
       "      <th>vict_dollars</th>\n",
       "      <th>simple_mean</th>\n",
       "    </tr>\n",
       "    <tr>\n",
       "      <th>Date_of_Payment</th>\n",
       "      <th></th>\n",
       "      <th></th>\n",
       "      <th></th>\n",
       "    </tr>\n",
       "  </thead>\n",
       "  <tbody>\n",
       "  </tbody>\n",
       "</table>\n",
       "</div>"
      ],
      "text/plain": [
       "Empty DataFrame\n",
       "Columns: [victoza, vict_dollars, simple_mean]\n",
       "Index: []"
      ]
     },
     "execution_count": 29,
     "metadata": {},
     "output_type": "execute_result"
    }
   ],
   "source": [
    "df_preds['simple_mean'] = train['vict_dollars'].mean()\n",
    "df_preds"
   ]
  },
  {
   "cell_type": "code",
   "execution_count": 30,
   "metadata": {},
   "outputs": [
    {
     "data": {
      "image/png": "[encoded data removed]",
      "text/plain": [
       "<Figure size 864x576 with 1 Axes>"
      ]
     },
     "metadata": {
      "needs_background": "light"
     },
     "output_type": "display_data"
    }
   ],
   "source": [
    "plt.figure(figsize=(12,8))\n",
    "\n",
    "plt.plot(train.index, train['vict_dollars'], label='Train')\n",
    "plt.plot(test.index, test['vict_dollars'], label='Test')\n",
    "plt.plot(df_preds.index, df_preds['simple_mean'], label=\"Baseline (Mean)\")\n",
    "\n",
    "plt.legend(loc='best')\n",
    "plt.title(\"Baseline (Mean) Forecast for Weekly Victoza Payments\");"
   ]
  },
  {
   "cell_type": "code",
   "execution_count": 31,
   "metadata": {},
   "outputs": [
    {
     "ename": "ValueError",
     "evalue": "Found array with 0 sample(s) (shape=(0,)) while a minimum of 1 is required.",
     "output_type": "error",
     "traceback": [
      "\u001b[1;31m---------------------------------------------------------------------------\u001b[0m",
      "\u001b[1;31mValueError\u001b[0m                                Traceback (most recent call last)",
      "Input \u001b[1;32mIn [31]\u001b[0m, in \u001b[0;36m<cell line: 3>\u001b[1;34m()\u001b[0m\n\u001b[0;32m      1\u001b[0m \u001b[38;5;28;01mfrom\u001b[39;00m \u001b[38;5;21;01msklearn\u001b[39;00m\u001b[38;5;21;01m.\u001b[39;00m\u001b[38;5;21;01mmetrics\u001b[39;00m \u001b[38;5;28;01mimport\u001b[39;00m mean_absolute_error\n\u001b[1;32m----> 3\u001b[0m \u001b[43mmean_absolute_error\u001b[49m\u001b[43m(\u001b[49m\u001b[43mdf_preds\u001b[49m\u001b[43m[\u001b[49m\u001b[38;5;124;43m'\u001b[39;49m\u001b[38;5;124;43mvict_dollars\u001b[39;49m\u001b[38;5;124;43m'\u001b[39;49m\u001b[43m]\u001b[49m\u001b[43m,\u001b[49m\u001b[43m \u001b[49m\u001b[43mdf_preds\u001b[49m\u001b[43m[\u001b[49m\u001b[38;5;124;43m'\u001b[39;49m\u001b[38;5;124;43msimple_mean\u001b[39;49m\u001b[38;5;124;43m'\u001b[39;49m\u001b[43m]\u001b[49m\u001b[43m)\u001b[49m\n",
      "File \u001b[1;32m~\\anaconda3\\lib\\site-packages\\sklearn\\metrics\\_regression.py:191\u001b[0m, in \u001b[0;36mmean_absolute_error\u001b[1;34m(y_true, y_pred, sample_weight, multioutput)\u001b[0m\n\u001b[0;32m    135\u001b[0m \u001b[38;5;28;01mdef\u001b[39;00m \u001b[38;5;21mmean_absolute_error\u001b[39m(\n\u001b[0;32m    136\u001b[0m     y_true, y_pred, \u001b[38;5;241m*\u001b[39m, sample_weight\u001b[38;5;241m=\u001b[39m\u001b[38;5;28;01mNone\u001b[39;00m, multioutput\u001b[38;5;241m=\u001b[39m\u001b[38;5;124m\"\u001b[39m\u001b[38;5;124muniform_average\u001b[39m\u001b[38;5;124m\"\u001b[39m\n\u001b[0;32m    137\u001b[0m ):\n\u001b[0;32m    138\u001b[0m     \u001b[38;5;124;03m\"\"\"Mean absolute error regression loss.\u001b[39;00m\n\u001b[0;32m    139\u001b[0m \n\u001b[0;32m    140\u001b[0m \u001b[38;5;124;03m    Read more in the :ref:`User Guide <mean_absolute_error>`.\u001b[39;00m\n\u001b[1;32m   (...)\u001b[0m\n\u001b[0;32m    189\u001b[0m \u001b[38;5;124;03m    0.85...\u001b[39;00m\n\u001b[0;32m    190\u001b[0m \u001b[38;5;124;03m    \"\"\"\u001b[39;00m\n\u001b[1;32m--> 191\u001b[0m     y_type, y_true, y_pred, multioutput \u001b[38;5;241m=\u001b[39m \u001b[43m_check_reg_targets\u001b[49m\u001b[43m(\u001b[49m\n\u001b[0;32m    192\u001b[0m \u001b[43m        \u001b[49m\u001b[43my_true\u001b[49m\u001b[43m,\u001b[49m\u001b[43m \u001b[49m\u001b[43my_pred\u001b[49m\u001b[43m,\u001b[49m\u001b[43m \u001b[49m\u001b[43mmultioutput\u001b[49m\n\u001b[0;32m    193\u001b[0m \u001b[43m    \u001b[49m\u001b[43m)\u001b[49m\n\u001b[0;32m    194\u001b[0m     check_consistent_length(y_true, y_pred, sample_weight)\n\u001b[0;32m    195\u001b[0m     output_errors \u001b[38;5;241m=\u001b[39m np\u001b[38;5;241m.\u001b[39maverage(np\u001b[38;5;241m.\u001b[39mabs(y_pred \u001b[38;5;241m-\u001b[39m y_true), weights\u001b[38;5;241m=\u001b[39msample_weight, axis\u001b[38;5;241m=\u001b[39m\u001b[38;5;241m0\u001b[39m)\n",
      "File \u001b[1;32m~\\anaconda3\\lib\\site-packages\\sklearn\\metrics\\_regression.py:95\u001b[0m, in \u001b[0;36m_check_reg_targets\u001b[1;34m(y_true, y_pred, multioutput, dtype)\u001b[0m\n\u001b[0;32m     61\u001b[0m \u001b[38;5;124;03m\"\"\"Check that y_true and y_pred belong to the same regression task.\u001b[39;00m\n\u001b[0;32m     62\u001b[0m \n\u001b[0;32m     63\u001b[0m \u001b[38;5;124;03mParameters\u001b[39;00m\n\u001b[1;32m   (...)\u001b[0m\n\u001b[0;32m     92\u001b[0m \u001b[38;5;124;03m    the dtype argument passed to check_array.\u001b[39;00m\n\u001b[0;32m     93\u001b[0m \u001b[38;5;124;03m\"\"\"\u001b[39;00m\n\u001b[0;32m     94\u001b[0m check_consistent_length(y_true, y_pred)\n\u001b[1;32m---> 95\u001b[0m y_true \u001b[38;5;241m=\u001b[39m \u001b[43mcheck_array\u001b[49m\u001b[43m(\u001b[49m\u001b[43my_true\u001b[49m\u001b[43m,\u001b[49m\u001b[43m \u001b[49m\u001b[43mensure_2d\u001b[49m\u001b[38;5;241;43m=\u001b[39;49m\u001b[38;5;28;43;01mFalse\u001b[39;49;00m\u001b[43m,\u001b[49m\u001b[43m \u001b[49m\u001b[43mdtype\u001b[49m\u001b[38;5;241;43m=\u001b[39;49m\u001b[43mdtype\u001b[49m\u001b[43m)\u001b[49m\n\u001b[0;32m     96\u001b[0m y_pred \u001b[38;5;241m=\u001b[39m check_array(y_pred, ensure_2d\u001b[38;5;241m=\u001b[39m\u001b[38;5;28;01mFalse\u001b[39;00m, dtype\u001b[38;5;241m=\u001b[39mdtype)\n\u001b[0;32m     98\u001b[0m \u001b[38;5;28;01mif\u001b[39;00m y_true\u001b[38;5;241m.\u001b[39mndim \u001b[38;5;241m==\u001b[39m \u001b[38;5;241m1\u001b[39m:\n",
      "File \u001b[1;32m~\\anaconda3\\lib\\site-packages\\sklearn\\utils\\validation.py:805\u001b[0m, in \u001b[0;36mcheck_array\u001b[1;34m(array, accept_sparse, accept_large_sparse, dtype, order, copy, force_all_finite, ensure_2d, allow_nd, ensure_min_samples, ensure_min_features, estimator)\u001b[0m\n\u001b[0;32m    803\u001b[0m     n_samples \u001b[38;5;241m=\u001b[39m _num_samples(array)\n\u001b[0;32m    804\u001b[0m     \u001b[38;5;28;01mif\u001b[39;00m n_samples \u001b[38;5;241m<\u001b[39m ensure_min_samples:\n\u001b[1;32m--> 805\u001b[0m         \u001b[38;5;28;01mraise\u001b[39;00m \u001b[38;5;167;01mValueError\u001b[39;00m(\n\u001b[0;32m    806\u001b[0m             \u001b[38;5;124m\"\u001b[39m\u001b[38;5;124mFound array with \u001b[39m\u001b[38;5;132;01m%d\u001b[39;00m\u001b[38;5;124m sample(s) (shape=\u001b[39m\u001b[38;5;132;01m%s\u001b[39;00m\u001b[38;5;124m) while a\u001b[39m\u001b[38;5;124m\"\u001b[39m\n\u001b[0;32m    807\u001b[0m             \u001b[38;5;124m\"\u001b[39m\u001b[38;5;124m minimum of \u001b[39m\u001b[38;5;132;01m%d\u001b[39;00m\u001b[38;5;124m is required\u001b[39m\u001b[38;5;132;01m%s\u001b[39;00m\u001b[38;5;124m.\u001b[39m\u001b[38;5;124m\"\u001b[39m\n\u001b[0;32m    808\u001b[0m             \u001b[38;5;241m%\u001b[39m (n_samples, array\u001b[38;5;241m.\u001b[39mshape, ensure_min_samples, context)\n\u001b[0;32m    809\u001b[0m         )\n\u001b[0;32m    811\u001b[0m \u001b[38;5;28;01mif\u001b[39;00m ensure_min_features \u001b[38;5;241m>\u001b[39m \u001b[38;5;241m0\u001b[39m \u001b[38;5;129;01mand\u001b[39;00m array\u001b[38;5;241m.\u001b[39mndim \u001b[38;5;241m==\u001b[39m \u001b[38;5;241m2\u001b[39m:\n\u001b[0;32m    812\u001b[0m     n_features \u001b[38;5;241m=\u001b[39m array\u001b[38;5;241m.\u001b[39mshape[\u001b[38;5;241m1\u001b[39m]\n",
      "\u001b[1;31mValueError\u001b[0m: Found array with 0 sample(s) (shape=(0,)) while a minimum of 1 is required."
     ]
    }
   ],
   "source": [
    "from sklearn.metrics import mean_absolute_error\n",
    "\n",
    "mean_absolute_error(df_preds['vict_dollars'], df_preds['simple_mean'])"
   ]
  },
  {
   "cell_type": "markdown",
   "metadata": {},
   "source": [
    "Make a Seasonal Baseline Model"
   ]
  },
  {
   "cell_type": "code",
   "execution_count": null,
   "metadata": {},
   "outputs": [],
   "source": [
    "df_preds['seasonal_52'] = train['vict_dollars'].shift(52, freq='W-SUN') \n",
    "df_preds.head(2)"
   ]
  },
  {
   "cell_type": "code",
   "execution_count": null,
   "metadata": {},
   "outputs": [],
   "source": [
    "plt.figure(figsize=(12,8))\n",
    "\n",
    "plt.plot(train.index, train['vict_dollars'], label='Train')\n",
    "plt.plot(test.index, test['vict_dollars'], label='Test')\n",
    "plt.plot(df_preds.index, df_preds['seasonal_52'], label='Seasonal')\n",
    "\n",
    "plt.legend(loc='best')\n",
    "plt.title(\"Seasonal 52 Forecast for Weekly Victoza Payments\");"
   ]
  },
  {
   "cell_type": "code",
   "execution_count": null,
   "metadata": {},
   "outputs": [],
   "source": [
    "mean_absolute_error(df_preds['vict_dollars'], df_preds['seasonal_52'])"
   ]
  },
  {
   "cell_type": "markdown",
   "metadata": {},
   "source": [
    "This is barely slightly better than the baseline model which had an MSE of 755.49."
   ]
  },
  {
   "cell_type": "markdown",
   "metadata": {},
   "source": [
    "Simple Exponential Smoothing Model"
   ]
  },
  {
   "cell_type": "code",
   "execution_count": null,
   "metadata": {},
   "outputs": [],
   "source": [
    "from statsmodels.tsa.api import SimpleExpSmoothing, ExponentialSmoothing"
   ]
  },
  {
   "cell_type": "code",
   "execution_count": null,
   "metadata": {},
   "outputs": [],
   "source": [
    "ses = SimpleExpSmoothing(train['vict_dollars']).fit(smoothing_level=.5)"
   ]
  },
  {
   "cell_type": "code",
   "execution_count": null,
   "metadata": {},
   "outputs": [],
   "source": [
    "ses.summary()"
   ]
  },
  {
   "cell_type": "code",
   "execution_count": null,
   "metadata": {},
   "outputs": [],
   "source": [
    "ses_forecast = ses.forecast(len(test))"
   ]
  },
  {
   "cell_type": "code",
   "execution_count": null,
   "metadata": {},
   "outputs": [],
   "source": [
    "df_preds['ses'] = ses_forecast"
   ]
  },
  {
   "cell_type": "code",
   "execution_count": null,
   "metadata": {},
   "outputs": [],
   "source": [
    "plt.figure(figsize=(12,8))\n",
    "\n",
    "plt.plot(train.index, train['vict_dollars'], label='Train')\n",
    "plt.plot(test.index, test['vict_dollars'], label='Test')\n",
    "plt.plot(df_preds.index, df_preds['ses'], label='Simple Exponential Smoothing')\n",
    "\n",
    "plt.legend(loc='best')\n",
    "plt.title(\"Simple Exponential Smoothing for Victoza Weekly Payments\");"
   ]
  },
  {
   "cell_type": "code",
   "execution_count": null,
   "metadata": {},
   "outputs": [],
   "source": [
    "mean_absolute_error(df_preds['vict_dollars'], df_preds['ses'])"
   ]
  },
  {
   "cell_type": "markdown",
   "metadata": {},
   "source": [
    "This is horrible!  The MSE is nearly twice that of the baseline and seasonal models!  Will discard this model."
   ]
  },
  {
   "cell_type": "markdown",
   "metadata": {},
   "source": [
    "Holt-Winters Multiplicative Model with Seasonality of 52"
   ]
  },
  {
   "cell_type": "code",
   "execution_count": null,
   "metadata": {},
   "outputs": [],
   "source": [
    "hw_m52 = ExponentialSmoothing(\n",
    "    train['vict_dollars'],\n",
    "    seasonal_periods=52, \n",
    "    trend='mul',\n",
    "    seasonal='mul'\n",
    ").fit()"
   ]
  },
  {
   "cell_type": "code",
   "execution_count": null,
   "metadata": {},
   "outputs": [],
   "source": [
    "hw_m52.summary()"
   ]
  },
  {
   "cell_type": "code",
   "execution_count": null,
   "metadata": {},
   "outputs": [],
   "source": [
    "df_preds['hw_m52'] = hw_m52.forecast(len(test))\n",
    "df_preds.head(2)"
   ]
  },
  {
   "cell_type": "code",
   "execution_count": null,
   "metadata": {},
   "outputs": [],
   "source": [
    "plt.figure(figsize=(12,8))\n",
    "\n",
    "plt.plot(train.index, train['vict_dollars'], label='Train')\n",
    "plt.plot(test.index, test['vict_dollars'], label='Test')\n",
    "plt.plot(df_preds.index, df_preds['hw_m52'], label='Holt-Winters')\n",
    "\n",
    "plt.legend(loc='best')\n",
    "plt.title(\"Holt-Winters Multiplicative with Seasonality of 52\");"
   ]
  },
  {
   "cell_type": "code",
   "execution_count": null,
   "metadata": {},
   "outputs": [],
   "source": [
    "mean_absolute_error(df_preds[\"vict_dollars\"], df_preds[\"hw_m52\"])"
   ]
  },
  {
   "cell_type": "markdown",
   "metadata": {},
   "source": [
    "This is not as good as the baseline or the seasonal models!"
   ]
  },
  {
   "cell_type": "markdown",
   "metadata": {},
   "source": [
    "Now, try an additive Holt-Winters Model with a seasonal period of 52."
   ]
  },
  {
   "cell_type": "code",
   "execution_count": null,
   "metadata": {},
   "outputs": [],
   "source": [
    "hw_a52 = ExponentialSmoothing(\n",
    "    train['vict_dollars'],\n",
    "    seasonal_periods=52, \n",
    "    trend='add',\n",
    "    seasonal='add'\n",
    ").fit()"
   ]
  },
  {
   "cell_type": "code",
   "execution_count": null,
   "metadata": {},
   "outputs": [],
   "source": [
    "hw_a52.summary()"
   ]
  },
  {
   "cell_type": "code",
   "execution_count": null,
   "metadata": {},
   "outputs": [],
   "source": [
    "df_preds['hw_a52'] = hw_a52.forecast(len(test))\n",
    "df_preds.head(2)"
   ]
  },
  {
   "cell_type": "code",
   "execution_count": null,
   "metadata": {},
   "outputs": [],
   "source": [
    "plt.figure(figsize=(12,8))\n",
    "\n",
    "plt.plot(train.index, train['vict_dollars'], label='Train')\n",
    "plt.plot(test.index, test['vict_dollars'], label='Test')\n",
    "plt.plot(df_preds.index, df_preds['hw_a52'], label='Holt-Winters')\n",
    "\n",
    "plt.legend(loc='best')\n",
    "plt.title(\"Holt-Winters Additive Model with Seasonality of 52 for Weekly Victoza Payments\");"
   ]
  },
  {
   "cell_type": "code",
   "execution_count": null,
   "metadata": {},
   "outputs": [],
   "source": [
    "mean_absolute_error(df_preds[\"vict_dollars\"], df_preds[\"hw_a52\"])"
   ]
  },
  {
   "cell_type": "markdown",
   "metadata": {},
   "source": [
    "Not good at all!"
   ]
  },
  {
   "cell_type": "markdown",
   "metadata": {},
   "source": [
    "Now, try an additive Holt-Winters Model with a seasonal period of 7."
   ]
  },
  {
   "cell_type": "code",
   "execution_count": null,
   "metadata": {},
   "outputs": [],
   "source": [
    "hw_a7 = ExponentialSmoothing(\n",
    "    train['vict_dollars'],\n",
    "    seasonal_periods=7, \n",
    "    trend='add',\n",
    "    seasonal='add'\n",
    ").fit()"
   ]
  },
  {
   "cell_type": "code",
   "execution_count": null,
   "metadata": {},
   "outputs": [],
   "source": [
    "hw_a7.summary()"
   ]
  },
  {
   "cell_type": "code",
   "execution_count": null,
   "metadata": {},
   "outputs": [],
   "source": [
    "df_preds['hw_a7'] = hw_a7.forecast(len(test))\n",
    "df_preds.head(2)"
   ]
  },
  {
   "cell_type": "code",
   "execution_count": null,
   "metadata": {},
   "outputs": [],
   "source": [
    "plt.figure(figsize=(12,8))\n",
    "\n",
    "plt.plot(train.index, train['vict_dollars'], label='Train')\n",
    "plt.plot(test.index, test['vict_dollars'], label='Test')\n",
    "plt.plot(df_preds.index, df_preds['hw_a7'], label='Holt-Winters')\n",
    "\n",
    "plt.legend(loc='best')\n",
    "plt.title(\"Holt-Winters Additive Model with Seasonality of 7 for Weekly Payments for Victoza\");"
   ]
  },
  {
   "cell_type": "code",
   "execution_count": null,
   "metadata": {},
   "outputs": [],
   "source": [
    "mean_absolute_error(df_preds[\"vict_dollars\"], df_preds[\"hw_a7\"])"
   ]
  },
  {
   "cell_type": "markdown",
   "metadata": {},
   "source": [
    "This looks pretty bad!"
   ]
  },
  {
   "cell_type": "markdown",
   "metadata": {},
   "source": [
    "Now, try a multiplicative Holt-Winters Model with a seasonal period of 7."
   ]
  },
  {
   "cell_type": "code",
   "execution_count": null,
   "metadata": {},
   "outputs": [],
   "source": [
    "hw_m7 = ExponentialSmoothing(\n",
    "    train['vict_dollars'],\n",
    "    seasonal_periods=7, \n",
    "    trend='mul',\n",
    "    seasonal='mul'\n",
    ").fit()"
   ]
  },
  {
   "cell_type": "code",
   "execution_count": null,
   "metadata": {},
   "outputs": [],
   "source": [
    "hw_m7.summary()"
   ]
  },
  {
   "cell_type": "code",
   "execution_count": null,
   "metadata": {},
   "outputs": [],
   "source": [
    "df_preds['hw_m7'] = hw_m7.forecast(len(test))\n",
    "df_preds.head(2)"
   ]
  },
  {
   "cell_type": "code",
   "execution_count": null,
   "metadata": {},
   "outputs": [],
   "source": [
    "plt.figure(figsize=(12,8))\n",
    "\n",
    "plt.plot(train.index, train['vict_dollars'], label='Train')\n",
    "plt.plot(test.index, test['vict_dollars'], label='Test')\n",
    "plt.plot(df_preds.index, df_preds['hw_m7'], label='Holt Winters')\n",
    "\n",
    "plt.legend(loc='best')\n",
    "plt.title(\"Holt-Winters Muliplicative Seasonality of 7 Model for Victoza Weekly Payments\");"
   ]
  },
  {
   "cell_type": "code",
   "execution_count": null,
   "metadata": {},
   "outputs": [],
   "source": [
    "mean_absolute_error(df_preds[\"vict_dollars\"], df_preds[\"hw_m7\"])"
   ]
  },
  {
   "cell_type": "markdown",
   "metadata": {},
   "source": [
    "Beats seasonal 52 and baseline mean models, but prediction curve just looks all wrong!"
   ]
  },
  {
   "cell_type": "markdown",
   "metadata": {},
   "source": [
    "Try a SARIMA Model"
   ]
  },
  {
   "cell_type": "code",
   "execution_count": null,
   "metadata": {},
   "outputs": [],
   "source": [
    "from pmdarima.utils import tsdisplay"
   ]
  },
  {
   "cell_type": "code",
   "execution_count": null,
   "metadata": {},
   "outputs": [],
   "source": [
    "traina = train['vict_dollars']"
   ]
  },
  {
   "cell_type": "code",
   "execution_count": null,
   "metadata": {},
   "outputs": [],
   "source": [
    "tsdisplay(traina)"
   ]
  },
  {
   "cell_type": "code",
   "execution_count": null,
   "metadata": {},
   "outputs": [],
   "source": [
    "import pmdarima as pmd\n",
    "model_s7 = pmd.auto_arima(train['vict_dollars'], m=7, trace=True)"
   ]
  },
  {
   "cell_type": "code",
   "execution_count": null,
   "metadata": {},
   "outputs": [],
   "source": [
    "model_s7.summary()"
   ]
  },
  {
   "cell_type": "code",
   "execution_count": null,
   "metadata": {},
   "outputs": [],
   "source": [
    "preds_sar7 = model_s7.predict(test.shape[0])\n",
    "preds_sar7"
   ]
  },
  {
   "cell_type": "code",
   "execution_count": null,
   "metadata": {},
   "outputs": [],
   "source": [
    "df_preds['sarima7_auto'] = preds_sar7\n",
    "df_preds['sarima7_auto'].head(2)"
   ]
  },
  {
   "cell_type": "code",
   "execution_count": null,
   "metadata": {},
   "outputs": [],
   "source": [
    "plt.figure(figsize=(16,8))\n",
    "plt.plot(train['vict_dollars'], label='Train')\n",
    "plt.plot(test['vict_dollars'], label='Test')\n",
    "plt.plot(df_preds['sarima7_auto'], label='SARIMA_7_auto')\n",
    "plt.legend(loc='best')\n",
    "plt.title(\"SARIMA Seasonality of 7 Model for Victoza Weekly Payments\");"
   ]
  },
  {
   "cell_type": "code",
   "execution_count": null,
   "metadata": {},
   "outputs": [],
   "source": [
    "mean_absolute_error(df_preds['vict_dollars'], df_preds['sarima7_auto'])"
   ]
  },
  {
   "cell_type": "markdown",
   "metadata": {},
   "source": [
    "Try a SARIMA Model with m = 52"
   ]
  },
  {
   "cell_type": "code",
   "execution_count": null,
   "metadata": {},
   "outputs": [],
   "source": [
    "model_s52 = pmd.auto_arima(train['vict_dollars'], m=52, trace=True)"
   ]
  },
  {
   "cell_type": "code",
   "execution_count": null,
   "metadata": {},
   "outputs": [],
   "source": [
    "model_s52.summary()"
   ]
  },
  {
   "cell_type": "code",
   "execution_count": null,
   "metadata": {},
   "outputs": [],
   "source": [
    "preds_sar52 = model_s52.predict(test.shape[0])\n",
    "preds_sar52"
   ]
  },
  {
   "cell_type": "code",
   "execution_count": null,
   "metadata": {},
   "outputs": [],
   "source": [
    "df_preds['sarima52_auto'] = preds_sar52\n",
    "df_preds['sarima52_auto'].head(2)"
   ]
  },
  {
   "cell_type": "code",
   "execution_count": null,
   "metadata": {},
   "outputs": [],
   "source": [
    "plt.figure(figsize=(16,8))\n",
    "plt.plot(train['vict_dollars'], label='Train')\n",
    "plt.plot(test['vict_dollars'], label='Test')\n",
    "plt.plot(df_preds['sarima52_auto'], label='SARIMA_52_auto')\n",
    "plt.legend(loc='best')\n",
    "plt.title(\"SARIMA Seasonality of 7 Model for Victoza Weekly Payments\");"
   ]
  },
  {
   "cell_type": "code",
   "execution_count": null,
   "metadata": {},
   "outputs": [],
   "source": [
    "mean_absolute_error(df_preds['vict_dollars'], df_preds['sarima52_auto'])"
   ]
  },
  {
   "cell_type": "markdown",
   "metadata": {},
   "source": [
    "Look at some plots"
   ]
  },
  {
   "cell_type": "code",
   "execution_count": null,
   "metadata": {},
   "outputs": [],
   "source": [
    "from statsmodels.graphics.tsaplots import plot_acf, plot_pacf\n",
    "from statsmodels.tsa.stattools import acf, pacf"
   ]
  },
  {
   "cell_type": "code",
   "execution_count": null,
   "metadata": {},
   "outputs": [],
   "source": [
    "plot_acf(victoza['vict_dollars'], alpha=None, lags=24);"
   ]
  },
  {
   "cell_type": "code",
   "execution_count": null,
   "metadata": {},
   "outputs": [],
   "source": [
    "plot_pacf(Victoza['vict_dollars'], lags=24);"
   ]
  },
  {
   "cell_type": "code",
   "execution_count": null,
   "metadata": {},
   "outputs": [],
   "source": []
  }
 ],
 "metadata": {
  "interpreter": {
   "hash": "a210cac6bd36216e5c011d71d69db00a7646549e6b2f7edb5da22b230d34cfb7"
  },
  "kernelspec": {
   "display_name": "Python 3 (ipykernel)",
   "language": "python",
   "name": "python3"
  },
  "language_info": {
   "codemirror_mode": {
    "name": "ipython",
    "version": 3
   },
   "file_extension": ".py",
   "mimetype": "text/x-python",
   "name": "python",
   "nbconvert_exporter": "python",
   "pygments_lexer": "ipython3",
   "version": "3.9.7"
  }
 },
 "nbformat": 4,
 "nbformat_minor": 4
}
